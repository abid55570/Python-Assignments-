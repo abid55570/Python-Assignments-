{
 "cells": [
  {
   "cell_type": "markdown",
   "id": "c9a5ccbb-2e1c-4d42-95eb-5a4b0259c314",
   "metadata": {},
   "source": [
    "Assignment -2 \n",
    "Q 1 - write a program to accept percentage from the user and display the grade as per given value"
   ]
  },
  {
   "cell_type": "code",
   "execution_count": 53,
   "id": "94efb774-78a0-46e8-a59a-65d1cc887d25",
   "metadata": {},
   "outputs": [
    {
     "name": "stdin",
     "output_type": "stream",
     "text": [
      "Enter your Marks here 75\n"
     ]
    },
    {
     "name": "stdout",
     "output_type": "stream",
     "text": [
      "Grade C\n"
     ]
    }
   ],
   "source": [
    "# Here we are going to create a program \n",
    "# by putting your marks you will get your grade as per condition\n",
    "\n",
    "marks = int(input(\"Enter your Marks here\"))\n",
    "if marks>90 and marks<=100:\n",
    "    print(\"Grade A\")\n",
    "elif marks>80 and marks<=90:\n",
    "    print(\"Grade B\")\n",
    "elif marks>=60 and marks<=80:\n",
    "    print(\"Grade C\")\n",
    "elif marks<60 :\n",
    "    print(\"Grade D\")\n",
    "else:\n",
    "    print()"
   ]
  },
  {
   "cell_type": "markdown",
   "id": "a4cd10c8-9ba9-46f6-b495-472a5c38c717",
   "metadata": {},
   "source": [
    "Assignment-2 Q 2 - Write a program to accept the cost price of a bike and display the road tax paid according to the following criteria"
   ]
  },
  {
   "cell_type": "code",
   "execution_count": 19,
   "id": "48e85502-c9bf-4bf4-a665-df508f266efc",
   "metadata": {},
   "outputs": [
    {
     "name": "stdin",
     "output_type": "stream",
     "text": [
      "Enter the Cost price 650000\n"
     ]
    },
    {
     "name": "stdout",
     "output_type": "stream",
     "text": [
      "Tax 15%\n"
     ]
    }
   ],
   "source": [
    "price = int(input(\"Enter the Cost price\"))\n",
    "# find the tax percentage on different slab category\n",
    "if price>100000:\n",
    "    print(\"Tax 15%\")\n",
    "elif price>50000 and price<=100000:\n",
    "    print(\"Tax 10%\")\n",
    "elif price<=50000:\n",
    "    print(\"Tax 5%\")\n",
    "else:\n",
    "    print()"
   ]
  },
  {
   "cell_type": "code",
   "execution_count": 2,
   "id": "8f167f6c-5458-435e-9295-aa87fdf754b6",
   "metadata": {},
   "outputs": [
    {
     "name": "stdin",
     "output_type": "stream",
     "text": [
      "enter price 45000\n"
     ]
    },
    {
     "name": "stdout",
     "output_type": "stream",
     "text": [
      "Total Tax has to be paid in INR 2250.0\n"
     ]
    }
   ],
   "source": [
    "# this program for, if we need tax amount then with given price the tax amount will be output\n",
    "price = int(input(\"enter price\")) \n",
    "if price>100000: \n",
    "    tax = price*15/100\n",
    "    print(\"Total Tax has to be paid in INR\",tax)\n",
    "elif price>50000<=100000:\n",
    "    tax = price*10/100\n",
    "    print(\"Total Tax has to be paid in INR\", tax) \n",
    "elif price<=50000:\n",
    "    tax = price*5/100\n",
    "    print(\"Total Tax has to be paid in INR\", tax)\n",
    "else: print()"
   ]
  },
  {
   "cell_type": "code",
   "execution_count": 22,
   "id": "4c93dab1-9784-4de9-851e-86f408e74a13",
   "metadata": {},
   "outputs": [
    {
     "name": "stdin",
     "output_type": "stream",
     "text": [
      "enter city name Agra\n"
     ]
    },
    {
     "name": "stdout",
     "output_type": "stream",
     "text": [
      "Taj Mahal\n"
     ]
    }
   ],
   "source": [
    "# to find the monuments by entering the city name \n",
    "city = str(input(\"enter city name\"))\n",
    "if city == \"delhi\" :\n",
    "    print(\"Red fort\")\n",
    "elif city == \"Agra\":\n",
    "    print(\"Taj Mahal\")\n",
    "elif city == \"Jaipur\":\n",
    "    print(\"Jal Mahal\")\n",
    "else:\n",
    "    print(\"Nothing\")"
   ]
  },
  {
   "cell_type": "code",
   "execution_count": 36,
   "id": "4b5c9476-70f8-4f9c-b476-99ab5db96574",
   "metadata": {},
   "outputs": [
    {
     "name": "stdin",
     "output_type": "stream",
     "text": [
      "Enter the Number 6\n"
     ]
    },
    {
     "name": "stdout",
     "output_type": "stream",
     "text": [
      "True\n"
     ]
    }
   ],
   "source": [
    "# question no 3\n",
    "num = int(input(\"Enter the Number\"))\n",
    "if num<=10:\n",
    "\n",
    "    print(num%3==0)\n",
    "else:\n",
    "    print()"
   ]
  },
  {
   "cell_type": "markdown",
   "id": "de07b789-8e35-4f85-adcc-6330eb4e395f",
   "metadata": {},
   "source": [
    "Answer 3 = With the while loop we can execute a set of statements as long as a condition is true.\n"
   ]
  },
  {
   "cell_type": "code",
   "execution_count": 38,
   "id": "17c8a048-5cec-47bf-8fc0-905751bbf4af",
   "metadata": {},
   "outputs": [
    {
     "name": "stdout",
     "output_type": "stream",
     "text": [
      "1\n",
      "2\n",
      "3\n",
      "4\n",
      "5\n",
      "6\n",
      "7\n",
      "8\n",
      "9\n",
      "10\n"
     ]
    }
   ],
   "source": [
    "i = 1\n",
    "n = 10\n",
    "while i <=n:\n",
    "    print(i)\n",
    "    i = i + 1"
   ]
  },
  {
   "cell_type": "markdown",
   "id": "bfa832e7-0718-476e-9590-acf621329245",
   "metadata": {},
   "source": [
    "Question no 6 "
   ]
  },
  {
   "cell_type": "code",
   "execution_count": 39,
   "id": "a07b180e-394b-4582-ae05-638a199e3d5a",
   "metadata": {},
   "outputs": [
    {
     "name": "stdout",
     "output_type": "stream",
     "text": [
      "1 \n",
      "1 2 \n",
      "1 2 3 \n",
      "1 2 3 4 \n",
      "1 2 3 4 5 \n"
     ]
    }
   ],
   "source": [
    "# example of nested while loop \n",
    "i=1\n",
    "while i<=5:\n",
    "    j=1\n",
    "    while j<=i:\n",
    "        print(j,end=\" \")\n",
    "        j=j+1\n",
    "    print(\"\")\n",
    "    i=i+1"
   ]
  },
  {
   "cell_type": "markdown",
   "id": "66b416c1-c036-4364-9e46-8afb37713975",
   "metadata": {},
   "source": [
    "Question No 7"
   ]
  },
  {
   "cell_type": "code",
   "execution_count": null,
   "id": "7fb72020-d663-4a18-ae2e-2200c5620225",
   "metadata": {},
   "outputs": [],
   "source": [
    "# example for reverse while loop\n",
    "i = 10\n",
    "while i > 0:\n",
    "    print(i)\n",
    "    i = i - 1"
   ]
  },
  {
   "cell_type": "markdown",
   "id": "de6e8cfb-06e2-44a2-a72a-23f8ba85d390",
   "metadata": {},
   "source": [
    "Question no 8 "
   ]
  },
  {
   "cell_type": "code",
   "execution_count": null,
   "id": "d80a49b5-a552-4b14-96ba-0129a024e070",
   "metadata": {},
   "outputs": [],
   "source": [
    "# using for loop reversing of numbers\n",
    "for i in range(10,0,-1):\n",
    "    print(i)"
   ]
  },
  {
   "cell_type": "code",
   "execution_count": null,
   "id": "9ad56ed7-966d-40e2-8711-c413ccbefeb7",
   "metadata": {},
   "outputs": [],
   "source": []
  }
 ],
 "metadata": {
  "kernelspec": {
   "display_name": "Python 3 (ipykernel)",
   "language": "python",
   "name": "python3"
  },
  "language_info": {
   "codemirror_mode": {
    "name": "ipython",
    "version": 3
   },
   "file_extension": ".py",
   "mimetype": "text/x-python",
   "name": "python",
   "nbconvert_exporter": "python",
   "pygments_lexer": "ipython3",
   "version": "3.10.8"
  }
 },
 "nbformat": 4,
 "nbformat_minor": 5
}
