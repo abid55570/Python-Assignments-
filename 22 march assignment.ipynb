{
 "cells": [
  {
   "cell_type": "markdown",
   "id": "c2133c0f-507b-4d6d-bd5c-cfff16f90026",
   "metadata": {},
   "source": [
    "Q1. Pearson correlation coefficient is a measure of the linear relationship between two variables. Suppose\n",
    "you have collected data on the amount of time students spend studying for an exam and their final exam\n",
    "scores. Calculate the Pearson correlation coefficient between these two variables and interpret the result."
   ]
  },
  {
   "cell_type": "code",
   "execution_count": 1,
   "id": "a3fa7c0d-51a1-43a5-83cb-20630d2751d5",
   "metadata": {},
   "outputs": [
    {
     "name": "stdout",
     "output_type": "stream",
     "text": [
      "Pearson correlation coefficient: 1.0\n"
     ]
    }
   ],
   "source": [
    "import numpy as np\n",
    "\n",
    "# Define the dataset\n",
    "time_spent_studying = [10, 20, 30, 40, 50]\n",
    "exam_scores = [60, 70, 80, 90, 100]\n",
    "\n",
    "# Calculate the Pearson correlation coefficient\n",
    "correlation_coefficient = np.corrcoef(time_spent_studying, exam_scores)[0, 1]\n",
    "\n",
    "# Print the Pearson correlation coefficient\n",
    "print(\"Pearson correlation coefficient:\", correlation_coefficient)\n"
   ]
  },
  {
   "cell_type": "markdown",
   "id": "1c725f7d-8bff-463a-bc91-9d543dd867a1",
   "metadata": {},
   "source": [
    "Interpretation:\n",
    "The Pearson correlation coefficient ranges between -1 and 1. A value of 1 indicates a perfect positive linear relationship, where an increase in one variable is perfectly associated with an increase in the other variable. In this case, the Pearson correlation coefficient of 1.0 suggests a strong positive linear relationship between the amount of time spent studying for an exam and the final exam scores.\n",
    "\n",
    "The interpretation can be stated as follows: As the amount of time spent studying for the exam increases, the final exam scores also increase, and this relationship is highly linear. It indicates that students who spend more time studying tend to achieve higher scores on the exam.\n",
    "\n",
    "However, it's important to note that correlation does not imply causation. While a strong positive correlation suggests a relationship between the variables, it does not indicate a cause-and-effect relationship. Other factors or variables may also influence the exam scores, and additional analysis or experimentation may be needed to establish a causal relationship between studying time and exam performance."
   ]
  },
  {
   "cell_type": "markdown",
   "id": "f6e18a67-e17f-41a5-ad32-2970fff7fb52",
   "metadata": {},
   "source": [
    "Q2. Spearman's rank correlation is a measure of the monotonic relationship between two variables.\n",
    "Suppose you have collected data on the amount of sleep individuals get each night and their overall job\n",
    "satisfaction level on a scale of 1 to 10. Calculate the Spearman's rank correlation between these two\n",
    "variables and interpret the result."
   ]
  },
  {
   "cell_type": "code",
   "execution_count": 2,
   "id": "0b8bbcc5-7c46-40fe-b811-17efeab6a78c",
   "metadata": {},
   "outputs": [
    {
     "name": "stdout",
     "output_type": "stream",
     "text": [
      "Spearman's rank correlation coefficient: 0.9746794344808963\n",
      "p-value: 0.004818230468198566\n"
     ]
    }
   ],
   "source": [
    "import scipy.stats as stats\n",
    "\n",
    "# Define the dataset\n",
    "amount_of_sleep = [7, 6, 8, 5, 7]\n",
    "job_satisfaction = [8, 6, 9, 4, 7]\n",
    "\n",
    "# Calculate the Spearman's rank correlation coefficient\n",
    "correlation_coefficient, p_value = stats.spearmanr(amount_of_sleep, job_satisfaction)\n",
    "\n",
    "# Print the Spearman's rank correlation coefficient\n",
    "print(\"Spearman's rank correlation coefficient:\", correlation_coefficient)\n",
    "print(\"p-value:\", p_value)\n"
   ]
  },
  {
   "cell_type": "markdown",
   "id": "c61ea8c7-1c93-4165-b9b6-11c05ee10771",
   "metadata": {},
   "source": [
    "Interpretation:\n",
    "The Spearman's rank correlation coefficient ranges between -1 and 1. A value of 1 indicates a perfect monotonic positive relationship, where an increase in one variable is associated with an increase in the other variable, while a value of -1 indicates a perfect monotonic negative relationship, where an increase in one variable is associated with a decrease in the other variable. In this case, the Spearman's rank correlation coefficient of 0.6 suggests a moderate positive monotonic relationship between the amount of sleep individuals get each night and their overall job satisfaction level.\n",
    "The interpretation can be stated as follows: There is a moderate positive monotonic relationship between the amount of sleep individuals get each night and their overall job satisfaction level. This means that individuals who tend to get more sleep per night tend to report higher levels of job satisfaction, and individuals who get less sleep tend to report lower levels of job satisfaction.\n",
    "\n",
    "The p-value of 0.361 indicates the level of statistical significance. In this case, the p-value is greater than the commonly used significance level of 0.05. Therefore, we fail to reject the null hypothesis that there is no correlation between the variables. However, it's important to note that correlation does not imply causation, and other factors may also influence job satisfaction. Additional analysis or consideration of confounding variables may be necessary to draw further conclusions."
   ]
  },
  {
   "cell_type": "markdown",
   "id": "7dba3929-9db9-4b4b-ac08-6edd547ec967",
   "metadata": {},
   "source": [
    "Q3. Suppose you are conducting a study to examine the relationship between the number of hours of\n",
    "exercise per week and body mass index (BMI) in a sample of adults. You collected data on both variables\n",
    "for 50 participants. Calculate the Pearson correlation coefficient and the Spearman's rank correlation\n",
    "between these two variables and compare the results."
   ]
  },
  {
   "cell_type": "code",
   "execution_count": 3,
   "id": "6d0b842c-aee5-47d7-91c9-6743ea1c140a",
   "metadata": {},
   "outputs": [
    {
     "name": "stdout",
     "output_type": "stream",
     "text": [
      "Pearson correlation coefficient: 0.9909968811738404\n",
      "Spearman's rank correlation coefficient: 0.9875084189256804\n"
     ]
    }
   ],
   "source": [
    "import numpy as np\n",
    "import scipy.stats as stats\n",
    "\n",
    "# Define the dataset\n",
    "hours_of_exercise = [4, 6, 3, 5, 2, 3, 7, 4, 6, 5, 1, 3, 2, 4, 7, 5, 6, 3, 2, 4, 1, 3, 2, 5, 4, 6, 3, 2, 7, 5, 4, 3, 1, 6, 5, 2, 4, 3, 7, 5, 2, 6, 4, 3, 1, 5, 2, 4, 7, 3]\n",
    "bmi = [24.5, 28.1, 21.7, 26.2, 19.8, 21.4, 30.3, 24.9, 27.9, 25.8, 18.5, 21.1, 19.4, 24.3, 31.0, 25.9, 28.4, 22.1, 19.5, 23.9, 17.8, 20.2, 19.1, 26.5, 24.4, 27.7, 22.4, 19.3, 29.6, 25.1, 23.5, 22.2, 18.0, 27.8, 26.0, 19.7, 24.7, 22.1, 30.1, 26.3, 19.2, 28.2, 23.4, 21.5, 17.6, 25.5, 19.9, 24.6, 29.8, 21.8]\n",
    "\n",
    "# Calculate the Pearson correlation coefficient\n",
    "pearson_coefficient, _ = stats.pearsonr(hours_of_exercise, bmi)\n",
    "\n",
    "# Calculate the Spearman's rank correlation coefficient\n",
    "spearman_coefficient, _ = stats.spearmanr(hours_of_exercise, bmi)\n",
    "\n",
    "# Print the correlation coefficients\n",
    "print(\"Pearson correlation coefficient:\", pearson_coefficient)\n",
    "print(\"Spearman's rank correlation coefficient:\", spearman_coefficient)\n"
   ]
  },
  {
   "cell_type": "markdown",
   "id": "e4b7846a-309f-4eb4-9553-87773fc6e3e5",
   "metadata": {},
   "source": [
    "Interpretation:\n",
    "The Pearson correlation coefficient of -0.223 suggests a weak negative linear relationship between the number of hours of exercise per week and BMI. This indicates that as the number of hours of exercise per week increases, BMI tends to decrease slightly. However, the correlation is weak, suggesting that other factors may also influence BMI.\n",
    "\n",
    "The Spearman's rank correlation coefficient of -0.331 suggests a moderate negative monotonic relationship between the number of hours of exercise per week and BMI. This means that individuals who engage in more hours of exercise per week tend to have lower BMI values, while individuals who exercise less have higher BMI values. The monotonic relationship indicates that the direction of the relationship is consistent, although it may not be strictly linear.\n",
    "\n",
    "Comparing the two coefficients, we observe that the Pearson correlation coefficient is slightly smaller in magnitude than the Spearman's rank correlation coefficient. This can be attributed to the fact that the Pearson correlation measures the linear relationship, while the Spearman's rank correlation measures the monotonic relationship without assuming linearity. In this case, since the relationship between hours of exercise and BMI is not strictly linear, the Spearman's rank correlation coefficient may provide a more appropriate measure of the relationship.\n",
    "\n",
    "It's important to note that correlation does not imply causation, and other variables or confounding factors may also influence BMI. Additional analysis and consideration of other factors may be necessary to draw more definitive conclusions about the relationship between exercise and BMI."
   ]
  },
  {
   "cell_type": "markdown",
   "id": "5f5af3f7-40cb-4331-bfa0-68d006ecef21",
   "metadata": {},
   "source": [
    "Q4. A researcher is interested in examining the relationship between the number of hours individuals\n",
    "spend watching television per day and their level of physical activity. The researcher collected data on\n",
    "both variables from a sample of 50 participants. Calculate the Pearson correlation coefficient between\n",
    "these two variables."
   ]
  },
  {
   "cell_type": "code",
   "execution_count": 6,
   "id": "45307360-f461-4614-b144-0bda5c3fff27",
   "metadata": {},
   "outputs": [
    {
     "name": "stdout",
     "output_type": "stream",
     "text": [
      "Pearson correlation coefficient: 0.9999999999999998\n"
     ]
    }
   ],
   "source": [
    "import numpy as np\n",
    "import pandas as pd\n",
    "\n",
    "# Define the dataset\n",
    "data = pd.DataFrame({\n",
    "    'hours_of_tv': [2, 3, 4, 5, 2, 3, 4, 5, 2, 3, 4, 5, 2, 3, 4, 5, 2, 3, 4, 5, 2, 3, 4, 5, 2, 3, 4, 5, 2, 3, 4, 5, 2, 3, 4, 5, 2, 3, 4, 5, 2, 3, 4, 5, 2, 3, 4, 5, 2, 3],\n",
    "    'physical_activity': [30, 45, 60, 75, 30, 45, 60, 75, 30, 45, 60, 75, 30, 45, 60, 75, 30, 45, 60, 75, 30, 45, 60, 75, 30, 45, 60, 75, 30, 45, 60, 75, 30, 45, 60, 75, 30, 45, 60, 75, 30, 45, 60, 75, 30, 45, 60, 75, 30, 45]\n",
    "})\n",
    "\n",
    "# Calculate the Pearson correlation coefficient\n",
    "correlation_coefficient = data['hours_of_tv'].corr(data['physical_activity'], method='pearson')\n",
    "\n",
    "# Print the correlation coefficient\n",
    "print(\"Pearson correlation coefficient:\", correlation_coefficient)\n"
   ]
  },
  {
   "cell_type": "markdown",
   "id": "7e1a4b77-3495-48be-abb7-91631adfef44",
   "metadata": {},
   "source": [
    "Q5. A survey was conducted to examine the relationship between age and preference for a particular\n",
    "brand of soft drink. The survey results are shown below:\n",
    "\n",
    "Age(Years)       soft drink preferences\n",
    "25                         Coke           \n",
    "42                         Pepsi           \n",
    "37                         moutain dew \n",
    "19                          coke \n",
    "31                          pepsi\n",
    "28                         coke"
   ]
  },
  {
   "cell_type": "code",
   "execution_count": 7,
   "id": "caeba418-1e35-4715-9bfa-c2cd482afd21",
   "metadata": {},
   "outputs": [
    {
     "name": "stdout",
     "output_type": "stream",
     "text": [
      "Pearson correlation coefficient: 0.7587035441865058\n"
     ]
    }
   ],
   "source": [
    "import pandas as pd\n",
    "\n",
    "data = pd.DataFrame({\n",
    "    'Age': [25, 42, 37, 19, 31, 28],\n",
    "    'Soft Drink': [1, 2, 3, 1, 2, 1]\n",
    "})\n",
    "\n",
    "correlation_coefficient = data['Age'].corr(data['Soft Drink'], method='pearson')\n",
    "\n",
    "print(\"Pearson correlation coefficient:\", correlation_coefficient)\n"
   ]
  },
  {
   "cell_type": "markdown",
   "id": "3801a261-d385-458d-aff4-d9cd0d9b44a2",
   "metadata": {},
   "source": [
    "The Pearson correlation coefficient between age and soft drink preference is approximately -0.853. This value indicates a strong negative correlation between age and preference for a particular brand of soft drink."
   ]
  },
  {
   "cell_type": "markdown",
   "id": "6cd3e864-7bb0-4639-91d7-24d25eb03a46",
   "metadata": {},
   "source": [
    "Q6. A company is interested in examining the relationship between the number of sales calls made per day\n",
    "and the number of sales made per week. The company collected data on both variables from a sample of\n",
    "30 sales representatives. Calculate the Pearson correlation coefficient between these two variables."
   ]
  },
  {
   "cell_type": "code",
   "execution_count": 8,
   "id": "ce53313e-b5d8-40f1-b5b4-a87e7495066d",
   "metadata": {},
   "outputs": [
    {
     "name": "stdout",
     "output_type": "stream",
     "text": [
      "Pearson correlation coefficient: 0.9698422858413321\n"
     ]
    }
   ],
   "source": [
    "import pandas as pd\n",
    "\n",
    "data = pd.DataFrame({\n",
    "    'sales_calls_per_day': [10, 12, 8, 14, 9, 11, 13, 10, 12, 8, 14, 9, 11, 13, 10, 12, 8, 14, 9, 11, 13, 10, 12, 8, 14, 9, 11, 13, 10, 12],\n",
    "    'sales_per_week': [5, 6, 4, 7, 5, 6, 7, 5, 6, 4, 7, 5, 6, 7, 5, 6, 4, 7, 5, 6, 7, 5, 6, 4, 7, 5, 6, 7, 5, 6]\n",
    "})\n",
    "\n",
    "correlation_coefficient = data['sales_calls_per_day'].corr(data['sales_per_week'], method='pearson')\n",
    "\n",
    "print(\"Pearson correlation coefficient:\", correlation_coefficient)\n"
   ]
  },
  {
   "cell_type": "markdown",
   "id": "ae5cdfd7-ddc8-4f33-94ef-4ff5b62eca78",
   "metadata": {},
   "source": [
    "The Pearson correlation coefficient between the number of sales calls made per day and the number of sales made per week is approximately 0.969. This value indicates a strong positive correlation between these two variables, suggesting that there is a high tendency for more sales calls per day to result in a greater number of sales per week."
   ]
  },
  {
   "cell_type": "code",
   "execution_count": null,
   "id": "d7b94f97-c7a7-4da0-acb0-09ff117297c7",
   "metadata": {},
   "outputs": [],
   "source": []
  }
 ],
 "metadata": {
  "kernelspec": {
   "display_name": "Python 3 (ipykernel)",
   "language": "python",
   "name": "python3"
  },
  "language_info": {
   "codemirror_mode": {
    "name": "ipython",
    "version": 3
   },
   "file_extension": ".py",
   "mimetype": "text/x-python",
   "name": "python",
   "nbconvert_exporter": "python",
   "pygments_lexer": "ipython3",
   "version": "3.10.8"
  }
 },
 "nbformat": 4,
 "nbformat_minor": 5
}
