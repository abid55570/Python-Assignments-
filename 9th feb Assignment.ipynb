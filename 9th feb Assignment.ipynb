{
 "cells": [
  {
   "cell_type": "markdown",
   "id": "5a31fc96-cd79-4064-a85c-682bb7682d42",
   "metadata": {},
   "source": [
    "Q1, Create a vehicle class with an init method having instance variables as name_of_vehicle, max_speed\n",
    "and average_of_vehicle."
   ]
  },
  {
   "cell_type": "code",
   "execution_count": 1,
   "id": "f2fd15b5-aa28-4e91-80aa-9fe6a5efc837",
   "metadata": {},
   "outputs": [],
   "source": [
    "class Vehicle:\n",
    "    def __init__(self, name_of_vehicle, max_speed, average_of_vehicle):\n",
    "        self.name_of_vehicle = name_of_vehicle\n",
    "        self.max_speed = max_speed\n",
    "        self.average_of_vehicle = average_of_vehicle\n"
   ]
  },
  {
   "cell_type": "markdown",
   "id": "cfea6e05-fb34-4565-a1ae-d3ed41e9666d",
   "metadata": {},
   "source": [
    "Q2. Create a child class car from the vehicle class created in Que 1, which will inherit the vehicle class.\n",
    "Create a method named seating_capacity which takes capacity as an argument and returns the name of\n",
    "the vehicle and its seating capacity."
   ]
  },
  {
   "cell_type": "code",
   "execution_count": 2,
   "id": "62631b1c-950c-4218-81ab-edbc641e26cc",
   "metadata": {},
   "outputs": [],
   "source": [
    "class Car(Vehicle):\n",
    "    def __init__(self, name_of_vehicle, max_speed, average_of_vehicle):\n",
    "        super().__init__(name_of_vehicle, max_speed, average_of_vehicle)\n",
    "        \n",
    "    def seating_capacity(self, capacity):\n",
    "        return f\"{self.name_of_vehicle} has a seating capacity of {capacity} passengers.\"\n"
   ]
  },
  {
   "cell_type": "markdown",
   "id": "242564ce-d57b-4c33-8088-ed580e5ebd8c",
   "metadata": {},
   "source": [
    "Q3. What is multiple inheritance? Write a python code to demonstrate multiple inheritance."
   ]
  },
  {
   "cell_type": "markdown",
   "id": "8d5e253c-006f-4b27-9da7-fe14739bd735",
   "metadata": {},
   "source": [
    "Multiple inheritance is a feature in object-oriented programming languages where a subclass can inherit from multiple superclasses. This means that a subclass can have access to attributes and methods from multiple parent classes."
   ]
  },
  {
   "cell_type": "code",
   "execution_count": 3,
   "id": "4a2034de-0207-4b4d-856e-a26c1cb1e193",
   "metadata": {},
   "outputs": [
    {
     "name": "stdout",
     "output_type": "stream",
     "text": [
      "Batty is eating.\n",
      "Batty is flying.\n",
      "Batty is using echolocation.\n"
     ]
    }
   ],
   "source": [
    "class Animal:\n",
    "    def __init__(self, name):\n",
    "        self.name = name\n",
    "    \n",
    "    def eat(self):\n",
    "        print(f\"{self.name} is eating.\")\n",
    "        \n",
    "class Flyer:\n",
    "    def fly(self):\n",
    "        print(f\"{self.name} is flying.\")\n",
    "        \n",
    "class Bat(Animal, Flyer):\n",
    "    def __init__(self, name):\n",
    "        super().__init__(name)\n",
    "    \n",
    "    def echolocate(self):\n",
    "        print(f\"{self.name} is using echolocation.\")\n",
    "\n",
    "        \n",
    "b = Bat(\"Batty\")\n",
    "b.eat()      # Batty is eating.\n",
    "b.fly()      # Batty is flying.\n",
    "b.echolocate() # Batty is using echolocation.\n"
   ]
  },
  {
   "cell_type": "markdown",
   "id": "fbd3d235-fa91-4577-a85b-f33b8bfebc08",
   "metadata": {},
   "source": [
    "Q4. What are getter and setter in python? Create a class and create a getter and a setter method in this\n",
    "class."
   ]
  },
  {
   "cell_type": "code",
   "execution_count": 4,
   "id": "e7ef9bad-eead-4de8-9a31-830ae6f96237",
   "metadata": {},
   "outputs": [],
   "source": [
    "class Person:\n",
    "    def __init__(self, name):\n",
    "        self.__name = name   # private instance variable\n",
    "        \n",
    "    def get_name(self):\n",
    "        return self.__name   # getter method\n",
    "    \n",
    "    def set_name(self, new_name):\n",
    "        self.__name = new_name   # setter method\n"
   ]
  },
  {
   "cell_type": "code",
   "execution_count": 5,
   "id": "99d82b4b-d1c3-43a5-9baf-a098d99241f8",
   "metadata": {},
   "outputs": [
    {
     "name": "stdout",
     "output_type": "stream",
     "text": [
      "Alice\n",
      "Bob\n"
     ]
    }
   ],
   "source": [
    "p = Person(\"Alice\")\n",
    "print(p.get_name())  \n",
    "\n",
    "p.set_name(\"Bob\")\n",
    "print(p.get_name())   \n"
   ]
  },
  {
   "cell_type": "markdown",
   "id": "c2786cb6-c3dc-4a02-b7f7-04d6bd6895fc",
   "metadata": {},
   "source": [
    "Q5.What is method overriding in python? Write a python code to demonstrate method overriding."
   ]
  },
  {
   "cell_type": "markdown",
   "id": "655388c9-d583-4f55-b0ce-c402199b3b6c",
   "metadata": {},
   "source": [
    "Method overriding is a feature in object-oriented programming where a subclass provides a different implementation of a method that is already defined in its parent class. This allows the subclass to modify or extend the behavior of the parent class method"
   ]
  },
  {
   "cell_type": "code",
   "execution_count": 6,
   "id": "829230ef-2c1f-49d8-80f0-496c6782520c",
   "metadata": {},
   "outputs": [
    {
     "name": "stdout",
     "output_type": "stream",
     "text": [
      "The animal makes a sound.\n",
      "The dog barks.\n",
      "The cat meows.\n"
     ]
    }
   ],
   "source": [
    "class Animal:\n",
    "    def __init__(self, name):\n",
    "        self.name = name\n",
    "    \n",
    "    def make_sound(self):\n",
    "        print(\"The animal makes a sound.\")\n",
    "\n",
    "class Dog(Animal):\n",
    "    def __init__(self, name):\n",
    "        super().__init__(name)\n",
    "    \n",
    "    def make_sound(self):\n",
    "        print(\"The dog barks.\")\n",
    "        \n",
    "class Cat(Animal):\n",
    "    def __init__(self, name):\n",
    "        super().__init__(name)\n",
    "    \n",
    "    def make_sound(self):\n",
    "        print(\"The cat meows.\")\n",
    "\n",
    "        \n",
    "a = Animal(\"Animal\")\n",
    "a.make_sound()  # The animal makes a sound.\n",
    "\n",
    "d = Dog(\"Fido\")\n",
    "d.make_sound()  # The dog barks.\n",
    "\n",
    "c = Cat(\"Whiskers\")\n",
    "c.make_sound()  # The cat meows.\n"
   ]
  },
  {
   "cell_type": "code",
   "execution_count": null,
   "id": "00f64fa0-4b99-4d82-886e-ae8b2a8cb19d",
   "metadata": {},
   "outputs": [],
   "source": []
  }
 ],
 "metadata": {
  "kernelspec": {
   "display_name": "Python 3 (ipykernel)",
   "language": "python",
   "name": "python3"
  },
  "language_info": {
   "codemirror_mode": {
    "name": "ipython",
    "version": 3
   },
   "file_extension": ".py",
   "mimetype": "text/x-python",
   "name": "python",
   "nbconvert_exporter": "python",
   "pygments_lexer": "ipython3",
   "version": "3.10.8"
  }
 },
 "nbformat": 4,
 "nbformat_minor": 5
}
