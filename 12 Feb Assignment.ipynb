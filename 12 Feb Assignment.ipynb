{
 "cells": [
  {
   "cell_type": "markdown",
   "id": "37d3e04f-5447-44e0-bc7d-4be93b38fd2f",
   "metadata": {},
   "source": [
    "Q1. What is an Exception in pthon? Write the difference between Exceptions and syntax errors"
   ]
  },
  {
   "cell_type": "markdown",
   "id": "a4dcfacd-ebe9-42ac-bb3e-2f9be9aa3ede",
   "metadata": {},
   "source": [
    "In Python, an exception is an error that occurs during the execution of a program. When an exception is raised, it interrupts the normal flow of the program and Python's interpreter attempts to find a way to handle it.\n",
    "\n",
    "Exceptions are different from syntax errors in that syntax errors occur when there is a problem with the code itself, such as a typo or missing punctuation. These errors are detected by Python's parser before the code is executed, and the program will not run until they are fixed.\n",
    "\n",
    "On the other hand, exceptions are errors that occur during the execution of the program, such as trying to divide by zero, accessing an invalid index in a list, or attempting to open a file that doesn't exist. These errors can be handled by the program using exception handling techniques, such as using try-except blocks to catch and handle the exception, or by allowing the exception to propagate up the call stack to be handled by a higher-level handler.\n",
    "\n",
    "\n",
    "\n",
    "\n"
   ]
  },
  {
   "cell_type": "markdown",
   "id": "5e9b8e8b-5115-46bf-a69c-966f4f67ea59",
   "metadata": {},
   "source": [
    "Q2. What happens when an exception is not handled? Explain with an example"
   ]
  },
  {
   "cell_type": "markdown",
   "id": "d62d6b30-8c16-4342-a04e-18fcdf4eacf9",
   "metadata": {},
   "source": [
    "When an exception is not handled in a Python program, the program will terminate abruptly and an error message will be displayed on the console. This can result in data loss or corruption, and can be particularly problematic in production environments."
   ]
  },
  {
   "cell_type": "code",
   "execution_count": 2,
   "id": "36c7ea86-6d0f-4edb-9b23-63eae69cb19c",
   "metadata": {},
   "outputs": [
    {
     "ename": "ZeroDivisionError",
     "evalue": "division by zero",
     "output_type": "error",
     "traceback": [
      "\u001b[0;31m---------------------------------------------------------------------------\u001b[0m",
      "\u001b[0;31mZeroDivisionError\u001b[0m                         Traceback (most recent call last)",
      "Cell \u001b[0;32mIn[2], line 6\u001b[0m\n\u001b[1;32m      3\u001b[0m \u001b[38;5;28;01mdef\u001b[39;00m \u001b[38;5;21mdivide_by_zero\u001b[39m(x):\n\u001b[1;32m      4\u001b[0m     \u001b[38;5;28;01mreturn\u001b[39;00m x \u001b[38;5;241m/\u001b[39m \u001b[38;5;241m0\u001b[39m\n\u001b[0;32m----> 6\u001b[0m \u001b[38;5;28mprint\u001b[39m(\u001b[43mdivide_by_zero\u001b[49m\u001b[43m(\u001b[49m\u001b[38;5;241;43m5\u001b[39;49m\u001b[43m)\u001b[49m)\n",
      "Cell \u001b[0;32mIn[2], line 4\u001b[0m, in \u001b[0;36mdivide_by_zero\u001b[0;34m(x)\u001b[0m\n\u001b[1;32m      3\u001b[0m \u001b[38;5;28;01mdef\u001b[39;00m \u001b[38;5;21mdivide_by_zero\u001b[39m(x):\n\u001b[0;32m----> 4\u001b[0m     \u001b[38;5;28;01mreturn\u001b[39;00m \u001b[43mx\u001b[49m\u001b[43m \u001b[49m\u001b[38;5;241;43m/\u001b[39;49m\u001b[43m \u001b[49m\u001b[38;5;241;43m0\u001b[39;49m\n",
      "\u001b[0;31mZeroDivisionError\u001b[0m: division by zero"
     ]
    }
   ],
   "source": [
    "# example of what happens when an exception is not handled:\n",
    "\n",
    "def divide_by_zero(x):\n",
    "    return x / 0\n",
    "\n",
    "print(divide_by_zero(5))\n"
   ]
  },
  {
   "cell_type": "markdown",
   "id": "c416648f-48a4-48ce-86aa-9f6373f23cb7",
   "metadata": {},
   "source": [
    "If this exception were not handled, the program would terminate without any additional output or cleanup, potentially leaving resources (such as open files or network connections) in an inconsistent state.\n",
    "\n",
    "To avoid this, it's important to handle exceptions appropriately in your code, either by catching and handling them within the function or method where they occur, or by allowing them to propagate up the call stack to be handled by a higher-level exception handler."
   ]
  },
  {
   "cell_type": "markdown",
   "id": "a696aa1f-1d2a-44bd-8a4b-ebb1efffc32e",
   "metadata": {},
   "source": [
    "Q3. Which Python statements are used to catch and handle exeptions? Explain with an example."
   ]
  },
  {
   "cell_type": "markdown",
   "id": "46588913-96f5-4d0c-b1be-2101268f5a66",
   "metadata": {},
   "source": [
    "In Python, the try and except statements are used to catch and handle exceptions.\n",
    "\n",
    "The try block contains the code that may raise an exception, while the except block contains the code that handles the exception. If an exception is raised in the try block, the code in the corresponding except block is executed."
   ]
  },
  {
   "cell_type": "code",
   "execution_count": 3,
   "id": "33f3fcbf-dcb7-44c8-8c0d-e045ecdbb56e",
   "metadata": {},
   "outputs": [
    {
     "name": "stdout",
     "output_type": "stream",
     "text": [
      "10 divided by 2 is 5.0\n",
      "Division operation complete\n",
      "Error: division by zero\n",
      "Division operation complete\n"
     ]
    }
   ],
   "source": [
    "# Here's an example of how to use the try and except statements to catch and handle an exception:\n",
    "\n",
    "def divide(x, y):\n",
    "    try:\n",
    "        result = x / y\n",
    "    except ZeroDivisionError:\n",
    "        print(\"Error: division by zero\")\n",
    "    else:\n",
    "        print(f\"{x} divided by {y} is {result}\")\n",
    "    finally:\n",
    "        print(\"Division operation complete\")\n",
    "\n",
    "divide(10, 2)\n",
    "divide(10, 0)\n"
   ]
  },
  {
   "cell_type": "markdown",
   "id": "5bb21230-4cb0-4c92-9c15-a2c98fd93daa",
   "metadata": {},
   "source": [
    "Q4. Explain with an example \n",
    "\n",
    "1. Try and else\n",
    "2. finally \n",
    "3. raise"
   ]
  },
  {
   "cell_type": "code",
   "execution_count": null,
   "id": "051038c7-27d4-4348-bfe7-e45f3ba90319",
   "metadata": {},
   "outputs": [
    {
     "name": "stdout",
     "output_type": "stream",
     "text": [
      "Error: test.txt not found\n",
      "File operation complete\n",
      "Error: nonexistent.txt not found\n",
      "File operation complete\n"
     ]
    }
   ],
   "source": [
    "def read_file(filename):\n",
    "    try:\n",
    "        file = open(filename, \"r\")\n",
    "    except FileNotFoundError:\n",
    "        print(f\"Error: {filename} not found\")\n",
    "    else:\n",
    "        try:\n",
    "            content = file.read()\n",
    "            print(f\"File content: {content}\")\n",
    "        except Exception as e:\n",
    "            print(f\"Error reading file: {e}\")\n",
    "        else:\n",
    "            print(\"File read successfully\")\n",
    "        finally:\n",
    "            file.close()\n",
    "            print(\"File closed\")\n",
    "    finally:\n",
    "        print(\"File operation complete\")\n",
    "\n",
    "read_file(\"test.txt\")\n",
    "read_file(\"nonexistent.txt\")\n"
   ]
  },
  {
   "cell_type": "markdown",
   "id": "94869ba3-b807-4192-b9e5-ae324055f6e7",
   "metadata": {},
   "source": [
    "Q5. What are Custom Exceptions in python? Why do we need Custom Exceptions? Explain with an example"
   ]
  },
  {
   "cell_type": "markdown",
   "id": "7e996acb-2d1e-4ed6-9017-3bfe17d2a622",
   "metadata": {},
   "source": [
    "In Python, custom exceptions are user-defined exceptions that can be raised when a specific error condition occurs in a program. They are created by subclassing the built-in Exception class or one of its subclasses.\n",
    "\n",
    "Custom exceptions are useful when you want to define and handle your own types of errors that are specific to your program's requirements. They can provide more descriptive error messages and help to isolate and debug errors in your code."
   ]
  },
  {
   "cell_type": "code",
   "execution_count": 5,
   "id": "a11254d1-19b5-4a35-92cc-d7f1d027332d",
   "metadata": {},
   "outputs": [
    {
     "name": "stdout",
     "output_type": "stream",
     "text": [
      "Cannot compute square root of negative number\n",
      "Operation complete\n"
     ]
    }
   ],
   "source": [
    "# Here's an example of how to define and use a custom exception in Python:\n",
    "\n",
    "class NegativeNumberError(Exception):\n",
    "    def __init__(self, message):\n",
    "        self.message = message\n",
    "\n",
    "def sqrt(x):\n",
    "    if x < 0:\n",
    "        raise NegativeNumberError(\"Cannot compute square root of negative number\")\n",
    "    return x ** 0.5\n",
    "\n",
    "try:\n",
    "    result = sqrt(-4)\n",
    "except NegativeNumberError as e:\n",
    "    print(e.message)\n",
    "else:\n",
    "    print(result)\n",
    "finally:\n",
    "    print(\"Operation complete\")\n",
    "\n",
    "    "
   ]
  },
  {
   "cell_type": "markdown",
   "id": "c282c872-9c07-44f7-ac1e-648250e8db26",
   "metadata": {},
   "source": [
    "Q6. Create a custom exception class. Use this class to handle an exception."
   ]
  },
  {
   "cell_type": "code",
   "execution_count": 6,
   "id": "e9e9b944-8fce-4322-9dcf-3f352a219009",
   "metadata": {},
   "outputs": [
    {
     "name": "stdout",
     "output_type": "stream",
     "text": [
      "Second number cannot be zero\n",
      "Operation complete\n"
     ]
    }
   ],
   "source": [
    "class InvalidInputError(Exception):\n",
    "    def __init__(self, message):\n",
    "        self.message = message\n",
    "\n",
    "def divide_numbers(num1, num2):\n",
    "    if num2 == 0:\n",
    "        raise InvalidInputError(\"Second number cannot be zero\")\n",
    "    return num1 / num2\n",
    "\n",
    "try:\n",
    "    result = divide_numbers(10, 0)\n",
    "except InvalidInputError as e:\n",
    "    print(e.message)\n",
    "else:\n",
    "    print(result)\n",
    "finally:\n",
    "    print(\"Operation complete\")\n"
   ]
  },
  {
   "cell_type": "code",
   "execution_count": null,
   "id": "59c3f300-7722-41b1-b4f7-65a84d87af22",
   "metadata": {},
   "outputs": [],
   "source": []
  }
 ],
 "metadata": {
  "kernelspec": {
   "display_name": "Python 3 (ipykernel)",
   "language": "python",
   "name": "python3"
  },
  "language_info": {
   "codemirror_mode": {
    "name": "ipython",
    "version": 3
   },
   "file_extension": ".py",
   "mimetype": "text/x-python",
   "name": "python",
   "nbconvert_exporter": "python",
   "pygments_lexer": "ipython3",
   "version": "3.10.8"
  }
 },
 "nbformat": 4,
 "nbformat_minor": 5
}
