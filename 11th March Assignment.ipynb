{
 "cells": [
  {
   "cell_type": "code",
   "execution_count": null,
   "id": "2568bfea-61ec-4b86-935a-8ec06dd522ca",
   "metadata": {},
   "outputs": [],
   "source": [
    "Q1: What is the difference between a t-test and a z-test? Provide an example scenario where you would\n",
    "use each type of test."
   ]
  },
  {
   "cell_type": "markdown",
   "id": "63725920-d4b3-480e-8186-ef397ce84f8c",
   "metadata": {},
   "source": [
    "The main difference between a t-test and a z-test lies in the assumptions made about the population and the available information.\n",
    "\n",
    "A t-test is used when the population standard deviation is unknown and needs to be estimated from the sample data. It is also suitable for smaller sample sizes. A t-test assumes that the population follows a normal distribution, and it is appropriate when dealing with variables that are approximately normally distributed.\n",
    "\n",
    "Example scenario for using a t-test: Suppose you want to compare the mean scores of two groups of students who were taught using different teaching methods. You collect samples from each group and want to determine if there is a significant difference in their mean scores. Since the population standard deviation is unknown, you would use a t-test to assess the difference in means.\n",
    "\n",
    "A z-test, on the other hand, is used when the population standard deviation is known or when the sample size is large (typically, n > 30). A z-test assumes that the population follows a normal distribution and is appropriate when dealing with variables that are approximately normally distributed.\n",
    "\n",
    "Example scenario for using a z-test: Let's say you want to determine if the mean height of a certain population is significantly different from a known value. You have a large sample size (e.g., 500 individuals) and know the population standard deviation. In this case, you can use a z-test to compare the sample mean to the known population mean.\n",
    "\n",
    "In summary, use a t-test when the population standard deviation is unknown or when dealing with smaller sample sizes. Use a z-test when the population standard deviation is known or when the sample size is large."
   ]
  },
  {
   "cell_type": "markdown",
   "id": "e736bbf5-aac1-4642-b87f-454cf9d21c77",
   "metadata": {},
   "source": [
    "Q2: Differentiate between one-tailed and two-tailed tests."
   ]
  },
  {
   "cell_type": "markdown",
   "id": "2b35a525-3720-47c0-8c54-3d9f24e91b00",
   "metadata": {},
   "source": [
    "In hypothesis testing, a one-tailed test (also known as a one-sided test) and a two-tailed test (also known as a two-sided test) refer to different ways of evaluating the statistical significance of the test results.\n",
    "\n",
    "In a one-tailed test, the alternative hypothesis is directional, specifying that the population parameter is either greater than or less than a certain value. The critical region is only on one side of the sampling distribution. The one-tailed test is used when there is prior knowledge or a specific research question that suggests the effect or difference would occur in a specific direction.\n",
    "\n",
    "Example: Suppose you are testing whether a new medication increases test scores. The one-tailed hypothesis would state that the medication increases scores (alternative hypothesis: mean score with medication > mean score without medication). You would use a one-tailed test to determine if there is evidence to support the claim that the medication improves scores.\n",
    "\n",
    "In a two-tailed test, the alternative hypothesis is non-directional, suggesting that the population parameter is simply different from a certain value, without specifying the direction. The critical region is split between both tails of the sampling distribution. The two-tailed test is used when there is no prior expectation or specific hypothesis about the direction of the effect.\n",
    "\n",
    "Example: Let's say you are examining whether a certain treatment affects reaction time. The two-tailed hypothesis would state that the treatment has an effect on reaction time (alternative hypothesis: mean reaction time with treatment ≠ mean reaction time without treatment). You would use a two-tailed test to determine if there is evidence to support the claim that the treatment has any effect on reaction time, whether it is an increase or decrease.\n",
    "\n",
    "In summary, a one-tailed test is used when there is a specific direction anticipated in the alternative hypothesis, while a two-tailed test is used when there is no specific direction anticipated or when examining for any difference. The choice between one-tailed and two-tailed tests depends on the research question and the specific hypotheses being tested."
   ]
  },
  {
   "cell_type": "markdown",
   "id": "e252810a-06be-4ffa-a6fa-a7b92f5eca9b",
   "metadata": {},
   "source": [
    "Q3: Explain the concept of Type 1 and Type 2 errors in hypothesis testing. Provide an example scenario for\n",
    "each type of error."
   ]
  },
  {
   "cell_type": "markdown",
   "id": "f3c1935a-a489-4711-a4f7-287b33d5b8e1",
   "metadata": {},
   "source": [
    "In hypothesis testing, Type 1 and Type 2 errors are two types of mistakes that can occur when making conclusions based on statistical tests.\n",
    "\n",
    "Type 1 error, also known as a false positive, occurs when the null hypothesis is incorrectly rejected when it is actually true. It means concluding that there is a significant effect or difference when, in reality, there is no such effect or difference. The significance level (α) determines the probability of committing a Type 1 error. A lower significance level reduces the likelihood of Type 1 error but increases the risk of Type 2 error.\n",
    "\n",
    "Example: Suppose a new drug is being tested for its effectiveness in reducing blood pressure. The null hypothesis states that the drug has no effect on blood pressure. A Type 1 error would occur if the study concludes that the drug is effective in lowering blood pressure (rejecting the null hypothesis) when, in fact, it has no real effect.\n",
    "\n",
    "Type 2 error, also known as a false negative, occurs when the null hypothesis is incorrectly accepted when it is actually false. It means failing to detect a significant effect or difference when one actually exists. The probability of committing a Type 2 error is denoted as β and is inversely related to the power of the statistical test (1 - β).\n",
    "\n",
    "Example: Continuing with the previous example, a Type 2 error would occur if the study fails to detect that the drug is effective in lowering blood pressure (fails to reject the null hypothesis) when, in reality, it does have a beneficial effect.\n",
    "\n",
    "In summary, Type 1 error involves falsely rejecting a true null hypothesis, while Type 2 error involves failing to reject a false null hypothesis. The balance between Type 1 and Type 2 errors depends on the significance level chosen and the power of the test. Researchers need to consider the consequences of both types of errors when interpreting the results of hypothesis testing."
   ]
  },
  {
   "cell_type": "markdown",
   "id": "d8b5bfa6-9402-4f95-b984-fa40dd8722db",
   "metadata": {},
   "source": [
    "Q4: Explain Bayes's theorem with an example."
   ]
  },
  {
   "cell_type": "markdown",
   "id": "60353da0-f130-4a94-9b42-417f22b37aff",
   "metadata": {},
   "source": [
    "Bayes's theorem is a fundamental concept in probability theory and statistics that allows us to update our beliefs about an event based on new evidence. It provides a way to calculate the conditional probability of an event given prior knowledge or information.\n",
    "\n",
    "Bayes's theorem states:\n",
    "\n",
    "P(A|B) = (P(B|A) * P(A)) / P(B)\n",
    "\n",
    "Where:\n",
    "P(A|B) is the probability of event A occurring given event B has occurred.\n",
    "P(B|A) is the probability of event B occurring given event A has occurred.\n",
    "P(A) and P(B) are the probabilities of events A and B occurring, respectively.\n",
    "\n",
    "To understand Bayes's theorem, let's consider an example:\n",
    "\n",
    "Suppose there is a rare disease that affects 1% of the population. A medical test has been developed to detect the disease, and it has a 95% accuracy rate. This means that if a person has the disease, the test correctly detects it 95% of the time, and if a person does not have the disease, the test correctly gives a negative result 95% of the time.\n",
    "\n",
    "Let's say you have taken the test, and it has come back positive. Now, you want to know the probability that you actually have the disease.\n",
    "\n",
    "Using Bayes's theorem, we can calculate this probability. Let's assign the following probabilities:\n",
    "\n",
    "P(D) = 0.01 (Probability of having the disease)\n",
    "P(D') = 0.99 (Probability of not having the disease)\n",
    "P(Pos|D) = 0.95 (Probability of a positive test result given the disease)\n",
    "P(Pos|D') = 0.05 (Probability of a positive test result given not having the disease)\n",
    "\n",
    "Now, we can calculate:\n",
    "\n",
    "P(D|Pos) = (P(Pos|D) * P(D)) / P(Pos)\n",
    "\n",
    "P(Pos) can be calculated using the law of total probability:\n",
    "P(Pos) = P(Pos|D) * P(D) + P(Pos|D') * P(D')\n",
    "\n",
    "Plugging in the values:\n",
    "P(Pos) = (0.95 * 0.01) + (0.05 * 0.99) = 0.059\n",
    "\n",
    "Now we can calculate:\n",
    "P(D|Pos) = (0.95 * 0.01) / 0.059 ≈ 0.161\n",
    "\n",
    "So, given a positive test result, the probability of actually having the disease is approximately 16.1%.\n",
    "\n",
    "Bayes's theorem allows us to update our prior belief (prior probability) about an event based on new evidence (conditional probability). It is widely used in various fields, including medical diagnosis, spam filtering, and machine learning."
   ]
  },
  {
   "cell_type": "markdown",
   "id": "26826de1-8a4a-4f41-9171-ddfb05f97b58",
   "metadata": {},
   "source": [
    "Q5: What is a confidence interval? How to calculate the confidence interval, explain with an example."
   ]
  },
  {
   "cell_type": "markdown",
   "id": "1c9bb27e-b107-4b63-a420-33f818b25d4b",
   "metadata": {},
   "source": [
    "A confidence interval is a range of values that is likely to contain the true value of a population parameter. It provides an estimate of the uncertainty associated with a sample statistic and allows us to quantify the level of confidence we have in our estimate.\n",
    "\n",
    "To calculate a confidence interval, we typically start with a point estimate, which is a single value that serves as our best estimate of the population parameter based on the sample data. The confidence interval is then constructed by adding and subtracting a margin of error from the point estimate.\n",
    "\n",
    "The margin of error is determined by the desired level of confidence and the variability of the data. The most common level of confidence used is 95%, which means we are 95% confident that the true population parameter falls within the calculated interval. However, other confidence levels such as 90% or 99% can also be used.\n",
    "\n",
    "Here's an example to illustrate the calculation of a confidence interval:\n",
    "\n",
    "Suppose we want to estimate the average height of all adult males in a city. We take a random sample of 100 adult males and measure their heights. The sample mean height is 175 cm, and the sample standard deviation is 8 cm.\n",
    "\n",
    "To calculate a 95% confidence interval for the population mean height, we first determine the margin of error. The margin of error depends on the standard deviation of the population and the sample size, as well as the desired level of confidence. In this case, we can use the t-distribution since the population standard deviation is unknown.\n",
    "\n",
    "Using a t-distribution table or a statistical software, we find that the critical t-value for a 95% confidence level with 99 degrees of freedom (n - 1) is approximately 1.984.\n",
    "\n",
    "The margin of error can be calculated as:\n",
    "\n",
    "Margin of Error = t-value * (standard deviation / √sample size)\n",
    "= 1.984 * (8 / √100)\n",
    "= 1.984 * 0.8\n",
    "= 1.5872\n",
    "\n",
    "The confidence interval is then calculated by adding and subtracting the margin of error from the sample mean:\n",
    "\n",
    "Confidence Interval = Sample Mean ± Margin of Error\n",
    "= 175 ± 1.5872\n",
    "= (173.4128, 176.5872)\n",
    "\n",
    "So, we can say with 95% confidence that the true average height of all adult males in the city falls within the range of 173.4128 cm to 176.5872 cm.\n",
    "\n",
    "The wider the confidence interval, the lower the precision of the estimate, but the higher the level of confidence. Conversely, a narrower confidence interval provides a more precise estimate but with a lower level of confidence. The choice of confidence level depends on the desired balance between precision and confidence in the estimation."
   ]
  },
  {
   "cell_type": "markdown",
   "id": "ecbf14e1-00fc-4758-94db-0c08a47bb59a",
   "metadata": {},
   "source": [
    "Q6. Use Bayes' Theorem to calculate the probability of an event occurring given prior knowledge of the\n",
    "event's probability and new evidence. Provide a sample problem and solution."
   ]
  },
  {
   "cell_type": "markdown",
   "id": "8e7a36f1-be27-41a7-9ce6-a8668b39e7fa",
   "metadata": {},
   "source": [
    "Certainly! Let's consider a sample problem to demonstrate the application of Bayes' Theorem:\n",
    "\n",
    "Problem: A factory produces two types of products, A and B. On average, 10% of the products are defective. It is known that if a product is defective, there is a 90% chance it belongs to type A, and if a product is non-defective, there is a 95% chance it belongs to type B. If a randomly selected product is found to be defective, what is the probability that it belongs to type A?\n",
    "\n",
    "Solution:\n",
    "Let's define the events:\n",
    "A: The product belongs to type A.\n",
    "B: The product belongs to type B.\n",
    "D: The product is defective.\n",
    "\n",
    "We are interested in finding P(A|D), the probability that the product belongs to type A given that it is defective.\n",
    "\n",
    "According to Bayes' Theorem:\n",
    "P(A|D) = (P(D|A) * P(A)) / P(D)\n",
    "\n",
    "To calculate the probabilities:\n",
    "P(D|A) = 0.90 (Given, the probability of a defective product belonging to type A)\n",
    "P(A) = 0.10 (Given, the probability of selecting a type A product)\n",
    "P(D) = P(D|A) * P(A) + P(D|B) * P(B)\n",
    "= 0.90 * 0.10 + 0.10 * 0.90\n",
    "= 0.09 + 0.09\n",
    "= 0.18\n",
    "\n",
    "Now, substitute the values into Bayes' Theorem:\n",
    "P(A|D) = (0.90 * 0.10) / 0.18\n",
    "= 0.09 / 0.18\n",
    "= 0.5\n",
    "\n",
    "Therefore, the probability that the defective product belongs to type A is 0.5 or 50%.\n",
    "\n",
    "In this example, even though the overall probability of a defective product is only 10%, given that a product is found to be defective, there is a 50% chance that it belongs to type A. Bayes' Theorem allows us to update our probability estimate based on new evidence, in this case, the information that the product is defective."
   ]
  },
  {
   "cell_type": "markdown",
   "id": "d1340543-a7af-46ed-93d4-11307242593c",
   "metadata": {},
   "source": [
    "Q7. Calculate the 95% confidence interval for a sample of data with a mean of 50 and a standard deviation\n",
    "of 5. Interpret the results."
   ]
  },
  {
   "cell_type": "markdown",
   "id": "1d3aa8c2-687e-42b5-ace4-c434dc3b24da",
   "metadata": {},
   "source": [
    "To calculate the 95% confidence interval for a sample of data with a mean of 50 and a standard deviation of 5, we can use the formula:\n",
    "\n",
    "Confidence Interval = (sample mean) ± (critical value) * (standard deviation / √sample size)\n",
    "\n",
    "For a 95% confidence level, the critical value is approximately 1.96 (based on the standard normal distribution).\n",
    "\n",
    "Plugging in the values:\n",
    "Confidence Interval = 50 ± 1.96 * (5 / √n)\n",
    "\n",
    "Since the sample size (n) is not provided in the question, we cannot calculate the exact confidence interval without knowing the sample size. However, I can provide you with a general formula using the concept of the standard error:\n",
    "\n",
    "Confidence Interval = 50 ± 1.96 * (5 / √n)\n",
    "\n",
    "Interpretation: If we were to repeatedly sample from the population and calculate 95% confidence intervals using the given sample mean of 50 and standard deviation of 5, we would expect that approximately 95% of these intervals would contain the true population mean."
   ]
  },
  {
   "cell_type": "markdown",
   "id": "0a07d34b-1b97-481b-ad11-7bd27c309846",
   "metadata": {},
   "source": [
    "Q8. What is the margin of error in a confidence interval? How does sample size affect the margin of error?\n",
    "Provide an example of a scenario where a larger sample size would result in a smaller margin of error."
   ]
  },
  {
   "cell_type": "markdown",
   "id": "e5351fed-20f9-48c6-94ab-5340e5defc02",
   "metadata": {},
   "source": [
    "The margin of error in a confidence interval is the range of values around the sample estimate that is likely to contain the true population parameter with a certain level of confidence. It accounts for the uncertainty in the estimation process.\n",
    "\n",
    "The margin of error is influenced by several factors, including the confidence level and the variability of the data. However, one of the key factors is the sample size. As the sample size increases, the margin of error decreases.\n",
    "\n",
    "This relationship between sample size and margin of error can be understood by the concept of the standard error. The standard error represents the variability of sample means around the population mean. It is inversely proportional to the square root of the sample size. As the sample size increases, the standard error decreases, resulting in a smaller margin of error.\n",
    "\n",
    "For example, let's consider a scenario where we want to estimate the average height of students in a school. With a smaller sample size, such as 50 students, the margin of error may be relatively larger. However, if we increase the sample size to 500 students, the margin of error will be smaller, providing a more precise estimate of the population mean. In other words, a larger sample size allows for more reliable and accurate estimates with a narrower margin of error."
   ]
  },
  {
   "cell_type": "markdown",
   "id": "6507fd25-7d7b-4d44-be3e-26f78222fdfa",
   "metadata": {},
   "source": [
    "Q9. Calculate the z-score for a data point with a value of 75, a population mean of 70, and a population\n",
    "standard deviation of 5. Interpret the results."
   ]
  },
  {
   "cell_type": "markdown",
   "id": "fa3e3bee-106b-4fe5-93a5-012e658fc769",
   "metadata": {},
   "source": [
    "To calculate the z-score, we use the formula:\n",
    "\n",
    "z = (x - μ) / σ\n",
    "\n",
    "Where:\n",
    "x = the data point value\n",
    "μ = the population mean\n",
    "σ = the population standard deviation\n",
    "\n",
    "Let's calculate the z-score for the given values:\n",
    "\n",
    "x = 75\n",
    "μ = 70\n",
    "σ = 5\n",
    "\n",
    "z = (75 - 70) / 5\n",
    "z = 5 / 5\n",
    "z = 1\n",
    "\n",
    "The calculated z-score is 1.\n",
    "\n",
    "Interpreting the result:\n",
    "The z-score of 1 indicates that the data point is one standard deviation above the population mean. In other words, the value of 75 is higher than the average value by one standard deviation. This suggests that the data point is relatively higher compared to the rest of the data in the population."
   ]
  },
  {
   "cell_type": "markdown",
   "id": "d5653246-69ca-4ee9-8815-966cf77848ed",
   "metadata": {},
   "source": [
    "Q10. In a study of the effectiveness of a new weight loss drug, a sample of 50 participants lost an average\n",
    "of 6 pounds with a standard deviation of 2.5 pounds. Conduct a hypothesis test to determine if the drug is\n",
    "significantly effective at a 95% confidence level using a t-test."
   ]
  },
  {
   "cell_type": "markdown",
   "id": "5144ba9a-9de6-4a04-b7c1-fcc142fab77d",
   "metadata": {},
   "source": [
    "To conduct a hypothesis test using a t-test, we need to state the null hypothesis (H0) and the alternative hypothesis (Ha). In this case, the null hypothesis is that the weight loss drug is not significantly effective, and the alternative hypothesis is that the drug is significantly effective.\n",
    "\n",
    "Null Hypothesis (H0): The average weight loss from the drug is not significantly different from zero.\n",
    "Alternative Hypothesis (Ha): The average weight loss from the drug is significantly greater than zero.\n",
    "\n",
    "We can use a one-sample t-test to test this hypothesis. The test statistic is calculated as:\n",
    "\n",
    "t = (x̄ - μ) / (s / √n)\n",
    "\n",
    "Where:\n",
    "x̄ = sample mean\n",
    "μ = population mean (assumed under the null hypothesis, usually 0 in this case)\n",
    "s = sample standard deviation\n",
    "n = sample size\n",
    "\n",
    "Given:\n",
    "x̄ = 6\n",
    "s = 2.5\n",
    "n = 50\n",
    "\n",
    "Assuming a significance level of 0.05 (95% confidence level) and using a one-tailed test, we can compare the calculated t-value with the critical t-value from the t-distribution table.\n",
    "\n",
    "Next, we calculate the t-value:\n",
    "\n",
    "t = (6 - 0) / (2.5 / √50)\n",
    "t = 6 / (2.5 / 7.07)\n",
    "t ≈ 6 / 0.354\n",
    "t ≈ 16.95\n",
    "\n",
    "Looking up the critical t-value for a one-tailed test at a 95% confidence level with 49 degrees of freedom (n - 1), we find it to be approximately 1.676.\n",
    "\n",
    "Since the calculated t-value (16.95) is greater than the critical t-value (1.676), we reject the null hypothesis. This indicates that the average weight loss from the drug is significantly greater than zero. Therefore, we conclude that the weight loss drug is significantly effective based on the sample data."
   ]
  },
  {
   "cell_type": "markdown",
   "id": "84f98a9d-a682-47ee-9b7a-fded3220f30d",
   "metadata": {},
   "source": [
    "Q11. In a survey of 500 people, 65% reported being satisfied with their current job. Calculate the 95%\n",
    "confidence interval for the true proportion of people who are satisfied with their job."
   ]
  },
  {
   "cell_type": "markdown",
   "id": "bfd0d1f2-9c2a-4d11-96e1-a4c6465770fc",
   "metadata": {},
   "source": [
    "To calculate the 95% confidence interval for the true proportion of people who are satisfied with their job, we can use the formula for a confidence interval for a proportion:\n",
    "\n",
    "CI = p̂ ± z * √((p̂ * (1 - p̂)) / n)\n",
    "\n",
    "Where:\n",
    "CI = Confidence interval\n",
    "p̂ = Sample proportion\n",
    "z = Z-score corresponding to the desired confidence level (95% confidence level corresponds to approximately 1.96)\n",
    "n = Sample size\n",
    "\n",
    "Given:\n",
    "p̂ = 0.65 (proportion of people satisfied with their job)\n",
    "n = 500 (sample size)\n",
    "\n",
    "Substituting the values into the formula:\n",
    "\n",
    "CI = 0.65 ± 1.96 * √((0.65 * (1 - 0.65)) / 500)\n",
    "\n",
    "Calculating the values:\n",
    "\n",
    "CI = 0.65 ± 1.96 * √((0.65 * 0.35) / 500)\n",
    "CI = 0.65 ± 1.96 * √(0.22775 / 500)\n",
    "CI = 0.65 ± 1.96 * 0.01595\n",
    "CI = 0.65 ± 0.0312\n",
    "\n",
    "The 95% confidence interval for the true proportion of people satisfied with their job is approximately 0.6188 to 0.6812. This means we can be 95% confident that the true proportion of people satisfied with their job falls within this range based on the given sample."
   ]
  },
  {
   "cell_type": "markdown",
   "id": "5d696821-4f29-46bb-8b10-4a1bc0b2dce0",
   "metadata": {},
   "source": [
    "Q12. A researcher is testing the effectiveness of two different teaching methods on student performance.\n",
    "Sample A has a mean score of 85 with a standard deviation of 6, while sample B has a mean score of 82\n",
    "with a standard deviation of 5. Conduct a hypothesis test to determine if the two teaching methods have a\n",
    "significant difference in student performance using a t-test with a significance level of 0.01."
   ]
  },
  {
   "cell_type": "markdown",
   "id": "35df128a-47de-42ae-ac1a-a3a7291cc9df",
   "metadata": {},
   "source": [
    "To conduct a hypothesis test to determine if the two teaching methods have a significant difference in student performance, we can use a two-sample t-test. The null hypothesis (H0) is that there is no significant difference between the two teaching methods, while the alternative hypothesis (Ha) is that there is a significant difference between the two teaching methods.\n",
    "\n",
    "Given:\n",
    "Sample A: Mean score (μ1) = 85, Standard deviation (σ1) = 6\n",
    "Sample B: Mean score (μ2) = 82, Standard deviation (σ2) = 5\n",
    "Significance level (α) = 0.01\n",
    "\n",
    "The t-test formula for independent samples is:\n",
    "\n",
    "t = (x̄1 - x̄2) / √((s1^2 / n1) + (s2^2 / n2))\n",
    "\n",
    "Where:\n",
    "x̄1, x̄2 = Sample means\n",
    "s1, s2 = Sample standard deviations\n",
    "n1, n2 = Sample sizes\n",
    "\n",
    "Substituting the given values into the formula:\n",
    "\n",
    "t = (85 - 82) / √((6^2 / n1) + (5^2 / n2))\n",
    "\n",
    "Since the sample sizes are not provided, we cannot calculate the exact t-value. However, assuming equal sample sizes (n1 = n2), we can proceed with the calculation:\n",
    "\n",
    "t = (85 - 82) / √((6^2 / n) + (5^2 / n))\n",
    "\n",
    "To determine if the observed t-value is significant, we compare it with the critical t-value at the desired significance level and the degrees of freedom (df = n1 + n2 - 2). If the observed t-value is greater than the critical t-value, we reject the null hypothesis.\n",
    "\n",
    "We then calculate the critical t-value using the significance level and degrees of freedom (df):\n",
    "\n",
    "t_critical = t.ppf(1 - α/2, df)\n",
    "\n",
    "If the observed t-value is greater than the critical t-value, we reject the null hypothesis and conclude that there is a significant difference in student performance between the two teaching methods. If the observed t-value is less than the critical t-value, we fail to reject the null hypothesis.\n",
    "\n",
    "Please note that the exact calculations and critical t-value depend on the sample sizes, which are not provided in the given information."
   ]
  },
  {
   "cell_type": "markdown",
   "id": "8942cd70-587a-4a6d-b8bb-7cafd8a24e76",
   "metadata": {},
   "source": [
    "Q13. A population has a mean of 60 and a standard deviation of 8. A sample of 50 observations has a mean\n",
    "of 65. Calculate the 90% confidence interval for the true population mean."
   ]
  },
  {
   "cell_type": "markdown",
   "id": "0ff6a281-3529-437b-89aa-c1368d18e08b",
   "metadata": {},
   "source": [
    "To calculate the 90% confidence interval for the true population mean, we can use the following formula:\n",
    "\n",
    "Confidence Interval = sample mean ± (critical value * standard error)\n",
    "\n",
    "Given:\n",
    "Population mean (μ) = 60\n",
    "Population standard deviation (σ) = 8\n",
    "Sample size (n) = 50\n",
    "Sample mean (x̄) = 65\n",
    "Confidence level = 90%\n",
    "\n",
    "First, we need to calculate the critical value, which corresponds to the desired confidence level. For a 90% confidence level, the area in the tails of the distribution is (1 - 0.90) / 2 = 0.05. Since the sample size is relatively large (n > 30), we can use the z-table or z-score formula to find the critical value. The critical value for a 90% confidence level is approximately 1.645.\n",
    "\n",
    "Next, we need to calculate the standard error (SE), which represents the standard deviation of the sample mean:\n",
    "\n",
    "SE = σ / √n\n",
    "\n",
    "SE = 8 / √50\n",
    "\n",
    "Now we can calculate the confidence interval:\n",
    "\n",
    "Confidence Interval = 65 ± (1.645 * (8 / √50))\n",
    "\n",
    "Confidence Interval = 65 ± (1.645 * 1.131)\n",
    "\n",
    "Confidence Interval = 65 ± 1.862\n",
    "\n",
    "The lower bound of the confidence interval is 65 - 1.862 = 63.138\n",
    "The upper bound of the confidence interval is 65 + 1.862 = 66.862\n",
    "\n",
    "Therefore, the 90% confidence interval for the true population mean is (63.138, 66.862). This means that we are 90% confident that the true population mean falls within this interval based on the given sample data"
   ]
  },
  {
   "cell_type": "markdown",
   "id": "08501711-401a-421c-a8b5-d9fbf24d5b0f",
   "metadata": {},
   "source": [
    "Q14. In a study of the effects of caffeine on reaction time, a sample of 30 participants had an average\n",
    "reaction time of 0.25 seconds with a standard deviation of 0.05 seconds. Conduct a hypothesis test to\n",
    "determine if the caffeine has a significant effect on reaction time at a 90% confidence level using a t-test."
   ]
  },
  {
   "cell_type": "markdown",
   "id": "a4507c22-ac4c-43b8-b5b8-1ea27319a4ce",
   "metadata": {},
   "source": [
    "To conduct a hypothesis test to determine if caffeine has a significant effect on reaction time, we will use a t-test.\n",
    "\n",
    "Given:\n",
    "Sample size (n) = 30\n",
    "Sample mean (x̄) = 0.25 seconds\n",
    "Sample standard deviation (s) = 0.05 seconds\n",
    "Confidence level = 90%\n",
    "\n",
    "Hypotheses:\n",
    "Null Hypothesis (H₀): Caffeine has no significant effect on reaction time. (μ = 0)\n",
    "Alternative Hypothesis (H₁): Caffeine has a significant effect on reaction time. (μ ≠ 0)\n",
    "\n",
    "We will perform a two-tailed t-test because we want to test for any significant effect, whether it be an increase or decrease in reaction time.\n",
    "\n",
    "First, we need to calculate the t-value using the formula:\n",
    "t = (x̄ - μ) / (s / √n)\n",
    "\n",
    "t = (0.25 - 0) / (0.05 / √30)\n",
    "t = 0.25 / (0.05 / √30)\n",
    "t ≈ 10.00\n",
    "\n",
    "Next, we need to determine the critical t-value based on the degrees of freedom (n - 1) and the desired confidence level. For a 90% confidence level and 29 degrees of freedom, the critical t-value is approximately ±1.699.\n",
    "\n",
    "Since our calculated t-value (10.00) is greater than the critical t-value (1.699), we reject the null hypothesis. This means that there is a significant effect of caffeine on reaction time.\n",
    "\n",
    "In conclusion, based on the given sample data and conducting a t-test at a 90% confidence level, we can conclude that caffeine has a significant effect on reaction time."
   ]
  },
  {
   "cell_type": "code",
   "execution_count": null,
   "id": "729669b7-29d5-44db-8830-a0d02e808bd9",
   "metadata": {},
   "outputs": [],
   "source": []
  }
 ],
 "metadata": {
  "kernelspec": {
   "display_name": "Python 3 (ipykernel)",
   "language": "python",
   "name": "python3"
  },
  "language_info": {
   "codemirror_mode": {
    "name": "ipython",
    "version": 3
   },
   "file_extension": ".py",
   "mimetype": "text/x-python",
   "name": "python",
   "nbconvert_exporter": "python",
   "pygments_lexer": "ipython3",
   "version": "3.10.8"
  }
 },
 "nbformat": 4,
 "nbformat_minor": 5
}
