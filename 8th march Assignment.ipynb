{
 "cells": [
  {
   "cell_type": "markdown",
   "id": "9bfce989-9bf5-4e37-86bd-d45255b9afa1",
   "metadata": {},
   "source": [
    "Q1. What is the Probability density function?"
   ]
  },
  {
   "cell_type": "markdown",
   "id": "2efc76ff-b6b9-49ee-ac97-4b593ed41cc5",
   "metadata": {},
   "source": [
    "The Probability Density Function (PDF) is a mathematical function that describes the probability distribution of a continuous random variable. It represents the relative likelihood of different outcomes occurring within a specific range of values.\n",
    "\n",
    "The PDF is used to understand the probability distribution of continuous random variables, such as the height, weight, or time. Unlike discrete random variables, which have probability mass functions (PMFs), continuous random variables have PDFs because their outcomes can take on any value within a given range.\n",
    "\n",
    "The PDF is defined as a function that integrates to 1 over the entire range of possible values. It provides information about the likelihood of a random variable falling within a certain range of values. The shape of the PDF can vary depending on the specific probability distribution associated with the random variable.\n",
    "\n",
    "The PDF is commonly used in probability theory and statistics to calculate probabilities, determine expected values, and analyze the behavior of continuous random variables. By integrating the PDF over a specific range, one can calculate the probability of the random variable falling within that range."
   ]
  },
  {
   "cell_type": "markdown",
   "id": "41895dcb-e6bd-427d-8573-6ef6d8621725",
   "metadata": {},
   "source": [
    "Q2. What are the types of Probability distribution?"
   ]
  },
  {
   "cell_type": "markdown",
   "id": "984af837-328b-4e10-9c8a-ed2a7e36db66",
   "metadata": {},
   "source": [
    "There are several types of probability distributions, each with its own characteristics and applications. Here are some commonly encountered probability distributions:\n",
    "\n",
    "Uniform Distribution: In a uniform distribution, all outcomes within a given range have an equal probability of occurring. The probability density function (PDF) of a uniform distribution is a constant. Examples include rolling a fair die or selecting a random number between two values.\n",
    "\n",
    "Normal Distribution (Gaussian Distribution): The normal distribution is a bell-shaped symmetric distribution that is widely used in statistics. Many real-world phenomena follow a normal distribution, such as heights, weights, and IQ scores. It is characterized by its mean and standard deviation.\n",
    "\n",
    "Binomial Distribution: The binomial distribution describes the probability of a certain number of successes in a fixed number of independent Bernoulli trials, where each trial has two possible outcomes (success or failure). It is often used to model events with two possible outcomes, such as flipping a coin multiple times or counting the number of successes in a fixed number of experiments.\n",
    "\n",
    "Poisson Distribution: The Poisson distribution is used to model the probability of a certain number of events occurring in a fixed interval of time or space. It is commonly used for counting the occurrences of rare events, such as the number of calls received by a call center in a given hour or the number of accidents on a highway in a day.\n",
    "\n",
    "Exponential Distribution: The exponential distribution describes the time between events occurring in a Poisson process. It is often used to model the time between occurrences of events, such as the time between phone calls or the time between arrivals at a bus stop.\n",
    "\n",
    "Gamma Distribution: The gamma distribution is a versatile distribution that can model a range of phenomena. It is often used for waiting times, survival analysis, and modeling skewed data.\n",
    "\n",
    "These are just a few examples of probability distributions. There are many other distributions, such as the Chi-square distribution, Student's t-distribution, and F-distribution, each with their own characteristics and applications in different fields of study"
   ]
  },
  {
   "cell_type": "markdown",
   "id": "30e22e74-436d-49fd-a073-c5cdfdd0945a",
   "metadata": {},
   "source": [
    "Q3. Write a Python function to calculate the probability density function of a normal distribution with\n",
    "given mean and standard deviation at a given point."
   ]
  },
  {
   "cell_type": "code",
   "execution_count": 1,
   "id": "4721fb0a-524c-4a51-b6c2-a24a0d4e9581",
   "metadata": {},
   "outputs": [
    {
     "name": "stdout",
     "output_type": "stream",
     "text": [
      "The PDF value at x = 1 is: 0.24197072451914337\n"
     ]
    }
   ],
   "source": [
    "import math\n",
    "\n",
    "def normal_pdf(x, mean, std_dev):\n",
    "    coefficient = 1 / (std_dev * math.sqrt(2 * math.pi))\n",
    "    exponent = -(pow(x - mean, 2) / (2 * pow(std_dev, 2)))\n",
    "    pdf = coefficient * math.exp(exponent)\n",
    "    return pdf\n",
    "\n",
    "# Example usage\n",
    "mean = 0\n",
    "std_dev = 1\n",
    "x = 1\n",
    "pdf_value = normal_pdf(x, mean, std_dev)\n",
    "print(f\"The PDF value at x = {x} is: {pdf_value}\")\n"
   ]
  },
  {
   "cell_type": "markdown",
   "id": "589d5dbb-c692-4a62-8848-a13d358bc304",
   "metadata": {},
   "source": [
    "Q4. What are the properties of Binomial distribution? Give two examples of events where binomial\n",
    "distribution can be applied."
   ]
  },
  {
   "cell_type": "markdown",
   "id": "49da2752-2c01-4040-8aeb-c77718c5c775",
   "metadata": {},
   "source": [
    "\n",
    "The binomial distribution has several key properties:\n",
    "\n",
    "Fixed number of trials: The binomial distribution applies to situations with a fixed number of independent trials, denoted by \"n\". Each trial can have only two possible outcomes, typically referred to as success and failure.\n",
    "\n",
    "Constant probability: The probability of success, denoted by \"p,\" remains constant for each trial. The probability of failure is complementary and equal to 1 minus the probability of success (1 - p).\n",
    "\n",
    "Independent trials: The outcomes of each trial are independent of one another. The result of one trial does not affect the outcome of subsequent trials.\n",
    "\n",
    "Discrete outcomes: The binomial distribution deals with discrete outcomes, such as counting the number of successes in a fixed number of trials.\n",
    "\n",
    "Examples of events where the binomial distribution can be applied include:\n",
    "\n",
    "Coin Flips: Consider flipping a fair coin multiple times. Each flip has two possible outcomes: heads (success) or tails (failure). The binomial distribution can be used to determine the probability of obtaining a specific number of heads in a given number of coin flips.\n",
    "\n",
    "Quality Control: In a manufacturing process, items are randomly sampled and classified as either defective or non-defective. The binomial distribution can be used to analyze the probability of finding a certain number of defective items in a fixed sample size.\n",
    "\n",
    "In both examples, we have a fixed number of trials (number of coin flips or number of sampled items), two possible outcomes (success or failure), and a constant probability of success (probability of heads in coin flips or probability of a defective item in quality control). The binomial distribution helps in understanding the probability distribution of the number of successes in these scenarios."
   ]
  },
  {
   "cell_type": "markdown",
   "id": "c6edfb4c-dbbe-4221-9116-ef554b6fec5b",
   "metadata": {},
   "source": [
    "Q5. Generate a random sample of size 1000 from a binomial distribution with probability of success 0.4\n",
    "and plot a histogram of the results using matplotlib."
   ]
  },
  {
   "cell_type": "code",
   "execution_count": 2,
   "id": "065ebc09-56b1-4dea-a328-dd5c0c3a8c64",
   "metadata": {},
   "outputs": [
    {
     "data": {
      "image/png": "[encoded data removed]",
      "text/plain": [
       "<Figure size 640x480 with 1 Axes>"
      ]
     },
     "metadata": {},
     "output_type": "display_data"
    }
   ],
   "source": [
    "import numpy as np\n",
    "import matplotlib.pyplot as plt\n",
    "\n",
    "# Set the parameters\n",
    "sample_size = 1000\n",
    "probability_success = 0.4\n",
    "\n",
    "# Generate the random sample\n",
    "random_sample = np.random.binomial(1, probability_success, sample_size)\n",
    "\n",
    "# Plot the histogram\n",
    "plt.hist(random_sample, bins=2, edgecolor='black')\n",
    "plt.xlabel('Outcome')\n",
    "plt.ylabel('Frequency')\n",
    "plt.title('Binomial Distribution')\n",
    "plt.xticks([0, 1], ['Failure', 'Success'])\n",
    "plt.show()\n"
   ]
  },
  {
   "cell_type": "markdown",
   "id": "887b359e-8e50-4156-924a-77b05e0a8636",
   "metadata": {},
   "source": [
    "Q6. Write a Python function to calculate the cumulative distribution function of a Poisson distribution\n",
    "with given mean at a given point."
   ]
  },
  {
   "cell_type": "code",
   "execution_count": 3,
   "id": "72b2adf5-2851-45f0-9bd7-8cfb28953239",
   "metadata": {},
   "outputs": [
    {
     "name": "stdout",
     "output_type": "stream",
     "text": [
      "The CDF value at k = 2 is: 0.42319008112684353\n"
     ]
    }
   ],
   "source": [
    "import math\n",
    "\n",
    "def poisson_cdf(k, mean):\n",
    "    cdf = 0\n",
    "    for i in range(k + 1):\n",
    "        cdf += (math.exp(-mean) * pow(mean, i)) / math.factorial(i)\n",
    "    return cdf\n",
    "\n",
    "# Example usage\n",
    "mean = 3\n",
    "k = 2\n",
    "cdf_value = poisson_cdf(k, mean)\n",
    "print(f\"The CDF value at k = {k} is: {cdf_value}\")\n"
   ]
  },
  {
   "cell_type": "markdown",
   "id": "9e38398d-d389-48cc-9e9b-a8e603d4505f",
   "metadata": {},
   "source": [
    "Q7. How Binomial distribution different from Poisson distribution?"
   ]
  },
  {
   "cell_type": "markdown",
   "id": "2f526f36-763b-424d-9f7d-647faa16a943",
   "metadata": {},
   "source": [
    "The Binomial distribution and Poisson distribution are both probability distributions used to model discrete events. However, they differ in several key aspects:\n",
    "\n",
    "Definition: The Binomial distribution describes the probability of a specific number of successes (k) in a fixed number of independent trials (n), where each trial has two possible outcomes (success or failure). The Poisson distribution, on the other hand, describes the probability of a certain number of events occurring in a fixed interval of time or space.\n",
    "\n",
    "Parameters: The Binomial distribution is defined by two parameters: the number of trials (n) and the probability of success (p) in each trial. The Poisson distribution, however, is defined by a single parameter: the average rate of event occurrences (λ) in the given interval.\n",
    "\n",
    "Assumptions: The Binomial distribution assumes that the trials are independent and have a fixed probability of success. The Poisson distribution assumes that the events occur randomly and independently of each other, with a constant average rate throughout the interval.\n",
    "\n",
    "Discreteness: The Binomial distribution deals with discrete outcomes, as it involves counting the number of successes in a fixed number of trials. The Poisson distribution also deals with discrete outcomes, representing the number of events occurring in a fixed interval.\n",
    "\n",
    "Shape: The shape of the distributions can be different. The Binomial distribution is usually symmetric or slightly skewed, while the Poisson distribution is often skewed right.\n",
    "\n",
    "Limiting Cases: The Poisson distribution can be considered as a limiting case of the Binomial distribution when the number of trials (n) becomes large and the probability of success (p) becomes small, while keeping the average rate (λ = n * p) constant.\n",
    "\n",
    "In summary, the Binomial distribution models the probability of a specific number of successes in a fixed number of trials, while the Poisson distribution models the probability of a certain number of events occurring in a fixed interval. The choice between these distributions depends on the specific characteristics of the problem and the underlying assumptions."
   ]
  },
  {
   "cell_type": "markdown",
   "id": "9abca142-ed85-4219-abbc-d51fd1ebef1d",
   "metadata": {},
   "source": [
    "Q8. Generate a random sample of size 1000 from a Poisson distribution with mean 5 and calculate the\n",
    "sample mean and variance."
   ]
  },
  {
   "cell_type": "code",
   "execution_count": 4,
   "id": "6c6fd540-dbc0-4b03-b4fc-730efbd9ed30",
   "metadata": {},
   "outputs": [
    {
     "name": "stdout",
     "output_type": "stream",
     "text": [
      "Sample Mean: 4.876\n",
      "Sample Variance: 4.742624\n"
     ]
    }
   ],
   "source": [
    "import numpy as np\n",
    "\n",
    "# Set the parameters\n",
    "sample_size = 1000\n",
    "mean = 5\n",
    "\n",
    "# Generate the random sample\n",
    "random_sample = np.random.poisson(mean, sample_size)\n",
    "\n",
    "# Calculate the sample mean\n",
    "sample_mean = np.mean(random_sample)\n",
    "\n",
    "# Calculate the sample variance\n",
    "sample_variance = np.var(random_sample)\n",
    "\n",
    "print(f\"Sample Mean: {sample_mean}\")\n",
    "print(f\"Sample Variance: {sample_variance}\")\n"
   ]
  },
  {
   "cell_type": "markdown",
   "id": "ffc6ac84-2ddc-4007-9ac6-bc8569d5862b",
   "metadata": {},
   "source": [
    "Q9. How mean and variance are related in Binomial distribution and Poisson distribution?"
   ]
  },
  {
   "cell_type": "markdown",
   "id": "031ddcdb-a125-4f3a-ad7b-12e96fc8b1be",
   "metadata": {},
   "source": [
    "In both the Binomial distribution and the Poisson distribution, the mean and variance are closely related, but the specific relationship differs between the two distributions.\n",
    "\n",
    "For the Binomial distribution:\n",
    "\n",
    "Mean: The mean of a Binomial distribution with parameters n (number of trials) and p (probability of success) is given by μ = n * p.\n",
    "Variance: The variance of a Binomial distribution is calculated as Var(X) = n * p * (1 - p), where Var(X) represents the variance of the distribution.\n",
    "In the Binomial distribution, the variance depends on both the number of trials and the probability of success. As the number of trials increases while keeping the probability of success constant, the variance also increases. The variance is at its highest when the probability of success is 0.5.\n",
    "\n",
    "For the Poisson distribution:\n",
    "\n",
    "Mean: The mean of a Poisson distribution is denoted by λ (lambda), and it represents the average rate of events occurring in a fixed interval of time or space.\n",
    "Variance: The variance of a Poisson distribution is also equal to λ.\n",
    "In the Poisson distribution, the mean and variance are equal. This property arises because the Poisson distribution assumes that the average rate of events remains constant throughout the interval. As a result, the variability in the number of events observed is solely determined by the average rate, λ.\n",
    "\n",
    "In summary, for the Binomial distribution, the variance depends on both the number of trials and the probability of success, while for the Poisson distribution, the variance is equal to the mean."
   ]
  },
  {
   "cell_type": "markdown",
   "id": "319244e9-7fb6-4d32-ac5a-1b3d65e7c778",
   "metadata": {},
   "source": [
    "Q10. In normal distribution with respect to mean position, where does the least frequent data appear?"
   ]
  },
  {
   "cell_type": "markdown",
   "id": "272451ee-dd31-4f41-979c-d4759955239e",
   "metadata": {},
   "source": [
    "In a normal distribution, also known as a Gaussian distribution, the least frequent data points appear in the tails of the distribution, which are the extreme ends.\n",
    "\n",
    "The normal distribution is symmetric, meaning that it is evenly distributed around its mean. The mean of a normal distribution represents the center or peak of the distribution. As we move away from the mean towards the tails, the frequency of data points decreases gradually.\n",
    "\n",
    "The tails of a normal distribution represent the values that are farthest from the mean. These values occur with the lowest frequency in the distribution. The data points in the tails are considered the most extreme or rarest observations in the dataset.\n",
    "\n",
    "In summary, the least frequent data points in a normal distribution appear in the tails, which are located farthest from the mean."
   ]
  },
  {
   "cell_type": "code",
   "execution_count": null,
   "id": "1cbd1cf5-00ac-45e5-ad5f-63e54cbf2fee",
   "metadata": {},
   "outputs": [],
   "source": []
  }
 ],
 "metadata": {
  "kernelspec": {
   "display_name": "Python 3 (ipykernel)",
   "language": "python",
   "name": "python3"
  },
  "language_info": {
   "codemirror_mode": {
    "name": "ipython",
    "version": 3
   },
   "file_extension": ".py",
   "mimetype": "text/x-python",
   "name": "python",
   "nbconvert_exporter": "python",
   "pygments_lexer": "ipython3",
   "version": "3.10.8"
  }
 },
 "nbformat": 4,
 "nbformat_minor": 5
}
