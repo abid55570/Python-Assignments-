{
 "cells": [
  {
   "cell_type": "markdown",
   "id": "99060b69-f91b-482e-96fe-a84c03c569b7",
   "metadata": {},
   "source": [
    "Q1: What is Estimation Statistics? Explain point estimate and interval estimate."
   ]
  },
  {
   "cell_type": "markdown",
   "id": "fe70ea9d-ade7-4968-a6f1-a288ca642ca7",
   "metadata": {},
   "source": [
    "Estimation statistics is a branch of statistics that involves the process of estimating population parameters based on sample data. It allows us to make inferences and draw conclusions about the characteristics of a population using information obtained from a representative sample.\n",
    "\n",
    "Point Estimate:\n",
    "A point estimate is a single numerical value that is used to estimate an unknown population parameter. It is obtained by using sample data to calculate a statistic that serves as an estimate of the population parameter of interest. For example, if we are interested in estimating the mean height of all adults in a city, we can calculate the mean height from a sample of individuals and use it as a point estimate for the population mean height. A point estimate provides a specific value but does not give information about the precision or reliability of the estimate.\n",
    "\n",
    "Interval Estimate:\n",
    "An interval estimate, also known as a confidence interval, provides a range of values within which the population parameter is likely to fall. It takes into account both the point estimate and the variability of the data. A confidence interval is constructed by specifying a confidence level, typically expressed as a percentage, which represents the level of confidence that the interval contains the true population parameter. For example, a 95% confidence interval for the mean height of adults in a city might be (160 cm, 170 cm), indicating that we are 95% confident that the true population mean height falls within this interval. Interval estimates provide a range of values and provide information about the precision and uncertainty associated with the estimate.\n",
    "\n",
    "The main difference between point estimates and interval estimates is that point estimates provide a single value as an estimate of the population parameter, while interval estimates provide a range of values within which the parameter is likely to lie. Point estimates are useful for obtaining a quick estimate, while interval estimates provide a more comprehensive understanding of the population parameter by accounting for uncertainty. Interval estimates provide a measure of the precision and reliability of the estimate and are often preferred when reporting statistical results."
   ]
  },
  {
   "cell_type": "markdown",
   "id": "a39dd6a6-717a-400c-9c2a-07232d834eda",
   "metadata": {},
   "source": [
    "Q2. Write a Python function to estimate the population mean using a sample mean and standard\n",
    "deviation."
   ]
  },
  {
   "cell_type": "code",
   "execution_count": 1,
   "id": "ccd80ebb-1460-4a9a-a0c6-fed86a2de202",
   "metadata": {},
   "outputs": [],
   "source": [
    "def estimate_population_mean(sample_mean, sample_std_dev, sample_size):\n",
    "    # Calculate the standard error\n",
    "    standard_error = sample_std_dev / (sample_size ** 0.5)\n",
    "    \n",
    "    # Calculate the margin of error (typically using a desired confidence level and the appropriate critical value)\n",
    "    # For example, for a 95% confidence level, the critical value would be 1.96\n",
    "    margin_of_error = 1.96 * standard_error\n",
    "    \n",
    "    # Calculate the lower and upper bounds of the confidence interval\n",
    "    lower_bound = sample_mean - margin_of_error\n",
    "    upper_bound = sample_mean + margin_of_error\n",
    "    \n",
    "    # Return the estimated population mean and the confidence interval\n",
    "    return sample_mean, lower_bound, upper_bound\n"
   ]
  },
  {
   "cell_type": "markdown",
   "id": "a0401b29-96af-4876-a69b-ecc5028328d3",
   "metadata": {},
   "source": [
    "Q3: What is Hypothesis testing? Why is it used? State the importance of Hypothesis testing."
   ]
  },
  {
   "cell_type": "markdown",
   "id": "9713474e-6fc5-4f7a-84be-7e6bbacf4152",
   "metadata": {},
   "source": [
    "Hypothesis testing is a statistical method used to make inferences and draw conclusions about a population based on sample data. It involves formulating a hypothesis about the population parameter of interest and testing it using statistical techniques. The primary purpose of hypothesis testing is to assess the strength of evidence in favor of or against a particular claim or hypothesis.\n",
    "\n",
    "Hypothesis testing is used to:\n",
    "\n",
    "Test Research Questions: Hypothesis testing allows researchers to test specific research questions or hypotheses and determine if there is enough evidence to support or reject them. It helps in making data-driven decisions and drawing valid conclusions.\n",
    "\n",
    "Assess the Significance of Relationships: Hypothesis testing enables the assessment of the significance of relationships between variables. For example, in a study investigating the effectiveness of a new drug, hypothesis testing can help determine if there is a significant difference in outcomes between the treatment and control groups.\n",
    "\n",
    "Support Decision Making: Hypothesis testing provides a framework for decision making in various fields, including business, medicine, social sciences, and more. It helps in evaluating the effectiveness of interventions, analyzing the impact of new policies, or making informed choices based on evidence.\n",
    "\n",
    "The importance of hypothesis testing lies in its ability to provide a structured approach to analyzing data and drawing meaningful conclusions. By using statistical techniques, hypothesis testing helps researchers and analysts make evidence-based decisions rather than relying solely on intuition or anecdotal evidence. It provides a framework for assessing the strength of evidence, determining the statistical significance of results, and quantifying the level of uncertainty associated with conclusions.\n",
    "\n",
    "Hypothesis testing also plays a crucial role in scientific research by promoting transparency and reproducibility. It allows other researchers to critically evaluate and replicate findings, contributing to the advancement of knowledge in various fields.\n",
    "\n",
    "In summary, hypothesis testing is an essential tool in statistics and research, enabling the evaluation of research questions, assessment of relationships, informed decision making, and advancing scientific understanding. It provides a systematic approach to drawing valid conclusions based on data analysis and plays a significant role in evidence-based decision making."
   ]
  },
  {
   "cell_type": "markdown",
   "id": "035576c7-09ec-45ca-b3bc-0f3e52c8a47c",
   "metadata": {},
   "source": [
    "Q4. Create a hypothesis that states whether the average weight of male college students is greater than\n",
    "the average weight of female college students."
   ]
  },
  {
   "cell_type": "markdown",
   "id": "aecbaf1c-80b1-4286-b02a-60825f4cd5bc",
   "metadata": {},
   "source": [
    "Null Hypothesis (H₀): The average weight of male college students is equal to or less than the average weight of female college students.\n",
    "Alternative Hypothesis (H₁): The average weight of male college students is greater than the average weight of female college students.\n",
    "\n",
    "Symbolically:\n",
    "H₀: μ_male ≤ μ_female\n",
    "H₁: μ_male > μ_female\n",
    "\n",
    "In words:\n",
    "Null Hypothesis (H₀): The population mean weight of male college students is equal to or less than the population mean weight of female college students.\n",
    "Alternative Hypothesis (H₁): The population mean weight of male college students is greater than the population mean weight of female college students.\n",
    "\n",
    "Note: This is a one-tailed hypothesis test, as we are specifically testing if the average weight of male college students is greater than that of female college students.\n",
    "\n",
    "\n",
    "\n",
    "\n",
    "\n"
   ]
  },
  {
   "cell_type": "markdown",
   "id": "487ec00e-e4ad-46ef-b8cd-969ae492e327",
   "metadata": {},
   "source": [
    "Q5. Write a Python script to conduct a hypothesis test on the difference between two population means,\n",
    "given a sample from each population."
   ]
  },
  {
   "cell_type": "code",
   "execution_count": 2,
   "id": "faa727d7-a7a2-45d9-9b2b-a39b6b6ba2f4",
   "metadata": {},
   "outputs": [],
   "source": [
    "import numpy as np\n",
    "from scipy import stats\n",
    "\n",
    "def conduct_hypothesis_test(sample1, sample2, alpha):\n",
    "    # Compute the sample means and sample standard deviations\n",
    "    mean1 = np.mean(sample1)\n",
    "    mean2 = np.mean(sample2)\n",
    "    std_dev1 = np.std(sample1, ddof=1)\n",
    "    std_dev2 = np.std(sample2, ddof=1)\n",
    "    \n",
    "    # Compute the test statistic (t-score)\n",
    "    n1 = len(sample1)\n",
    "    n2 = len(sample2)\n",
    "    pooled_std_dev = np.sqrt((std_dev1**2 / n1) + (std_dev2**2 / n2))\n",
    "    t_score = (mean1 - mean2) / pooled_std_dev\n",
    "    \n",
    "    # Compute the degrees of freedom\n",
    "    df = n1 + n2 - 2\n",
    "    \n",
    "    # Compute the critical value for the given significance level (two-tailed test)\n",
    "    critical_value = stats.t.ppf(1 - alpha/2, df)\n",
    "    \n",
    "    # Compute the p-value\n",
    "    p_value = stats.t.sf(abs(t_score), df) * 2\n",
    "    \n",
    "    # Determine if the null hypothesis should be rejected or not\n",
    "    if p_value < alpha:\n",
    "        result = \"Reject the null hypothesis\"\n",
    "    else:\n",
    "        result = \"Fail to reject the null hypothesis\"\n",
    "    \n",
    "    # Return the test results\n",
    "    return {\n",
    "        'mean_difference': mean1 - mean2,\n",
    "        't_score': t_score,\n",
    "        'df': df,\n",
    "        'critical_value': critical_value,\n",
    "        'p_value': p_value,\n",
    "        'result': result\n",
    "    }\n"
   ]
  },
  {
   "cell_type": "markdown",
   "id": "b932a073-da84-4c58-a3b4-c0223350d302",
   "metadata": {},
   "source": [
    "Q6: What is a null and alternative hypothesis? Give some examples."
   ]
  },
  {
   "cell_type": "markdown",
   "id": "16c2df6a-5dc2-4f97-860c-2dd60c51155f",
   "metadata": {},
   "source": [
    "In hypothesis testing, the null hypothesis (H₀) and alternative hypothesis (H₁) are two competing statements about a population parameter that are subject to statistical testing. These hypotheses help in making conclusions based on the observed data.\n",
    "\n",
    "The null hypothesis (H₀) is the default or initial assumption that there is no significant difference or relationship between variables, or that any observed difference is due to chance. It represents the status quo or a lack of effect. It is typically denoted with an equal sign (=), less than or equal to sign (≤), or greater than or equal to sign (≥).\n",
    "\n",
    "The alternative hypothesis (H₁) is the statement that contradicts or challenges the null hypothesis. It proposes that there is a significant difference or relationship between variables and that any observed difference is not due to chance. It is the hypothesis of interest or the claim to be tested. It is typically denoted with a not equal to sign (≠), greater than sign (>), or less than sign (<).\n",
    "\n",
    "Examples:\n",
    "\n",
    "Null Hypothesis: The mean score of students who receive tutoring is equal to or less than the mean score of students who do not receive tutoring.\n",
    "Alternative Hypothesis: The mean score of students who receive tutoring is greater than the mean score of students who do not receive tutoring.\n",
    "\n",
    "Null Hypothesis: The proportion of defective products produced by Machine A is equal to or greater than the proportion of defective products produced by Machine B.\n",
    "Alternative Hypothesis: The proportion of defective products produced by Machine A is less than the proportion of defective products produced by Machine B.\n",
    "\n",
    "Null Hypothesis: There is no difference in customer satisfaction between two different product packaging designs.\n",
    "Alternative Hypothesis: There is a significant difference in customer satisfaction between two different product packaging designs.\n",
    "\n",
    "In each example, the null hypothesis assumes no difference or no effect, while the alternative hypothesis suggests a difference or effect. The purpose of hypothesis testing is to gather evidence from the sample data to either support the null hypothesis or provide evidence to reject it in favor of the alternative hypothesis."
   ]
  },
  {
   "cell_type": "markdown",
   "id": "9488d670-5fb4-4d73-a3f1-7f49331db745",
   "metadata": {},
   "source": [
    "Q7: Write down the steps involved in hypothesis testing."
   ]
  },
  {
   "cell_type": "markdown",
   "id": "39ca7a7d-a5b9-42ba-842d-86e0655e2567",
   "metadata": {},
   "source": [
    "The steps involved in hypothesis testing are as follows:\n",
    "\n",
    "Formulate the hypotheses:\n",
    "\n",
    "State the null hypothesis (H₀), which represents the default assumption or no significant difference or effect.\n",
    "State the alternative hypothesis (H₁), which contradicts the null hypothesis and represents the claim or the desired effect.\n",
    "Set the significance level (α):\n",
    "\n",
    "Choose the level of significance (α), which determines the probability of rejecting the null hypothesis when it is true.\n",
    "Commonly used significance levels are 0.05 (5%) and 0.01 (1%).\n",
    "Select the appropriate test statistic and probability distribution:\n",
    "\n",
    "Determine the appropriate test statistic based on the type of data and the objectives of the study.\n",
    "Identify the probability distribution associated with the test statistic under the null hypothesis.\n",
    "Collect and analyze the data:\n",
    "\n",
    "Collect a representative sample from the population of interest.\n",
    "Calculate the test statistic using the sample data and the chosen test statistic formula.\n",
    "Determine the critical region and critical value:\n",
    "\n",
    "Identify the critical region, which represents the range of test statistic values that would lead to rejecting the null hypothesis.\n",
    "Calculate the critical value based on the chosen significance level and the probability distribution associated with the test statistic.\n",
    "Make a decision:\n",
    "\n",
    "Compare the test statistic value with the critical value.\n",
    "If the test statistic falls within the critical region, reject the null hypothesis.\n",
    "If the test statistic does not fall within the critical region, fail to reject the null hypothesis.\n",
    "Draw conclusions:\n",
    "\n",
    "Interpret the results in the context of the problem.\n",
    "If the null hypothesis is rejected, provide evidence in support of the alternative hypothesis.\n",
    "If the null hypothesis is not rejected, state that there is not enough evidence to support the alternative hypothesis.\n",
    "Report the results:\n",
    "\n",
    "Summarize the findings of the hypothesis test, including the test statistic, the critical value, the p-value (if applicable), and the conclusion.\n",
    "It's important to note that hypothesis testing is a statistical inference technique used to make conclusions based on sample data. The process involves setting up competing hypotheses, analyzing the data, and drawing conclusions about the population based on the sample evidence."
   ]
  },
  {
   "cell_type": "markdown",
   "id": "5d080284-c740-4998-91f7-0cd9f449ec2a",
   "metadata": {},
   "source": [
    "Q8. Define p-value and explain its significance in hypothesis testing."
   ]
  },
  {
   "cell_type": "markdown",
   "id": "72e3ed7f-2e18-4176-8dab-c315e82c2c6a",
   "metadata": {},
   "source": [
    "The p-value, also known as the probability value, is a measure of evidence against the null hypothesis in hypothesis testing. It quantifies the strength of the evidence provided by the sample data in favor of the alternative hypothesis. The p-value represents the probability of obtaining a test statistic as extreme as, or more extreme than, the observed value, assuming that the null hypothesis is true.\n",
    "\n",
    "The significance of the p-value in hypothesis testing can be understood as follows:\n",
    "\n",
    "If the p-value is small (below the chosen significance level, typically denoted by α), it indicates strong evidence against the null hypothesis. In other words, it suggests that the observed data is unlikely to occur if the null hypothesis is true. This leads to rejecting the null hypothesis in favor of the alternative hypothesis.\n",
    "If the p-value is large (above the chosen significance level), it indicates weak evidence against the null hypothesis. In this case, the observed data is reasonably likely to occur even if the null hypothesis is true. Therefore, the null hypothesis is not rejected, and the conclusion is that there is not enough evidence to support the alternative hypothesis.\n",
    "The significance level (α) determines the threshold for decision-making in hypothesis testing. It is commonly set to 0.05 or 0.01, representing the probability of rejecting the null hypothesis when it is true. If the calculated p-value is smaller than α, the null hypothesis is rejected, implying that the result is statistically significant. Conversely, if the p-value is larger than α, the null hypothesis is not rejected, suggesting that the result is not statistically significant.\n",
    "\n",
    "It's important to note that the p-value should not be interpreted as the probability of the null hypothesis being true or false, nor does it provide information about the effect size or the practical significance of the observed result. Instead, it informs about the strength of evidence against the null hypothesis based on the observed data"
   ]
  },
  {
   "cell_type": "markdown",
   "id": "5fef7c61-816e-4a43-91f2-d0d9f6b1b35c",
   "metadata": {},
   "source": [
    "Q9. Generate a Student's t-distribution plot using Python's matplotlib library, with the degrees of freedom\n",
    "parameter set to 10."
   ]
  },
  {
   "cell_type": "code",
   "execution_count": 3,
   "id": "046226c3-5273-4f1d-90a6-58cde4f3681e",
   "metadata": {},
   "outputs": [
    {
     "data": {
      "image/png": "[encoded data removed]",
      "text/plain": [
       "<Figure size 640x480 with 1 Axes>"
      ]
     },
     "metadata": {},
     "output_type": "display_data"
    }
   ],
   "source": [
    "import numpy as np\n",
    "import matplotlib.pyplot as plt\n",
    "from scipy.stats import t\n",
    "\n",
    "# Generate x-values\n",
    "x = np.linspace(-4, 4, 100)\n",
    "\n",
    "# Calculate the y-values using the t-distribution\n",
    "df = 10  # Degrees of freedom\n",
    "y = t.pdf(x, df)\n",
    "\n",
    "# Plot the t-distribution\n",
    "plt.plot(x, y, label=f\"t-distribution (df={df})\")\n",
    "plt.xlabel(\"x\")\n",
    "plt.ylabel(\"Probability Density\")\n",
    "plt.title(\"Student's t-distribution\")\n",
    "plt.legend()\n",
    "plt.grid(True)\n",
    "plt.show()\n"
   ]
  },
  {
   "cell_type": "markdown",
   "id": "575f2dc7-6052-4b75-aa86-d3ebb5ea01b8",
   "metadata": {},
   "source": [
    "Q10. Write a Python program to calculate the two-sample t-test for independent samples, given two\n",
    "random samples of equal size and a null hypothesis that the population means are equal."
   ]
  },
  {
   "cell_type": "code",
   "execution_count": 4,
   "id": "d4f1636d-9a7d-40aa-99ab-018ae3dbc1db",
   "metadata": {},
   "outputs": [
    {
     "name": "stdout",
     "output_type": "stream",
     "text": [
      "Two-Sample T-Test Results:\n",
      "t-statistic: -8.344126436766873\n",
      "p-value: 1.2141452805138897e-14\n"
     ]
    }
   ],
   "source": [
    "import numpy as np\n",
    "from scipy.stats import ttest_ind\n",
    "\n",
    "# Generate two random samples\n",
    "sample1 = np.random.normal(10, 2, size=100)\n",
    "sample2 = np.random.normal(12, 2, size=100)\n",
    "\n",
    "# Perform the two-sample t-test\n",
    "t_statistic, p_value = ttest_ind(sample1, sample2)\n",
    "\n",
    "# Print the results\n",
    "print(\"Two-Sample T-Test Results:\")\n",
    "print(f\"t-statistic: {t_statistic}\")\n",
    "print(f\"p-value: {p_value}\")\n"
   ]
  },
  {
   "cell_type": "markdown",
   "id": "43f4ab26-e7cd-406c-b60c-1ef7d90084ea",
   "metadata": {},
   "source": [
    "Q11: What is Student’s t distribution? When to use the t-Distribution."
   ]
  },
  {
   "cell_type": "markdown",
   "id": "471d6351-57cb-4a62-a404-8e7413a75ecf",
   "metadata": {},
   "source": [
    "Student's t-distribution, also known as the t-distribution, is a probability distribution that is similar to the standard normal distribution (Z-distribution) but has heavier tails. It is used in statistical inference when the sample size is small or when the population standard deviation is unknown.\n",
    "\n",
    "The t-distribution is characterized by its degrees of freedom (df), which determine its shape. The degrees of freedom are related to the sample size and affect the width of the distribution. As the degrees of freedom increase, the t-distribution approaches the standard normal distribution.\n",
    "\n",
    "The t-distribution is used in various situations, including:\n",
    "\n",
    "When the population standard deviation is unknown: In this case, the sample standard deviation is used to estimate the population standard deviation, and the t-distribution is used to make inferences about the population mean.\n",
    "\n",
    "When the sample size is small: For small sample sizes, the t-distribution is more appropriate than the standard normal distribution because it accounts for the increased uncertainty due to the limited data.\n",
    "\n",
    "Confidence intervals and hypothesis testing: The t-distribution is used to construct confidence intervals and conduct hypothesis tests for population means when the sample size is small or the population standard deviation is unknown.\n",
    "\n",
    "Comparing two sample means: When comparing means from two independent samples, the t-distribution can be used to test whether the means are significantly different.\n",
    "\n",
    "In summary, the t-distribution is a probability distribution that is used in situations where the population standard deviation is unknown or the sample size is small. It allows for more accurate inference when dealing with limited data and provides a useful tool for hypothesis testing and constructing confidence intervals."
   ]
  },
  {
   "cell_type": "markdown",
   "id": "178db2b0-a7b9-4534-9d54-e0f8c10e9afe",
   "metadata": {},
   "source": [
    "Q12: What is t-statistic? State the formula for t-statistic."
   ]
  },
  {
   "cell_type": "markdown",
   "id": "9574abb8-a9d6-4f7c-8a41-52714ed159dd",
   "metadata": {},
   "source": [
    "The t-statistic is a measure used in hypothesis testing to determine the significance of the difference between sample means or the relationship between a sample mean and a population mean. It compares the difference between sample means to the variability within the samples.\n",
    "\n",
    "The formula for the t-statistic depends on the type of hypothesis test being conducted. Here are the formulas for two common scenarios:\n",
    "\n",
    "One-sample t-test:\n",
    "The one-sample t-test is used to compare the mean of a single sample to a known or hypothesized population mean. The formula for the t-statistic in this case is:\n",
    "\n",
    "One-sample t-test formula\n",
    "\n",
    "where x̄ is the sample mean, μ is the population mean (hypothesized or known), s is the sample standard deviation, and n is the sample size.\n",
    "\n",
    "Independent two-sample t-test:\n",
    "The independent two-sample t-test is used to compare the means of two independent samples. The formula for the t-statistic in this case is:\n",
    "\n",
    "Independent two-sample t-test formula\n",
    "\n",
    "where x̄1 and x̄2 are the means of the two samples, s1 and s2 are the respective sample standard deviations, n1 and n2 are the sample sizes, and the pooled standard deviation (sp) is calculated as:\n",
    "\n",
    "Pooled standard deviation formula\n",
    "\n",
    "The degrees of freedom (df) for the t-statistic are calculated as (n1 + n2 - 2).\n",
    "\n",
    "In both cases, the t-statistic measures the difference between sample means relative to the variability within the samples. A larger t-statistic indicates a greater difference between the means and provides evidence against the null hypothesis. The t-statistic is then compared to critical values from the t-distribution to determine the p-value and make conclusions about the hypothesis test."
   ]
  },
  {
   "cell_type": "markdown",
   "id": "5bd79e1f-9bda-4494-b29e-28d8c9842a18",
   "metadata": {},
   "source": [
    "Q13. A coffee shop owner wants to estimate the average daily revenue for their shop. They take a random\n",
    "sample of 50 days and find the sample mean revenue to be $500 with a standard deviation of $50.\n",
    "Estimate the population mean revenue with a 95% confidence interval."
   ]
  },
  {
   "cell_type": "markdown",
   "id": "8ff49fff-8a9e-4a78-842c-6febaf317fe0",
   "metadata": {},
   "source": [
    "To estimate the population mean revenue with a 95% confidence interval, we can use the sample mean, sample standard deviation, and the appropriate critical value from the t-distribution.\n",
    "\n",
    "Given:\n",
    "Sample size (n) = 50\n",
    "Sample mean (x̄) = $500\n",
    "Sample standard deviation (s) = $50\n",
    "\n",
    "Since the sample size is relatively large (n > 30), we can use the t-distribution to estimate the population mean.\n",
    "\n",
    "First, we need to determine the critical value at a 95% confidence level. For a 95% confidence interval, we use a significance level of α = 0.05. Since we are estimating the population mean with the t-distribution, we need to find the critical value with (n - 1) degrees of freedom. In this case, the degrees of freedom is 49.\n",
    "\n",
    "Using a t-table or statistical software, the critical value for a 95% confidence level and 49 degrees of freedom is approximately 2.009.\n",
    "\n",
    "Next, we can calculate the margin of error (E) using the formula:\n",
    "E = critical value * (s / √n)\n",
    "\n",
    "Plugging in the values, we get:\n",
    "E = 2.009 * (50 / √50) = 14.23\n",
    "\n",
    "Finally, we can construct the 95% confidence interval by adding and subtracting the margin of error from the sample mean:\n",
    "95% Confidence Interval = x̄ ± E\n",
    "= $500 ± $14.23\n",
    "\n",
    "Thus, the 95% confidence interval for the population mean revenue is approximately $485.77 to $514.23. This means that we are 95% confident that the true average daily revenue for the coffee shop falls within this interval."
   ]
  },
  {
   "cell_type": "markdown",
   "id": "914e0656-e2b1-4300-a8a1-8be84da6e4d0",
   "metadata": {},
   "source": [
    "Q14. A researcher hypothesizes that a new drug will decrease blood pressure by 10 mmHg. They conduct a\n",
    "clinical trial with 100 patients and find that the sample mean decrease in blood pressure is 8 mmHg with a\n",
    "standard deviation of 3 mmHg. Test the hypothesis with a significance level of 0.05."
   ]
  },
  {
   "cell_type": "markdown",
   "id": "915d9728-3329-4344-820e-caf2f051a01f",
   "metadata": {},
   "source": [
    "To test the hypothesis that the new drug decreases blood pressure by 10 mmHg, we can conduct a hypothesis test using the sample data.\n",
    "\n",
    "Given:\n",
    "Sample size (n) = 100\n",
    "Sample mean decrease in blood pressure (x̄) = 8 mmHg\n",
    "Sample standard deviation (s) = 3 mmHg\n",
    "Hypothesized mean decrease in blood pressure (μ₀) = 10 mmHg\n",
    "Significance level (α) = 0.05\n",
    "\n",
    "We will use a one-sample t-test to compare the sample mean with the hypothesized mean. The null and alternative hypotheses are as follows:\n",
    "\n",
    "Null Hypothesis (H₀): The new drug does not decrease blood pressure by 10 mmHg. μ = μ₀\n",
    "Alternative Hypothesis (H₁): The new drug decreases blood pressure by 10 mmHg. μ < μ₀\n",
    "\n",
    "We will calculate the t-statistic using the formula:\n",
    "t = (x̄ - μ₀) / (s / √n)\n",
    "\n",
    "Plugging in the values, we get:\n",
    "t = (8 - 10) / (3 / √100) = -2 / 0.3 = -6.67\n",
    "\n",
    "Next, we need to determine the critical value for a one-tailed test with a significance level of 0.05 and (n - 1) degrees of freedom. In this case, the degrees of freedom is 99. Using a t-table or statistical software, the critical value is approximately -1.66.\n",
    "\n",
    "Since the t-statistic (-6.67) is less than the critical value (-1.66), we reject the null hypothesis. This means that there is sufficient evidence to conclude that the new drug decreases blood pressure by 10 mmHg.\n",
    "\n",
    "In conclusion, based on the sample data, we reject the null hypothesis and accept the alternative hypothesis, indicating that the new drug does decrease blood pressure by 10 mmHg."
   ]
  },
  {
   "cell_type": "markdown",
   "id": "66ba774a-f383-4d0c-b2eb-0e17e36539a7",
   "metadata": {},
   "source": [
    "Q15. An electronics company produces a certain type of product with a mean weight of 5 pounds and a\n",
    "standard deviation of 0.5 pounds. A random sample of 25 products is taken, and the sample mean weight\n",
    "is found to be 4.8 pounds. Test the hypothesis that the true mean weight of the products is less than 5\n",
    "pounds with a significance level of 0.01."
   ]
  },
  {
   "cell_type": "code",
   "execution_count": null,
   "id": "16a6b762-3715-4777-a9c0-98dc0e7d212b",
   "metadata": {},
   "outputs": [],
   "source": [
    "To test the hypothesis that the true mean weight of the products is less than 5 pounds, we can conduct a hypothesis test using the sample data.\n",
    "\n",
    "Given:\n",
    "Sample size (n) = 25\n",
    "Sample mean weight (x̄) = 4.8 pounds\n",
    "Population standard deviation (σ) = 0.5 pounds\n",
    "Hypothesized mean weight (μ₀) = 5 pounds\n",
    "Significance level (α) = 0.01\n",
    "\n",
    "We will use a one-sample t-test to compare the sample mean with the hypothesized mean. The null and alternative hypotheses are as follows:\n",
    "\n",
    "Null Hypothesis (H₀): The true mean weight of the products is equal to or greater than 5 pounds. μ ≥ μ₀\n",
    "Alternative Hypothesis (H₁): The true mean weight of the products is less than 5 pounds. μ < μ₀\n",
    "\n",
    "We will calculate the t-statistic using the formula:\n",
    "t = (x̄ - μ₀) / (σ / √n)\n",
    "\n",
    "Plugging in the values, we get:\n",
    "t = (4.8 - 5) / (0.5 / √25) = -0.2 / 0.1 = -2\n",
    "\n",
    "Next, we need to determine the critical value for a one-tailed test with a significance level of 0.01 and (n - 1) degrees of freedom. In this case, the degrees of freedom is 24. Using a t-table or statistical software, the critical value is approximately -2.492.\n",
    "\n",
    "Since the t-statistic (-2) is greater than the critical value (-2.492), we fail to reject the null hypothesis. This means that there is not sufficient evidence to conclude that the true mean weight of the products is less than 5 pounds.\n",
    "\n",
    "In conclusion, based on the sample data, we fail to reject the null hypothesis and do not have enough evidence to support the claim that the true mean weight of the products is less than 5 pounds at a significance level of 0.01."
   ]
  },
  {
   "cell_type": "code",
   "execution_count": null,
   "id": "24eade1b-7857-4b2a-906e-0b2ca9224f23",
   "metadata": {},
   "outputs": [],
   "source": [
    "Q16. Two groups of students are given different study materials to prepare for a test. The first group (n1 =\n",
    "30) has a mean score of 80 with a standard deviation of 10, and the second group (n2 = 40) has a mean\n",
    "score of 75 with a standard deviation of 8. Test the hypothesis that the population means for the two\n",
    "groups are equal with a significance level of 0.01."
   ]
  },
  {
   "cell_type": "code",
   "execution_count": null,
   "id": "05f653dd-1823-4e38-9d23-c6123764529f",
   "metadata": {},
   "outputs": [],
   "source": []
  },
  {
   "cell_type": "code",
   "execution_count": null,
   "id": "afc1b05c-69b3-48d7-98d6-90b8b772df3e",
   "metadata": {},
   "outputs": [],
   "source": [
    "Q17. A marketing company wants to estimate the average number of ads watched by viewers during a TV\n",
    "program. They take a random sample of 50 viewers and find that the sample mean is 4 with a standard\n",
    "deviation of 1.5. Estimate the population mean with a 99% confidence interval."
   ]
  },
  {
   "cell_type": "code",
   "execution_count": null,
   "id": "7008a5aa-c60a-43df-9246-290eab018c1f",
   "metadata": {},
   "outputs": [],
   "source": []
  }
 ],
 "metadata": {
  "kernelspec": {
   "display_name": "Python 3 (ipykernel)",
   "language": "python",
   "name": "python3"
  },
  "language_info": {
   "codemirror_mode": {
    "name": "ipython",
    "version": 3
   },
   "file_extension": ".py",
   "mimetype": "text/x-python",
   "name": "python",
   "nbconvert_exporter": "python",
   "pygments_lexer": "ipython3",
   "version": "3.10.8"
  }
 },
 "nbformat": 4,
 "nbformat_minor": 5
}
