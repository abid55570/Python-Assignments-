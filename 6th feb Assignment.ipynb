{
 "cells": [
  {
   "cell_type": "markdown",
   "id": "0e8776bf-a56a-4ddd-8fc1-e9e2888bad75",
   "metadata": {},
   "source": [
    "Q1. Create a function which will take a list as an argument and return the product of all the numbers\n",
    "after creating a flat list.\n",
    "Use the below-given list as an argument for your function."
   ]
  },
  {
   "cell_type": "code",
   "execution_count": 1,
   "id": "0b81f1a7-fbfa-4729-b160-eeb2b2345d69",
   "metadata": {},
   "outputs": [],
   "source": [
    "def extract_integers_and_product(lst):\n",
    "    int_list = []  # empty list to store integer values\n",
    "\n",
    "    for item in lst:\n",
    "        if isinstance(item, int):  # check if the item is an integer\n",
    "            int_list.append(item)\n",
    "        elif isinstance(item, list):  # check if the item is a list\n",
    "            for sub_item in item:\n",
    "                if isinstance(sub_item, int):  # check if the sub-item is an integer\n",
    "                    int_list.append(sub_item)\n",
    "\n",
    "    # calculate the product of the integer list\n",
    "    product = 1\n",
    "    for num in int_list:\n",
    "        product *= num\n",
    "\n",
    "    return int_list, product\n"
   ]
  },
  {
   "cell_type": "code",
   "execution_count": 6,
   "id": "0d265e22-eb4d-4262-a68f-fcf2ea40bbbc",
   "metadata": {},
   "outputs": [
    {
     "name": "stdout",
     "output_type": "stream",
     "text": [
      "[1, 2, 3, 4, 44, 55, 66, 56]\n",
      "214663680\n"
     ]
    }
   ],
   "source": [
    "list1 = [1, 2, 3, 4, [44, 55, 66],(34, 56, 78, 89, 34), {1, 2, 3, 3, 2, 1},\n",
    "         {1: 34, \"key2\": [55, 67, 78, 89], 4: (45, 22, 61, 34)}, [56, 'data science'], 'Machine Learning']\n",
    "\n",
    "int_list, product = extract_integers_and_product(list1)\n",
    "print(int_list)\n",
    "print(product)\n"
   ]
  },
  {
   "cell_type": "markdown",
   "id": "3e52c9cd-dfaa-4734-972e-176d7040da75",
   "metadata": {},
   "source": [
    "Q2. Write a python program for encrypting a message sent to you by your friend. The logic of encryption\n",
    "should be such that, for a the output should be z. For b, the output should be y. For c, the output should\n",
    "be x respectively. Also, the whitespace should be replaced with a dollar sign. Keep the punctuation\n",
    "marks unchanged.\n",
    "Input Sentence: I want to become a Data Scientist.\n",
    "Encrypt the above input sentence using the program you just created.\n",
    "Note: Convert the given input sentence into lowercase before encrypting. The final output should be\n",
    "lowercase."
   ]
  },
  {
   "cell_type": "code",
   "execution_count": 7,
   "id": "19011d5d-d2b7-485d-9acb-79306068c852",
   "metadata": {},
   "outputs": [],
   "source": [
    "def encrypt_message(message):\n",
    "    # convert the message to lowercase and replace whitespace with dollar sign\n",
    "    message = message.lower().replace(\" \", \"$\")\n",
    "    \n",
    "    # define a dictionary to store the encryption key\n",
    "    key = {\n",
    "        \"a\": \"z\",\n",
    "        \"b\": \"y\",\n",
    "        \"c\": \"x\",\n",
    "        \"d\": \"w\",\n",
    "        \"e\": \"v\",\n",
    "        \"f\": \"u\",\n",
    "        \"g\": \"t\",\n",
    "        \"h\": \"s\",\n",
    "        \"i\": \"r\",\n",
    "        \"j\": \"q\",\n",
    "        \"k\": \"p\",\n",
    "        \"l\": \"o\",\n",
    "        \"m\": \"n\",\n",
    "        \"n\": \"m\",\n",
    "        \"o\": \"l\",\n",
    "        \"p\": \"k\",\n",
    "        \"q\": \"j\",\n",
    "        \"r\": \"i\",\n",
    "        \"s\": \"h\",\n",
    "        \"t\": \"g\",\n",
    "        \"u\": \"f\",\n",
    "        \"v\": \"e\",\n",
    "        \"w\": \"d\",\n",
    "        \"x\": \"c\",\n",
    "        \"y\": \"b\",\n",
    "        \"z\": \"a\"\n",
    "    }\n",
    "    \n",
    "    # encrypt the message using the key\n",
    "    encrypted_message = \"\"\n",
    "    for letter in message:\n",
    "        if letter in key:\n",
    "            encrypted_message += key[letter]\n",
    "        else:\n",
    "            encrypted_message += letter\n",
    "    \n",
    "    return encrypted_message\n"
   ]
  },
  {
   "cell_type": "code",
   "execution_count": 8,
   "id": "14b8517f-4bc0-4ddb-bfcb-5902a6bcfeac",
   "metadata": {},
   "outputs": [
    {
     "name": "stdout",
     "output_type": "stream",
     "text": [
      "r$dzmg$gl$yvxlnv$z$wzgz$hxrvmgrhg.\n"
     ]
    }
   ],
   "source": [
    "message = \"I want to become a Data Scientist.\"\n",
    "encrypted_message = encrypt_message(message)\n",
    "print(encrypted_message)\n"
   ]
  },
  {
   "cell_type": "code",
   "execution_count": null,
   "id": "a9317b9a-f69e-4bb7-a249-39c2dae5ee01",
   "metadata": {},
   "outputs": [],
   "source": []
  }
 ],
 "metadata": {
  "kernelspec": {
   "display_name": "Python 3 (ipykernel)",
   "language": "python",
   "name": "python3"
  },
  "language_info": {
   "codemirror_mode": {
    "name": "ipython",
    "version": 3
   },
   "file_extension": ".py",
   "mimetype": "text/x-python",
   "name": "python",
   "nbconvert_exporter": "python",
   "pygments_lexer": "ipython3",
   "version": "3.10.8"
  }
 },
 "nbformat": 4,
 "nbformat_minor": 5
}
