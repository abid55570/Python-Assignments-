{
 "cells": [
  {
   "cell_type": "markdown",
   "id": "a50d5783-2622-4b68-9005-f31c0a6f7283",
   "metadata": {},
   "source": [
    "Q.1 - Who develop the Python program language? \n",
    "A.1 - Guido Van Rossum develop the python programming language"
   ]
  },
  {
   "cell_type": "markdown",
   "id": "4bfd32d6-8f92-4721-85ca-1a7ed4560ed2",
   "metadata": {},
   "source": [
    "Q 2 - which type of programming does not support by python? A 2- python supports all type of programming language."
   ]
  },
  {
   "cell_type": "markdown",
   "id": "62b5e0f8-a0b9-4392-88b6-4b42499d6b8a",
   "metadata": {},
   "source": [
    "Q3 - is python case sensitivie when dealing with identifiers ? A 3- yes, python is case sensitive when dealing with identifiers"
   ]
  },
  {
   "cell_type": "markdown",
   "id": "fc274b3d-9b88-4352-811b-a4c9065704e7",
   "metadata": {},
   "source": [
    "Q 4- What is the correct extention of python file ? A 4- extension of python is .pyz , .pyd , .pyw"
   ]
  },
  {
   "cell_type": "markdown",
   "id": "5291897c-0558-440b-9cbb-f88c2d419c1e",
   "metadata": {},
   "source": [
    "Q 5 - is python code compiled or interpreted ? A 5- python is interpreted language"
   ]
  },
  {
   "cell_type": "markdown",
   "id": "1ca1ebb1-1e59-4b64-a1a5-a5471487a908",
   "metadata": {},
   "source": [
    "Q 6- Name a few blocks of code used to define in python language ? A 6- A module, a function body, a class definition "
   ]
  },
  {
   "cell_type": "markdown",
   "id": "4a667855-8393-4edc-8cbc-fe9450e9af41",
   "metadata": {},
   "source": [
    "Q 7 - State a character is used give a single line comments in python ? A 7 - the hash # use to give a single line comment (use in shortcut method (ctrl + /))"
   ]
  },
  {
   "cell_type": "markdown",
   "id": "f0c6c89b-6d78-440d-a4bc-f34f17f8d7ff",
   "metadata": {},
   "source": [
    "Q 8 - Mention the function which can help us to find the version of the python that we are currently working on ? A 8- from platform import python_version print(\"Current Python Version-\", python_version())"
   ]
  },
  {
   "cell_type": "markdown",
   "id": "9c4c6460-5c53-480a-9e57-988336df1549",
   "metadata": {},
   "source": [
    "Q 9 - python supports the creation of anonymous function at runtime, using a construct called ...... lambda"
   ]
  },
  {
   "cell_type": "markdown",
   "id": "2924f7bf-4017-4311-b7f4-1864565cd442",
   "metadata": {},
   "source": [
    "Q 10- what does PIP stands for - PIP = preferred installer program"
   ]
  },
  {
   "cell_type": "markdown",
   "id": "d5552c95-2c44-4081-aebf-60150568e431",
   "metadata": {},
   "source": [
    "Q 11- Mention a built in function in python ? A 11- int(), input(), len(), lambda(), list(), set{}, print() etc"
   ]
  },
  {
   "cell_type": "markdown",
   "id": "a656a6a6-a0be-4832-8789-9851e9a1f883",
   "metadata": {},
   "source": [
    "Q 12 - what is the maximum possible length of an identifier in python? A 12- 79 characters"
   ]
  },
  {
   "cell_type": "markdown",
   "id": "6fb0b713-c55c-47d9-87fe-91e106d9dc54",
   "metadata": {},
   "source": [
    "Q 13 - what are the benefits of using python ? A 13- the benefits are- Easy to use and easy to learn, improved productivity, interpreted language, open source, easily portable, massive libraries, easy to integrate etc"
   ]
  },
  {
   "cell_type": "markdown",
   "id": "3da40906-6f5c-401d-8997-41c972f177d0",
   "metadata": {},
   "source": [
    "Q 14 - how is memory managed in python ? A 14 - Python involves a private heap containing all Python objects and data structures."
   ]
  },
  {
   "cell_type": "markdown",
   "id": "836bd089-0c60-4c9b-900c-97d3442fc4c8",
   "metadata": {},
   "source": [
    "Q 15 - How to install python on winndows and set path variables ? \n",
    "\n",
    "\n",
    "A 15- Right-clicking This PC and going to Properties.\n",
    "\n",
    "Clicking on the Advanced system settings in the menu on the left.\n",
    "\n",
    "Clicking on the Environment Variables button on the bottom right.\n",
    "\n",
    "In the System variables section, selecting the Path variable and clicking on Edit. The next screen will show all the directories that are currently a part of the PATH variable.\n",
    "\n",
    "Clicking on New and entering Python’s install directory.\n",
    "\n",
    "C:\\Users\\Educative\\AppData\\Local\\Programs\\Python\\Python39"
   ]
  },
  {
   "cell_type": "markdown",
   "id": "3946fe69-ac45-44b8-8fe1-22cb92d5a25f",
   "metadata": {},
   "source": [
    "Q 16 - is indentation required in python? \n",
    "\n",
    "A 16 - yes indentation is very important , it defines the block of the code. "
   ]
  },
  {
   "cell_type": "code",
   "execution_count": null,
   "id": "79111476-684a-4154-8ee6-4d67bb5b1ffd",
   "metadata": {},
   "outputs": [],
   "source": []
  }
 ],
 "metadata": {
  "kernelspec": {
   "display_name": "Python 3 (ipykernel)",
   "language": "python",
   "name": "python3"
  },
  "language_info": {
   "codemirror_mode": {
    "name": "ipython",
    "version": 3
   },
   "file_extension": ".py",
   "mimetype": "text/x-python",
   "name": "python",
   "nbconvert_exporter": "python",
   "pygments_lexer": "ipython3",
   "version": "3.10.8"
  }
 },
 "nbformat": 4,
 "nbformat_minor": 5
}
