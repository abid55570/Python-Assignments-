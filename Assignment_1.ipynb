{
 "cells": [
  {
   "cell_type": "markdown",
   "id": "3d38e3aa-b234-40a3-9dbb-4dab5886e7eb",
   "metadata": {},
   "source": [
    "Q-1. Explain with an example each when to usee a for loop and a while loop "
   ]
  },
  {
   "cell_type": "markdown",
   "id": "887362c6-976f-4637-be13-c2beda302520",
   "metadata": {},
   "source": [
    "A-1 . The for loop is used when we already know the number of iterations, which means when we know how many times a statement has to be executed. That is why we have to specify the ending point in the for loop initialization. When we need to end the loop on a condition other than the number of times, we use a while loop"
   ]
  },
  {
   "cell_type": "markdown",
   "id": "bb6e47c1-1420-491b-bde4-3ae5dd6e846a",
   "metadata": {},
   "source": [
    "Example for FOR loop "
   ]
  },
  {
   "cell_type": "code",
   "execution_count": 4,
   "id": "8631447e-d6e5-4e5c-97e0-a066afeccaad",
   "metadata": {},
   "outputs": [
    {
     "name": "stdin",
     "output_type": "stream",
     "text": [
      "Enter number  20\n"
     ]
    },
    {
     "name": "stdout",
     "output_type": "stream",
     "text": [
      "Sum is:  210\n"
     ]
    }
   ],
   "source": [
    "# for loop example in which we aknow the number of itiration that how many times loop runs\n",
    "s = 0\n",
    "n = int(input(\"Enter number \"))\n",
    "for i in range(1, n + 1, 1):\n",
    "    s = s + i\n",
    "print(\"Sum is: \", s)"
   ]
  },
  {
   "cell_type": "markdown",
   "id": "447e3c00-cf4f-4311-87eb-031281e55ea2",
   "metadata": {},
   "source": [
    "Example for while loop"
   ]
  },
  {
   "cell_type": "code",
   "execution_count": 11,
   "id": "89ea67df-ce19-456d-aafd-bcc6245b9451",
   "metadata": {},
   "outputs": [
    {
     "name": "stdout",
     "output_type": "stream",
     "text": [
      "1\n",
      "2\n",
      "3\n"
     ]
    }
   ],
   "source": [
    "# exaple for while loop \n",
    "i = 1\n",
    "while i < 6:\n",
    "  print(i)\n",
    "  if i == 3:\n",
    "    break\n",
    "  i = i + 1"
   ]
  },
  {
   "cell_type": "markdown",
   "id": "5993d648-7986-4694-8b3b-3ca71573ce74",
   "metadata": {},
   "source": [
    "Q-2 python program to print the sum and product of first 10 natural numbers using for loop and while loop"
   ]
  },
  {
   "cell_type": "code",
   "execution_count": 8,
   "id": "4463488f-a81f-4e9e-8d9f-5548cb8131a6",
   "metadata": {},
   "outputs": [
    {
     "name": "stdin",
     "output_type": "stream",
     "text": [
      "Enter number  10\n"
     ]
    },
    {
     "name": "stdout",
     "output_type": "stream",
     "text": [
      "Sum is:  55\n"
     ]
    }
   ],
   "source": [
    "# using for loop sum of the first 10 natural numbers \n",
    "s = 0\n",
    "n = int(input(\"Enter number \"))\n",
    "for i in range(1, n + 1, 1):\n",
    "    s = s + i\n",
    "print(\"Sum is: \", s)"
   ]
  },
  {
   "cell_type": "code",
   "execution_count": 10,
   "id": "71ce3276-c161-44ed-81bb-40846792887a",
   "metadata": {},
   "outputs": [
    {
     "name": "stdout",
     "output_type": "stream",
     "text": [
      "1\n",
      "2\n",
      "3\n",
      "4\n",
      "5\n",
      "6\n",
      "7\n",
      "8\n",
      "9\n",
      "10\n"
     ]
    }
   ],
   "source": [
    "n = 1\n",
    "for i in range(1, 11, 1):\n",
    "    product = n * i\n",
    "    print(product)"
   ]
  },
  {
   "cell_type": "code",
   "execution_count": 1,
   "id": "b318930c-bd18-48b2-9b29-d80787ca19d2",
   "metadata": {},
   "outputs": [
    {
     "name": "stdout",
     "output_type": "stream",
     "text": [
      "1\n",
      "2\n",
      "3\n",
      "4\n",
      "5\n",
      "6\n",
      "7\n",
      "8\n",
      "9\n",
      "10\n"
     ]
    }
   ],
   "source": [
    "i = 1\n",
    "while i < 11:\n",
    "  print(i)\n",
    "  if i == 10:\n",
    "    break\n",
    "  i = i + 1"
   ]
  },
  {
   "cell_type": "markdown",
   "id": "13d95511-23c4-4a28-ba5d-1ea75897a5d8",
   "metadata": {},
   "source": [
    "Q 3 . electricity bill payment "
   ]
  },
  {
   "cell_type": "code",
   "execution_count": 2,
   "id": "aa84bc2e-b7dd-4cd8-ba26-1e5052b95665",
   "metadata": {},
   "outputs": [
    {
     "name": "stdin",
     "output_type": "stream",
     "text": [
      "Your consumed Units =  310\n"
     ]
    },
    {
     "name": "stdout",
     "output_type": "stream",
     "text": [
      "\n",
      " Total amount to pay= 2250.0\n"
     ]
    }
   ],
   "source": [
    "# correct programm \n",
    "\n",
    "i = int(input(\"Your consumed Units = \"))\n",
    "\n",
    "if i <= 100:\n",
    "    print(\"Total Amount to pay =\", 4.5*i)\n",
    "elif i <=200:\n",
    "    print(\"Total Amount to pay=\", 4.5*100 + (i-100)*6)\n",
    "elif i <= 300:\n",
    "    print(\"Total Amount to pay=\", 4.5*100 +(200-100)*6 + (i-200)*10)\n",
    "elif i >300 :\n",
    "    print(\"\\n Total amount to pay=\", 4.5*100 +(200-100)*6 + (300-200)*10 + (i-300)*20)\n",
    "else :\n",
    "    print(\"\")\n"
   ]
  },
  {
   "cell_type": "markdown",
   "id": "5e5aec9f-26e1-481f-b928-4ff485628096",
   "metadata": {},
   "source": [
    "Q4. Create a list of numbers from 1 to 100. Use for loop and while loop to calculate the cube of each\n",
    "number and if the cube of that number is divisible by 4 or 5 then append that number in a list and print\n",
    "that list."
   ]
  },
  {
   "cell_type": "code",
   "execution_count": 54,
   "id": "acaa70c3-93d0-43e0-a796-692051c4bd16",
   "metadata": {},
   "outputs": [
    {
     "name": "stdout",
     "output_type": "stream",
     "text": [
      "[8, 64, 125, 216, 512, 1000, 1728, 2744, 3375, 4096, 5832, 8000, 10648, 13824, 15625, 17576, 21952, 27000, 32768, 39304, 42875, 46656, 54872, 64000, 74088, 85184, 91125, 97336, 110592, 125000, 140608, 157464, 166375, 175616, 195112, 216000, 238328, 262144, 274625, 287496, 314432, 343000, 373248, 405224, 421875, 438976, 474552, 512000, 551368, 592704, 614125, 636056, 681472, 729000, 778688, 830584, 857375, 884736, 941192]\n"
     ]
    }
   ],
   "source": [
    "i = []\n",
    "for n in range(1, 100):\n",
    "    s=n**3\n",
    "    if s%4 == 0 or s%5 == 0:\n",
    "         i.append(s)\n",
    "print(i)"
   ]
  },
  {
   "cell_type": "markdown",
   "id": "177f2f71-de25-42be-9828-8cd3053673e1",
   "metadata": {},
   "source": []
  },
  {
   "cell_type": "code",
   "execution_count": 39,
   "id": "accc10cb-bfd2-4880-b02f-195c00264773",
   "metadata": {},
   "outputs": [
    {
     "name": "stdout",
     "output_type": "stream",
     "text": [
      "8\n",
      "64\n",
      "125\n",
      "216\n",
      "512\n",
      "1000\n",
      "1728\n",
      "2744\n",
      "3375\n",
      "4096\n",
      "5832\n",
      "8000\n",
      "10648\n",
      "13824\n",
      "15625\n",
      "17576\n",
      "21952\n",
      "27000\n",
      "32768\n",
      "39304\n",
      "42875\n",
      "46656\n",
      "54872\n",
      "64000\n",
      "74088\n",
      "85184\n",
      "91125\n",
      "97336\n",
      "110592\n",
      "125000\n",
      "140608\n",
      "157464\n",
      "166375\n",
      "175616\n",
      "195112\n",
      "216000\n",
      "238328\n",
      "262144\n",
      "274625\n",
      "287496\n",
      "314432\n",
      "343000\n",
      "373248\n",
      "405224\n",
      "421875\n",
      "438976\n",
      "474552\n",
      "512000\n",
      "551368\n",
      "592704\n",
      "614125\n",
      "636056\n",
      "681472\n",
      "729000\n",
      "778688\n",
      "830584\n",
      "857375\n",
      "884736\n",
      "941192\n"
     ]
    }
   ],
   "source": [
    "i=1\n",
    "while i < 100 :\n",
    "    l=i**3\n",
    "    if l%4 == 0 or l%5 == 0:\n",
    "        print(l)\n",
    "    i = i + 1  "
   ]
  },
  {
   "cell_type": "markdown",
   "id": "f8d15197-e148-4347-b20f-afd1f4f0b547",
   "metadata": {},
   "source": [
    "Q5. Write a program to filter count vowels in the below-given string.\n",
    "\n",
    "string = \"I want to become a data scientist\"\n"
   ]
  },
  {
   "cell_type": "code",
   "execution_count": 57,
   "id": "7b045db9-8b2a-4ecd-bbb1-f212053b51f6",
   "metadata": {},
   "outputs": [
    {
     "name": "stdout",
     "output_type": "stream",
     "text": [
      "I a o e o e a a a i e i "
     ]
    }
   ],
   "source": [
    "s = \"I want to become a data scientist\"\n",
    "for i in s:\n",
    "      if(i=='a' or i=='e' or i=='i' or i=='o' or i=='u' or i=='A' or i=='E' or i=='I' or i=='O' or i=='U'):\n",
    "            print(i,end=\" \")"
   ]
  },
  {
   "cell_type": "code",
   "execution_count": null,
   "id": "d4d559f3-2bf9-4b46-b268-22a6f7fb9de1",
   "metadata": {},
   "outputs": [],
   "source": []
  }
 ],
 "metadata": {
  "kernelspec": {
   "display_name": "Python 3 (ipykernel)",
   "language": "python",
   "name": "python3"
  },
  "language_info": {
   "codemirror_mode": {
    "name": "ipython",
    "version": 3
   },
   "file_extension": ".py",
   "mimetype": "text/x-python",
   "name": "python",
   "nbconvert_exporter": "python",
   "pygments_lexer": "ipython3",
   "version": "3.10.8"
  }
 },
 "nbformat": 4,
 "nbformat_minor": 5
}
