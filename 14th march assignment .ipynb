{
 "cells": [
  {
   "cell_type": "markdown",
   "id": "3165ce0e-4d7b-4c5b-b11f-d4b7a05900c2",
   "metadata": {},
   "source": [
    "Q1. Write a Python function that takes in two arrays of data and calculates the F-value for a variance ratio\n",
    "test. The function should return the F-value and the corresponding p-value for the test."
   ]
  },
  {
   "cell_type": "code",
   "execution_count": 2,
   "id": "c18f5e01-ac69-4377-8eaf-6d1cc619bd77",
   "metadata": {},
   "outputs": [],
   "source": [
    "import numpy as np\n",
    "from scipy.stats import f\n",
    "\n",
    "def variance_ratio_test(data1, data2):\n",
    "    # Calculate the variances\n",
    "    var1 = np.var(data1, ddof=1)\n",
    "    var2 = np.var(data2, ddof=1)\n",
    "    \n",
    "    # Calculate the F-value\n",
    "    f_value = var1 / var2\n",
    "    \n",
    "    # Calculate the degrees of freedom\n",
    "    df1 = len(data1) - 1\n",
    "    df2 = len(data2) - 1\n",
    "    \n",
    "    # Calculate the p-value\n",
    "    p_value = f.sf(f_value, df1, df2)\n",
    "    \n",
    "    return f_value, p_value\n"
   ]
  },
  {
   "cell_type": "code",
   "execution_count": 3,
   "id": "469300df-6156-42f6-b9c3-6bb2a9faadff",
   "metadata": {},
   "outputs": [
    {
     "name": "stdout",
     "output_type": "stream",
     "text": [
      "F-value: 1.0\n",
      "p-value: 0.5\n"
     ]
    }
   ],
   "source": [
    "data1 = [1, 2, 3, 4, 5]\n",
    "data2 = [6, 7, 8, 9, 10]\n",
    "\n",
    "f_value, p_value = variance_ratio_test(data1, data2)\n",
    "print(\"F-value:\", f_value)\n",
    "print(\"p-value:\", p_value)\n"
   ]
  },
  {
   "cell_type": "markdown",
   "id": "b8eeacf8-0e9b-491b-8ffa-f868867e91d1",
   "metadata": {},
   "source": [
    "Q2. Given a significance level of 0.05 and the degrees of freedom for the numerator and denominator of an\n",
    "F-distribution, write a Python function that returns the critical F-value for a two-tailed test."
   ]
  },
  {
   "cell_type": "code",
   "execution_count": 6,
   "id": "f339d6ad-94e7-4324-ad81-37b34bca71df",
   "metadata": {},
   "outputs": [],
   "source": [
    "from scipy.stats import f\n",
    "\n",
    "def get_critical_f_value(alpha, dfn, dfd):\n",
    "    # Calculate the critical F-value\n",
    "    critical_value = f.ppf(1 - alpha/2, dfn, dfd)\n",
    "    \n",
    "    return critical_value\n"
   ]
  },
  {
   "cell_type": "code",
   "execution_count": 7,
   "id": "dfccd731-1def-4975-a4e6-81c1060e15da",
   "metadata": {},
   "outputs": [
    {
     "name": "stdout",
     "output_type": "stream",
     "text": [
      "Critical F-value: 3.8586986662732143\n"
     ]
    }
   ],
   "source": [
    "alpha = 0.05\n",
    "dfn = 3\n",
    "dfd = 20\n",
    "\n",
    "critical_f = get_critical_f_value(alpha, dfn, dfd)\n",
    "print(\"Critical F-value:\", critical_f)\n"
   ]
  },
  {
   "cell_type": "markdown",
   "id": "e0847d00-f338-4cbd-9b6c-e384a7861b95",
   "metadata": {},
   "source": [
    "Q3. Write a Python program that generates random samples from two normal distributions with known\n",
    "\n",
    "variances and uses an F-test to determine if the variances are equal. The program should output the F-\n",
    "value, degrees of freedom, and p-value for the test."
   ]
  },
  {
   "cell_type": "code",
   "execution_count": 8,
   "id": "27300831-0d6f-4891-a1dc-3b33cbc89e1b",
   "metadata": {},
   "outputs": [
    {
     "name": "stdout",
     "output_type": "stream",
     "text": [
      "F-value: 0.4217313417163961\n",
      "Degrees of Freedom (numerator, denominator): 99 99\n",
      "p-value: 2.4350151438820782e-05\n"
     ]
    }
   ],
   "source": [
    "import numpy as np\n",
    "from scipy.stats import f\n",
    "\n",
    "def test_variance_equality(data1, data2):\n",
    "    # Calculate the sample variances\n",
    "    var1 = np.var(data1, ddof=1)\n",
    "    var2 = np.var(data2, ddof=1)\n",
    "    \n",
    "    # Calculate the F-value and p-value\n",
    "    f_value = var1 / var2\n",
    "    dfn = len(data1) - 1\n",
    "    dfd = len(data2) - 1\n",
    "    p_value = 2 * min(f.cdf(f_value, dfn, dfd), 1 - f.cdf(f_value, dfn, dfd))\n",
    "    \n",
    "    return f_value, dfn, dfd, p_value\n",
    "\n",
    "# Generate random samples from two normal distributions\n",
    "np.random.seed(0)\n",
    "data1 = np.random.normal(loc=0, scale=1, size=100)\n",
    "data2 = np.random.normal(loc=0, scale=1.5, size=100)\n",
    "\n",
    "# Perform the F-test\n",
    "f_value, dfn, dfd, p_value = test_variance_equality(data1, data2)\n",
    "\n",
    "# Output the results\n",
    "print(\"F-value:\", f_value)\n",
    "print(\"Degrees of Freedom (numerator, denominator):\", dfn, dfd)\n",
    "print(\"p-value:\", p_value)\n"
   ]
  },
  {
   "cell_type": "markdown",
   "id": "ed1c22ef-8fc7-435a-a3ea-b2da3dbd073e",
   "metadata": {},
   "source": [
    "Q4.The variances of two populations are known to be 10 and 15. A sample of 12 observations is taken from\n",
    "each population. Conduct an F-test at the 5% significance level to determine if the variances are\n",
    "significantly different."
   ]
  },
  {
   "cell_type": "markdown",
   "id": "d96ccee8-3750-4509-98bc-def1ad5ef249",
   "metadata": {},
   "source": [
    "To conduct an F-test to compare the variances of two populations, we can follow these steps:\n",
    "\n",
    "Define the null hypothesis (H0) and alternative hypothesis (H1):\n",
    "\n",
    "H0: The variances of the two populations are equal.\n",
    "H1: The variances of the two populations are significantly different.\n",
    "Specify the significance level (α) as 0.05 (5%).\n",
    "\n",
    "Calculate the F-value using the formula:\n",
    "\n",
    "F = Variance1 / Variance2\n",
    "\n",
    "where Variance1 and Variance2 are the known variances of the two populations.\n",
    "\n",
    "Determine the degrees of freedom for the F-distribution:\n",
    "\n",
    "For the numerator (dfn): dfn = sample size of population 1 - 1\n",
    "For the denominator (dfd): dfd = sample size of population 2 - 1\n",
    "Compare the calculated F-value to the critical F-value obtained from the F-distribution table using the degrees of freedom.\n",
    "\n",
    "If the calculated F-value is greater than the critical F-value, reject the null hypothesis and conclude that the variances are significantly different. If the calculated F-value is less than or equal to the critical F-value, fail to reject the null hypothesis and conclude that there is not enough evidence to suggest a significant difference in variances.\n",
    "\n",
    "Let's calculate the F-value and perform the F-test for the given scenario:\n",
    "\n",
    "Variance1 = 10\n",
    "Variance2 = 15\n",
    "Sample size of each population = 12\n",
    "Significance level (α) = 0.05 (5%)\n",
    "Using the above information, we can calculate the F-value as follows:\n",
    "\n",
    "F = Variance1 / Variance2 = 10 / 15 = 0.6667\n",
    "\n",
    "Now, let's calculate the degrees of freedom:\n",
    "\n",
    "dfn = sample size of population 1 - 1 = 12 - 1 = 11\n",
    "dfd = sample size of population 2 - 1 = 12 - 1 = 11\n",
    "\n",
    "Looking up the critical F-value from an F-distribution table with dfn = 11 and dfd = 11, at a significance level of 0.05, we find the critical F-value to be approximately 2.64.\n",
    "\n",
    "Comparing the calculated F-value (0.6667) to the critical F-value (2.64), we find that the calculated F-value is less than the critical F-value.\n",
    "\n",
    "Therefore, we fail to reject the null hypothesis (H0) and conclude that there is not enough evidence to suggest a significant difference in the variances of the two populations at the 5% significance level.\n",
    "\n",
    "Note: The F-value and critical F-value are rounded for simplicity."
   ]
  },
  {
   "cell_type": "markdown",
   "id": "4a3472cd-3dce-46e6-ae3a-92474f2ccbaa",
   "metadata": {},
   "source": [
    "Q5. A manufacturer claims that the variance of the diameter of a certain product is 0.005. A sample of 25\n",
    "products is taken, and the sample variance is found to be 0.006. Conduct an F-test at the 1% significance\n",
    "level to determine if the claim is justified."
   ]
  },
  {
   "cell_type": "markdown",
   "id": "b6ac657f-5d98-47d2-85be-d9a571ab73e5",
   "metadata": {},
   "source": [
    "To conduct an F-test to determine if the claim made by the manufacturer regarding the variance of the product's diameter is justified, we can follow these steps:\n",
    "\n",
    "Define the null hypothesis (H0) and alternative hypothesis (H1):\n",
    "\n",
    "H0: The variance of the diameter of the product is 0.005.\n",
    "H1: The variance of the diameter of the product is not 0.005.\n",
    "Specify the significance level (α) as 0.01 (1%).\n",
    "\n",
    "Calculate the F-value using the formula:\n",
    "\n",
    "F = Sample Variance / Claimed Variance\n",
    "\n",
    "where the Sample Variance is the variance calculated from the sample of 25 products, and the Claimed Variance is the variance claimed by the manufacturer (0.005).\n",
    "\n",
    "Determine the degrees of freedom for the F-distribution:\n",
    "\n",
    "For the numerator (dfn): dfn = sample size - 1 = 25 - 1 = 24\n",
    "For the denominator (dfd): dfd = degrees of freedom for the claim = sample size - 1 = 25 - 1 = 24\n",
    "Look up the critical F-value from an F-distribution table with dfn = 24 and dfd = 24, at a significance level of 0.01.\n",
    "\n",
    "Compare the calculated F-value to the critical F-value obtained from the F-distribution table.\n",
    "\n",
    "Let's calculate the F-value and perform the F-test for the given scenario:\n",
    "\n",
    "Claimed Variance = 0.005\n",
    "Sample Variance = 0.006\n",
    "Sample size = 25\n",
    "Significance level (α) = 0.01 (1%)\n",
    "Using the given information, we can calculate the F-value as follows:\n",
    "\n",
    "F = Sample Variance / Claimed Variance = 0.006 / 0.005 = 1.2\n",
    "\n",
    "Now, let's calculate the degrees of freedom:\n",
    "\n",
    "dfn = sample size - 1 = 25 - 1 = 24\n",
    "dfd = degrees of freedom for the claim = sample size - 1 = 25 - 1 = 24\n",
    "\n",
    "Looking up the critical F-value from an F-distribution table with dfn = 24 and dfd = 24, at a significance level of 0.01, we find the critical F-value to be approximately 2.711.\n",
    "\n",
    "Comparing the calculated F-value (1.2) to the critical F-value (2.711), we find that the calculated F-value is less than the critical F-value.\n",
    "\n",
    "Therefore, we fail to reject the null hypothesis (H0) and conclude that there is not enough evidence to suggest that the variance of the diameter of the product is different from 0.005 at the 1% significance level.\n",
    "\n",
    "Note: The F-value and critical F-value are rounded for simplicity."
   ]
  },
  {
   "cell_type": "markdown",
   "id": "cd011156-c64d-4788-813b-9e4302c6a2cf",
   "metadata": {},
   "source": [
    "Q6. Write a Python function that takes in the degrees of freedom for the numerator and denominator of an\n",
    "F-distribution and calculates the mean and variance of the distribution. The function should return the\n",
    "mean and variance as a tuple."
   ]
  },
  {
   "cell_type": "code",
   "execution_count": 9,
   "id": "6d2524f7-5374-4db6-9d48-1ea0cfa89e53",
   "metadata": {},
   "outputs": [],
   "source": [
    "def calculate_f_distribution_mean_and_variance(dfn, dfd):\n",
    "    mean = dfd / (dfd - 2)\n",
    "    variance = (2 * (dfd**2) * (dfn + dfd - 2)) / ((dfn * (dfd - 2)**2 * (dfd - 4)))\n",
    "    return mean, variance\n"
   ]
  },
  {
   "cell_type": "code",
   "execution_count": 10,
   "id": "9bfbfb1e-67b6-4805-885e-ae4f71609b54",
   "metadata": {},
   "outputs": [
    {
     "name": "stdout",
     "output_type": "stream",
     "text": [
      "Mean: 1.25\n",
      "Variance: 1.3541666666666667\n"
     ]
    }
   ],
   "source": [
    "mean, variance = calculate_f_distribution_mean_and_variance(5, 10)\n",
    "print(\"Mean:\", mean)\n",
    "print(\"Variance:\", variance)\n"
   ]
  },
  {
   "cell_type": "markdown",
   "id": "c5619307-a161-4f15-b4c9-342b7e517a1f",
   "metadata": {},
   "source": [
    "Q7. A random sample of 10 measurements is taken from a normal population with unknown variance. The\n",
    "sample variance is found to be 25. Another random sample of 15 measurements is taken from another\n",
    "normal population with unknown variance, and the sample variance is found to be 20. Conduct an F-test\n",
    "at the 10% significance level to determine if the variances are significantly different."
   ]
  },
  {
   "cell_type": "markdown",
   "id": "77f0e8c5-418e-4f09-9ba5-cfb8cd65a380",
   "metadata": {},
   "source": [
    "To conduct an F-test at the 10% significance level and determine if the variances of the two populations are significantly different, we can follow these steps:\n",
    "\n",
    "Define the null hypothesis (H0) and the alternative hypothesis (H1):\n",
    "\n",
    "H0: The variances of the two populations are equal.\n",
    "H1: The variances of the two populations are significantly different.\n",
    "Determine the significance level (α) as 0.10.\n",
    "\n",
    "Calculate the F-statistic using the sample variances and degrees of freedom:\n",
    "\n",
    "Sample variance 1 (s1^2) = 25\n",
    "Sample variance 2 (s2^2) = 20\n",
    "Sample size 1 (n1) = 10\n",
    "Sample size 2 (n2) = 15\n",
    "Degrees of freedom 1 (df1) = n1 - 1\n",
    "Degrees of freedom 2 (df2) = n2 - 1\n",
    "F-statistic = (s1^2 / s2^2)\n",
    "Determine the critical F-value from the F-distribution table or using a statistical calculator. The critical F-value is based on the significance level (α), degrees of freedom for the numerator (dfn), and degrees of freedom for the denominator (dfd). In this case, dfn = df1 and dfd = df2.\n",
    "\n",
    "Compare the calculated F-statistic with the critical F-value:\n",
    "\n",
    "If the calculated F-statistic is greater than the critical F-value, reject the null hypothesis.\n",
    "If the calculated F-statistic is less than or equal to the critical F-value, fail to reject the null hypothesis."
   ]
  },
  {
   "cell_type": "code",
   "execution_count": 11,
   "id": "b23dd3da-13cb-4188-b26e-39c7832af491",
   "metadata": {},
   "outputs": [
    {
     "name": "stdout",
     "output_type": "stream",
     "text": [
      "Fail to reject the null hypothesis. The variances are not significantly different.\n"
     ]
    }
   ],
   "source": [
    "import scipy.stats as stats\n",
    "\n",
    "# Sample variances\n",
    "s1_squared = 25\n",
    "s2_squared = 20\n",
    "\n",
    "# Sample sizes\n",
    "n1 = 10\n",
    "n2 = 15\n",
    "\n",
    "# Degrees of freedom\n",
    "df1 = n1 - 1\n",
    "df2 = n2 - 1\n",
    "\n",
    "# Calculate the F-statistic\n",
    "F_statistic = s1_squared / s2_squared\n",
    "\n",
    "# Calculate the critical F-value\n",
    "alpha = 0.10\n",
    "critical_F = stats.f.ppf(1 - alpha / 2, df1, df2)\n",
    "\n",
    "# Perform the F-test\n",
    "if F_statistic > critical_F:\n",
    "    print(\"Reject the null hypothesis. The variances are significantly different.\")\n",
    "else:\n",
    "    print(\"Fail to reject the null hypothesis. The variances are not significantly different.\")\n"
   ]
  },
  {
   "cell_type": "markdown",
   "id": "eb4fb0b8-7384-4342-9669-5d7f0637a5a0",
   "metadata": {},
   "source": [
    "Q8. The following data represent the waiting times in minutes at two different restaurants on a Saturday\n",
    "night: Restaurant A: 24, 25, 28, 23, 22, 20, 27; Restaurant B: 31, 33, 35, 30, 32, 36. Conduct an F-test at the 5%\n",
    "significance level to determine if the variances are significantly different."
   ]
  },
  {
   "cell_type": "markdown",
   "id": "00be07be-9295-451f-9452-b13dff4af9dd",
   "metadata": {},
   "source": [
    "To conduct an F-test at the 5% significance level and determine if the variances of waiting times at two different restaurants are significantly different, we can follow these steps:\n",
    "\n",
    "Define the null hypothesis (H0) and the alternative hypothesis (H1):\n",
    "\n",
    "H0: The variances of waiting times at both restaurants are equal.\n",
    "H1: The variances of waiting times at both restaurants are significantly different.\n",
    "Determine the significance level (α) as 0.05.\n",
    "\n",
    "Calculate the sample variances and sample sizes for each restaurant:\n",
    "\n",
    "Restaurant A waiting times: [24, 25, 28, 23, 22, 20, 27]\n",
    "Restaurant B waiting times: [31, 33, 35, 30, 32, 36]\n",
    "Sample variance for Restaurant A (s1^2)\n",
    "Sample variance for Restaurant B (s2^2)\n",
    "Sample size for Restaurant A (n1)\n",
    "Sample size for Restaurant B (n2)\n",
    "Calculate the F-statistic using the sample variances and sample sizes:\n",
    "\n",
    "F-statistic = (s1^2 / s2^2)\n",
    "Determine the critical F-value from the F-distribution table or using a statistical calculator. The critical F-value is based on the significance level (α), degrees of freedom for the numerator (dfn), and degrees of freedom for the denominator (dfd). In this case, dfn = n1 - 1 and dfd = n2 - 1.\n",
    "\n",
    "Compare the calculated F-statistic with the critical F-value:\n",
    "\n",
    "If the calculated F-statistic is greater than the critical F-value, reject the null hypothesis.\n",
    "If the calculated F-statistic is less than or equal to the critical F-value, fail to reject the null hypothesis."
   ]
  },
  {
   "cell_type": "code",
   "execution_count": 12,
   "id": "eef02cac-34fc-4eb5-817e-db18411b71db",
   "metadata": {},
   "outputs": [
    {
     "name": "stdout",
     "output_type": "stream",
     "text": [
      "Fail to reject the null hypothesis. The variances are not significantly different.\n"
     ]
    }
   ],
   "source": [
    "import scipy.stats as stats\n",
    "import numpy as np\n",
    "\n",
    "# Waiting times at each restaurant\n",
    "restaurant_A = np.array([24, 25, 28, 23, 22, 20, 27])\n",
    "restaurant_B = np.array([31, 33, 35, 30, 32, 36])\n",
    "\n",
    "# Sample variances\n",
    "s1_squared = np.var(restaurant_A, ddof=1)\n",
    "s2_squared = np.var(restaurant_B, ddof=1)\n",
    "\n",
    "# Sample sizes\n",
    "n1 = len(restaurant_A)\n",
    "n2 = len(restaurant_B)\n",
    "\n",
    "# Degrees of freedom\n",
    "df1 = n1 - 1\n",
    "df2 = n2 - 1\n",
    "\n",
    "# Calculate the F-statistic\n",
    "F_statistic = s1_squared / s2_squared\n",
    "\n",
    "# Calculate the critical F-value\n",
    "alpha = 0.05\n",
    "critical_F = stats.f.ppf(1 - alpha / 2, df1, df2)\n",
    "\n",
    "# Perform the F-test\n",
    "if F_statistic > critical_F:\n",
    "    print(\"Reject the null hypothesis. The variances are significantly different.\")\n",
    "else:\n",
    "    print(\"Fail to reject the null hypothesis. The variances are not significantly different.\")\n"
   ]
  },
  {
   "cell_type": "markdown",
   "id": "297adaed-2f49-47e4-87fb-ab232ea584f9",
   "metadata": {},
   "source": [
    "Q9. The following data represent the test scores of two groups of students: Group A: 80, 85, 90, 92, 87, 83;\n",
    "Group B: 75, 78, 82, 79, 81, 84. Conduct an F-test at the 1% significance level to determine if the variances\n",
    "are significantly different."
   ]
  },
  {
   "cell_type": "markdown",
   "id": "65cecfac-e0b8-4223-89ba-a62987968513",
   "metadata": {},
   "source": [
    "To conduct an F-test at the 1% significance level and determine if the variances of test scores between two groups of students (Group A and Group B) are significantly different, we can follow these steps:\n",
    "\n",
    "Define the null hypothesis (H0) and the alternative hypothesis (H1):\n",
    "\n",
    "H0: The variances of test scores between Group A and Group B are equal.\n",
    "H1: The variances of test scores between Group A and Group B are significantly different.\n",
    "Determine the significance level (α) as 0.01.\n",
    "\n",
    "Calculate the sample variances and sample sizes for each group:\n",
    "\n",
    "Group A test scores: [80, 85, 90, 92, 87, 83]\n",
    "Group B test scores: [75, 78, 82, 79, 81, 84]\n",
    "Sample variance for Group A (s1^2)\n",
    "Sample variance for Group B (s2^2)\n",
    "Sample size for Group A (n1)\n",
    "Sample size for Group B (n2)\n",
    "Calculate the F-statistic using the sample variances and sample sizes:\n",
    "\n",
    "F-statistic = (s1^2 / s2^2)\n",
    "Determine the critical F-value from the F-distribution table or using a statistical calculator. The critical F-value is based on the significance level (α), degrees of freedom for the numerator (dfn), and degrees of freedom for the denominator (dfd). In this case, dfn = n1 - 1 and dfd = n2 - 1.\n",
    "\n",
    "Compare the calculated F-statistic with the critical F-value:\n",
    "\n",
    "If the calculated F-statistic is greater than the critical F-value, reject the null hypothesis.\n",
    "If the calculated F-statistic is less than or equal to the critical F-value, fail to reject the null hypothesis."
   ]
  },
  {
   "cell_type": "code",
   "execution_count": 13,
   "id": "74e31543-02f1-47b1-9be6-635d65736db2",
   "metadata": {},
   "outputs": [
    {
     "name": "stdout",
     "output_type": "stream",
     "text": [
      "Fail to reject the null hypothesis. The variances are not significantly different.\n"
     ]
    }
   ],
   "source": [
    "import scipy.stats as stats\n",
    "import numpy as np\n",
    "\n",
    "# Test scores for each group\n",
    "group_A = np.array([80, 85, 90, 92, 87, 83])\n",
    "group_B = np.array([75, 78, 82, 79, 81, 84])\n",
    "\n",
    "# Sample variances\n",
    "s1_squared = np.var(group_A, ddof=1)\n",
    "s2_squared = np.var(group_B, ddof=1)\n",
    "\n",
    "# Sample sizes\n",
    "n1 = len(group_A)\n",
    "n2 = len(group_B)\n",
    "\n",
    "# Degrees of freedom\n",
    "df1 = n1 - 1\n",
    "df2 = n2 - 1\n",
    "\n",
    "# Calculate the F-statistic\n",
    "F_statistic = s1_squared / s2_squared\n",
    "\n",
    "# Calculate the critical F-value\n",
    "alpha = 0.01\n",
    "critical_F = stats.f.ppf(1 - alpha / 2, df1, df2)\n",
    "\n",
    "# Perform the F-test\n",
    "if F_statistic > critical_F:\n",
    "    print(\"Reject the null hypothesis. The variances are significantly different.\")\n",
    "else:\n",
    "    print(\"Fail to reject the null hypothesis. The variances are not significantly different.\")\n"
   ]
  },
  {
   "cell_type": "code",
   "execution_count": null,
   "id": "89d6a337-3682-4f53-93e4-ee16163081e7",
   "metadata": {},
   "outputs": [],
   "source": []
  }
 ],
 "metadata": {
  "kernelspec": {
   "display_name": "Python 3 (ipykernel)",
   "language": "python",
   "name": "python3"
  },
  "language_info": {
   "codemirror_mode": {
    "name": "ipython",
    "version": 3
   },
   "file_extension": ".py",
   "mimetype": "text/x-python",
   "name": "python",
   "nbconvert_exporter": "python",
   "pygments_lexer": "ipython3",
   "version": "3.10.8"
  }
 },
 "nbformat": 4,
 "nbformat_minor": 5
}
