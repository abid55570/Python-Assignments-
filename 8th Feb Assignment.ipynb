{
 "cells": [
  {
   "cell_type": "markdown",
   "id": "f0f6ca85-d2b5-4ec9-8491-790327657323",
   "metadata": {},
   "source": [
    "Q1. What is Abstraction in OOps? Explain with an example."
   ]
  },
  {
   "cell_type": "markdown",
   "id": "6b968eb1-c404-4835-839a-61850e6e62dd",
   "metadata": {},
   "source": [
    "Abstraction in Object-Oriented Programming (OOP) is a way of hiding implementation details and exposing only essential features or functionalities to the users. In other words, it allows users to interact with a system or an object without having to know the underlying complexity of how it works.\n",
    "\n",
    "One common example of abstraction is a car. When you drive a car, you don't need to know how the engine works, or how the transmission shifts gears, or how the brakes work. All you need to know is how to use the pedals, the steering wheel, and the gear shift lever. The car's internal workings are abstracted from you, so you can focus on using it to get to your destination.\n",
    "\n",
    "Similarly, in OOP, abstraction can be used to hide the implementation details of a class or an object, and expose only the necessary methods and properties for users to interact with. For example, let's say you have a class called \"BankAccount\" that represents a customer's bank account. You could use abstraction to hide the details of how the account is managed and only expose the methods for depositing, withdrawing, and checking the balance. This way, users of the BankAccount class can interact with it without needing to know how the account is implemented."
   ]
  },
  {
   "cell_type": "code",
   "execution_count": 1,
   "id": "a363f457-c741-40dc-a62c-6d020c7844f9",
   "metadata": {},
   "outputs": [],
   "source": [
    "class BankAccount:\n",
    "    def __init__(self, balance):\n",
    "        self.balance = balance\n",
    "        \n",
    "    def deposit(self, amount):\n",
    "        self.balance += amount\n",
    "        \n",
    "    def withdraw(self, amount):\n",
    "        if self.balance >= amount:\n",
    "            self.balance -= amount\n",
    "        else:\n",
    "            print(\"Insufficient funds.\")\n",
    "            \n",
    "    def get_balance(self):\n",
    "        return self.balance\n"
   ]
  },
  {
   "cell_type": "code",
   "execution_count": 6,
   "id": "e5fa24a0-0456-45f0-9585-c398da603f27",
   "metadata": {},
   "outputs": [
    {
     "name": "stdout",
     "output_type": "stream",
     "text": [
      "1500\n",
      "Insufficient funds.\n",
      "1500\n"
     ]
    }
   ],
   "source": [
    "account = BankAccount(1000)  # create a new account with a balance of 1000\n",
    "\n",
    "account.deposit(500)  # deposit 500 into the account\n",
    "print(account.get_balance())  # print the current balance (should be 1500)\n",
    "\n",
    "account.withdraw(2000)  # try to withdraw 2000 from the account (should print \"Insufficient funds.\")\n",
    "print(account.get_balance())  # print the current balance (should be 1500)\n"
   ]
  },
  {
   "cell_type": "markdown",
   "id": "ec670cb9-4e64-4654-8944-62c9a2df5eb4",
   "metadata": {},
   "source": [
    "Q2. Differentiate between Abstraction and Encapsulation. Explain with an example."
   ]
  },
  {
   "cell_type": "markdown",
   "id": "ed87e1b4-c6ee-4611-b282-ff42d90ab6d8",
   "metadata": {},
   "source": [
    "Abstraction and Encapsulation are two important concepts in Object-Oriented Programming (OOP). Although they are related and often used together, they have distinct meanings and purposes.\n",
    "\n",
    "Abstraction refers to the process of hiding unnecessary details and exposing only essential features or functionalities to the users. It is about focusing on what an object does, rather than how it does it. Abstraction helps in simplifying complex systems and makes it easier for users to interact with them.\n",
    "\n",
    "Encapsulation, on the other hand, is the process of wrapping data and methods together in a single unit, i.e., a class. Encapsulation protects the data from external interference and modification and provides a well-defined interface for accessing and modifying the data.\n",
    "\n",
    "To illustrate the difference between Abstraction and Encapsulation, let's consider the example of a car. Abstraction in a car would be the way the driver interacts with the car's controls, such as the steering wheel, pedals, and gear shifter. The driver doesn't need to know the inner workings of the car's engine and transmission to use it. Instead, the car's essential features are exposed to the driver, allowing them to operate the car effectively.\n",
    "\n",
    "Encapsulation in a car would be the way its internal components, such as the engine, transmission, and electrical system, are enclosed and protected within the car's body. The car's components are hidden from external interference and modification, and only a well-defined interface (i.e., the car's controls) is exposed to the driver and passengers. This way, the car can operate effectively without being affected by external factors.\n",
    "\n",
    "In OOP, a similar approach is used. Abstraction is used to expose only essential features of an object, while Encapsulation is used to protect the object's internal data and methods from external interference and modification. These two concepts work together to make OOP code more modular, robust, and easier to use."
   ]
  },
  {
   "cell_type": "code",
   "execution_count": 7,
   "id": "b92c7bf9-c1b9-4e71-9857-32634fa8b1b6",
   "metadata": {},
   "outputs": [
    {
     "name": "stdout",
     "output_type": "stream",
     "text": [
      "The car is moving.\n",
      "Please start the engine first.\n"
     ]
    }
   ],
   "source": [
    "class Car:\n",
    "    def __init__(self, make, model, year):\n",
    "        self.make = make\n",
    "        self.model = model\n",
    "        self.year = year\n",
    "        self.__engine_running = False  # encapsulate engine_running as a private attribute\n",
    "\n",
    "    def start_engine(self):\n",
    "        self.__engine_running = True\n",
    "\n",
    "    def stop_engine(self):\n",
    "        self.__engine_running = False\n",
    "\n",
    "    def drive(self):\n",
    "        if self.__engine_running:\n",
    "            print(\"The car is moving.\")\n",
    "        else:\n",
    "            print(\"Please start the engine first.\")\n",
    "\n",
    "car = Car(\"Toyota\", \"Corolla\", 2022)\n",
    "car.start_engine()\n",
    "car.drive()  # this should print \"The car is moving.\"\n",
    "\n",
    "car.stop_engine()\n",
    "car.drive()  # this should print \"Please start the engine first.\"\n"
   ]
  },
  {
   "cell_type": "code",
   "execution_count": 8,
   "id": "c1a8a9ee-ab69-4744-aaa5-ffc07b924162",
   "metadata": {},
   "outputs": [
    {
     "name": "stdout",
     "output_type": "stream",
     "text": [
      "The car is moving.\n",
      "Please start the engine first.\n"
     ]
    }
   ],
   "source": [
    "car = Car(\"Toyota\", \"Corolla\", 2022)  # create a new car instance\n",
    "\n",
    "car.start_engine()  # start the car's engine\n",
    "car.drive()  # this should print \"The car is moving.\"\n",
    "\n",
    "car.stop_engine()  # stop the car's engine\n",
    "car.drive()  # this should print \"Please start the engine first.\"\n"
   ]
  },
  {
   "cell_type": "markdown",
   "id": "9da377a6-d719-454b-b0c4-db2a289a9aef",
   "metadata": {},
   "source": [
    "Q3. What is abc module in python? Why is it used?"
   ]
  },
  {
   "cell_type": "markdown",
   "id": "aa5d75f8-bd3f-484c-9a05-a71396f85f9b",
   "metadata": {},
   "source": [
    "The abc (Abstract Base Classes) module is a built-in module in Python that provides a way to define abstract classes. Abstract classes are classes that cannot be instantiated and are meant to be subclassed to provide concrete implementations of their methods.\n",
    "\n",
    "The abc module is used to create and work with abstract classes and interfaces in Python. It provides the ABC class and abstractmethod decorator, which are used to define abstract classes and methods, respectively.\n",
    "\n",
    "Abstract classes can define abstract methods, which are declared but not implemented. Subclasses of an abstract class must implement these abstract methods to provide concrete implementations. If a subclass does not implement all the abstract methods, it will also be considered an abstract class and cannot be instantiated.\n",
    "\n",
    "The abc module is used for several purposes, such as:\n",
    "\n",
    "To define a common interface or API that multiple classes or modules can implement. This makes it easier to work with different classes or modules that have similar functionality.\n",
    "\n",
    "To enforce a certain behavior or contract among different classes. Abstract classes can define the required behavior, and any class that wants to conform to that behavior must implement the required methods.\n",
    "\n",
    "To provide a way to organize and structure code in a more modular and reusable way. Abstract classes can provide a high-level interface that hides the details of the implementation, making the code easier to understand and maintain."
   ]
  },
  {
   "cell_type": "code",
   "execution_count": 9,
   "id": "7580e3fa-7e35-4f5b-a70a-4d726979f25b",
   "metadata": {},
   "outputs": [
    {
     "name": "stdout",
     "output_type": "stream",
     "text": [
      "The dog is running.\n",
      "The bird is flying.\n"
     ]
    }
   ],
   "source": [
    "from abc import ABC, abstractmethod\n",
    "\n",
    "class Animal(ABC):\n",
    "    @abstractmethod\n",
    "    def move(self):\n",
    "        pass\n",
    "\n",
    "class Dog(Animal):\n",
    "    def move(self):\n",
    "        print(\"The dog is running.\")\n",
    "\n",
    "class Bird(Animal):\n",
    "    def move(self):\n",
    "        print(\"The bird is flying.\")\n",
    "\n",
    "# animal = Animal()  # This will raise a TypeError because Animal is an abstract class\n",
    "\n",
    "dog = Dog()\n",
    "dog.move()  # this should print \"The dog is running.\"\n",
    "\n",
    "bird = Bird()\n",
    "bird.move()  # this should print \"The bird is flying.\"\n"
   ]
  },
  {
   "cell_type": "markdown",
   "id": "e4a05e65-aaec-4d6f-b072-6b5e4efa20bb",
   "metadata": {},
   "source": [
    "Q4. How can we achieve data abstraction?"
   ]
  },
  {
   "cell_type": "markdown",
   "id": "5932484f-da91-4e2a-ba9d-18395e011d87",
   "metadata": {},
   "source": [
    "Data abstraction is a technique used in object-oriented programming (OOP) to hide the implementation details of an object from its users, and only expose the relevant information and behavior through a well-defined interface. This allows for greater simplicity, flexibility, and modularity in code design.\n",
    "\n",
    "In order to achieve data abstraction in OOP, there are several techniques that can be used:\n",
    "\n",
    "Encapsulation: Encapsulation is the technique of hiding the implementation details of an object from the outside world by wrapping it inside a class. The class provides a public interface that can be used to interact with the object, while the implementation details are hidden from the user.\n",
    "\n",
    "Abstract Classes: Abstract classes are classes that cannot be instantiated, but are meant to be subclassed to provide concrete implementations of their methods. Abstract classes can define abstract methods that must be implemented by subclasses, providing a common interface or API that multiple classes can implement.\n",
    "\n",
    "Interfaces: Interfaces are similar to abstract classes, but they only define method signatures without providing any implementation details. Classes that implement an interface must provide concrete implementations of all the methods defined in the interface.\n",
    "\n",
    "Access Modifiers: Access modifiers such as public, private, and protected can be used to control the visibility and accessibility of the data members and methods of a class. Private data members can only be accessed within the class, while public data members can be accessed from anywhere.\n",
    "\n",
    "By using these techniques, data abstraction can be achieved in OOP, allowing for greater simplicity, flexibility, and modularity in code design."
   ]
  },
  {
   "cell_type": "markdown",
   "id": "ebcf3f27-81d7-4be5-baf2-7768fcd71f75",
   "metadata": {},
   "source": [
    "Q5. Can we create an instance of an abstract class? Explain your answer."
   ]
  },
  {
   "cell_type": "markdown",
   "id": "2fca861e-1ca1-43fa-9709-0741dc5b9c0f",
   "metadata": {},
   "source": [
    "No, we cannot create an instance of an abstract class in Python. An abstract class is a class that cannot be instantiated and is meant to be subclassed to provide concrete implementations of its methods.\n",
    "\n",
    "In Python, abstract classes are created using the ABC (Abstract Base Class) module, and abstract methods are declared using the abstractmethod decorator. Any class that inherits from an abstract class must implement all the abstract methods defined by the abstract class, or else it will also be considered an abstract class and cannot be instantiated."
   ]
  },
  {
   "cell_type": "code",
   "execution_count": 11,
   "id": "44c4ad2b-fa1f-40b5-9178-bb1c128ac56c",
   "metadata": {},
   "outputs": [
    {
     "name": "stdout",
     "output_type": "stream",
     "text": [
      "The dog is running.\n"
     ]
    }
   ],
   "source": [
    "from abc import ABC, abstractmethod\n",
    "\n",
    "class Animal(ABC): #abstract method\n",
    " \n",
    "    def move(self):\n",
    "        pass\n",
    "\n",
    "class Dog(Animal):\n",
    "    def move(self):\n",
    "        print(\"The dog is running.\")\n",
    "\n",
    "  # This will raise a TypeError because Animal is an abstract class\n",
    "\n",
    "dog = Dog()\n",
    "dog.move()  # This should print \"The dog is running.\"\n"
   ]
  },
  {
   "cell_type": "code",
   "execution_count": null,
   "id": "e7200a8e-7465-4636-bed7-bf490af0d4db",
   "metadata": {},
   "outputs": [],
   "source": []
  }
 ],
 "metadata": {
  "kernelspec": {
   "display_name": "Python 3 (ipykernel)",
   "language": "python",
   "name": "python3"
  },
  "language_info": {
   "codemirror_mode": {
    "name": "ipython",
    "version": 3
   },
   "file_extension": ".py",
   "mimetype": "text/x-python",
   "name": "python",
   "nbconvert_exporter": "python",
   "pygments_lexer": "ipython3",
   "version": "3.10.8"
  }
 },
 "nbformat": 4,
 "nbformat_minor": 5
}
