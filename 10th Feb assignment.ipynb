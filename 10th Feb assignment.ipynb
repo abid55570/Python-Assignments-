{
 "cells": [
  {
   "cell_type": "markdown",
   "id": "a548d29c-318a-44fe-a93b-9a343e801a6e",
   "metadata": {},
   "source": [
    "Q1. Which function is used to open a file? What are the different modes of opening a file? Explain each mode\n",
    "of file opening."
   ]
  },
  {
   "cell_type": "markdown",
   "id": "048aa1a4-1873-455b-a4af-0273ede237d0",
   "metadata": {},
   "source": [
    "In Python, the open() function is used to open a file. It returns a file object that can be used to read or write to the file.\n",
    "\n",
    "Here are the different modes of opening a file:\n",
    "\n",
    "r: Read mode. This mode is used to open a file for reading. The file pointer is placed at the beginning of the file. If the file does not exist, an error is raised.\n",
    "\n",
    "w: Write mode. This mode is used to open a file for writing. If the file already exists, its contents are truncated. If the file does not exist, a new file is created.\n",
    "\n",
    "a: Append mode. This mode is used to open a file for appending. The file pointer is placed at the end of the file. If the file does not exist, a new file is created.\n",
    "\n",
    "x: Exclusive mode. This mode is used to open a file for writing, but only if the file does not already exist. If the file already exists, an error is raised.\n",
    "\n",
    "b: Binary mode. This mode is used to open a file in binary mode, which is used for non-text files such as images, videos, or audio files. By default, files are opened in text mode.\n",
    "\n",
    "t: Text mode. This mode is used to open a file in text mode, which is used for text files such as .txt, .csv, or .html files. This is the default mode."
   ]
  },
  {
   "cell_type": "markdown",
   "id": "7b77e255-ab4e-4230-9d5e-0b2124031a40",
   "metadata": {},
   "source": [
    "# Read mode\n",
    "file = open(\"example.txt\", \"r\")\n",
    "content = file.read()\n",
    "print(content)\n",
    "file.close()\n",
    "\n",
    "# Write mode\n",
    "file = open(\"example.txt\", \"w\")\n",
    "file.write(\"This is a sample text file.\")\n",
    "file.close()\n",
    "\n",
    "# Append mode\n",
    "file = open(\"example.txt\", \"a\")\n",
    "file.write(\"\\nThis is a new line.\")\n",
    "file.close()\n"
   ]
  },
  {
   "cell_type": "markdown",
   "id": "290bf224-e1c4-431f-8c33-1e30f50758ad",
   "metadata": {},
   "source": [
    "Q2. Why close() function is used? Why is it important to close a file?"
   ]
  },
  {
   "cell_type": "markdown",
   "id": "3eb8e4e6-9abc-4947-994d-c77d0014fc7a",
   "metadata": {},
   "source": [
    "The close() function in Python is used to close an opened file. It's important to close a file because it releases the resources used by the file object, such as the memory used to buffer the data and any system resources used to maintain the connection to the file.\n",
    "\n",
    "If a file is not closed properly, it can cause problems such as memory leaks or resource starvation, which can impact the performance of the program and potentially cause it to crash. Additionally, if the file object is not closed before the program ends, any data that has not been written to the file may be lost.\n",
    "\n",
    "Therefore, it's good practice to always close a file after you're done working with it, using the close() function or using the with statement, which automatically closes the file after the block of code is executed."
   ]
  },
  {
   "cell_type": "markdown",
   "id": "c30fb194-462f-427a-8d06-1442454dc613",
   "metadata": {},
   "source": [
    "Q3. Write a python program to create a text file. Write ‘I want to become a Data Scientist’ in that file. Then\n",
    "close the file. Open this file and read the content of the file."
   ]
  },
  {
   "cell_type": "code",
   "execution_count": 2,
   "id": "e6f17a0a-2190-4ae1-8d94-8df113dfc0b4",
   "metadata": {},
   "outputs": [
    {
     "name": "stdout",
     "output_type": "stream",
     "text": [
      "I want to become a Data Scientist\n"
     ]
    }
   ],
   "source": [
    "# Creating a file\n",
    "file = open(\"data.txt\", \"w\")\n",
    "file.write(\"I want to become a Data Scientist\")\n",
    "file.close()\n",
    "\n",
    "# Reading the file\n",
    "file = open(\"data.txt\", \"r\")\n",
    "content = file.read()\n",
    "print(content)\n",
    "file.close()\n"
   ]
  },
  {
   "cell_type": "markdown",
   "id": "27a35e4c-77df-4015-90a7-434cfb0afcec",
   "metadata": {},
   "source": [
    "Q4. Explain the following with python code: read(), readline() and readlines()."
   ]
  },
  {
   "cell_type": "markdown",
   "id": "81016ebe-015a-47a7-b09d-c998036d63b9",
   "metadata": {},
   "source": [
    "read() method: This method reads the entire contents of a file as a single string."
   ]
  },
  {
   "cell_type": "code",
   "execution_count": 3,
   "id": "a3190b53-4fb6-4809-bc44-924c3868c36c",
   "metadata": {},
   "outputs": [
    {
     "name": "stdout",
     "output_type": "stream",
     "text": [
      "I want to become a Data Scientist\n"
     ]
    }
   ],
   "source": [
    "file = open(\"data.txt\", \"r\")\n",
    "content = file.read()\n",
    "print(content)\n",
    "file.close()\n"
   ]
  },
  {
   "cell_type": "markdown",
   "id": "34735a92-25ee-4fcc-b4a7-413b1c9e1031",
   "metadata": {},
   "source": [
    "readline() method: This method reads a single line from a file at a time."
   ]
  },
  {
   "cell_type": "code",
   "execution_count": 5,
   "id": "f591003d-427e-4859-8b64-b8538129afa4",
   "metadata": {},
   "outputs": [
    {
     "name": "stdout",
     "output_type": "stream",
     "text": [
      "I want to become a Data Scientist\n",
      "\n",
      "writing here a  programme and \n",
      "\n"
     ]
    }
   ],
   "source": [
    "file = open(\"data.txt\", \"r\")\n",
    "line1 = file.readline()\n",
    "line2 = file.readline()\n",
    "print(line1)\n",
    "print(line2)\n",
    "file.close()\n"
   ]
  },
  {
   "cell_type": "markdown",
   "id": "c755c891-9a47-4f42-a2b2-130c0329a5da",
   "metadata": {},
   "source": [
    "readlines() method: This method reads all the lines of a file and returns them as a list."
   ]
  },
  {
   "cell_type": "code",
   "execution_count": 6,
   "id": "54ee8337-5ab3-45ef-8961-b45c2fdc5a27",
   "metadata": {},
   "outputs": [
    {
     "name": "stdout",
     "output_type": "stream",
     "text": [
      "I want to become a Data Scientist\n",
      "\n",
      "writing here a  programme and \n",
      "\n",
      "practicing to implement in a short way\n"
     ]
    }
   ],
   "source": [
    "file = open(\"data.txt\", \"r\")\n",
    "lines = file.readlines()\n",
    "for line in lines:\n",
    "    print(line)\n",
    "file.close()\n"
   ]
  },
  {
   "cell_type": "markdown",
   "id": "92b14df3-186e-42c0-a89f-60e067433cd2",
   "metadata": {},
   "source": [
    "Q5. Explain why with statement is used with open(). What is the advantage of using with statement and\n",
    "open() together?"
   ]
  },
  {
   "cell_type": "markdown",
   "id": "9c6cbee9-13d2-45e1-87db-71bcbf647355",
   "metadata": {},
   "source": [
    "The advantage of using the with statement with the open() function is that it automatically handles the opening and closing of the file. This means that you don't have to manually call the close() method on the file object, which helps to ensure that the file is properly closed even if an exception occurs in the code."
   ]
  },
  {
   "cell_type": "code",
   "execution_count": 7,
   "id": "2612b69a-1623-4b51-8b24-3a561f3551b2",
   "metadata": {},
   "outputs": [
    {
     "name": "stdout",
     "output_type": "stream",
     "text": [
      "I want to become a Data Scientist\n",
      "writing here a  programme and \n",
      "practicing to implement in a short way\n"
     ]
    }
   ],
   "source": [
    "with open(\"data.txt\", \"r\") as file:\n",
    "    content = file.read()\n",
    "    print(content)\n"
   ]
  },
  {
   "cell_type": "markdown",
   "id": "d9369cd6-f6dc-475d-abba-7dac34f50037",
   "metadata": {},
   "source": [
    "Q6. Explain the write() and writelines() functions. Give a suitable example."
   ]
  },
  {
   "cell_type": "markdown",
   "id": "f258563f-3bae-4550-a33e-d70e24691e98",
   "metadata": {},
   "source": [
    "In Python, the write() and writelines() functions are used to write data to a file.\n",
    "\n",
    "write() function: This function writes a string to a file. If the file already contains data, the new data will be appended to the end of the file."
   ]
  },
  {
   "cell_type": "code",
   "execution_count": 8,
   "id": "2e2c27a7-39b5-4eb9-9d6d-71b87985fbd1",
   "metadata": {},
   "outputs": [],
   "source": [
    "with open(\"data.txt\", \"w\") as file:\n",
    "    file.write(\"Hello, World!\\n\")\n",
    "    file.write(\"This is a test file.\\n\")\n"
   ]
  },
  {
   "cell_type": "markdown",
   "id": "d864f973-2b68-4cf8-969d-e2c5c29148e0",
   "metadata": {},
   "source": [
    "writelines() function: This function writes a list of strings to a file. Each string in the list is written to the file as a separate line."
   ]
  },
  {
   "cell_type": "code",
   "execution_count": 12,
   "id": "e112ee07-ed63-4915-aaae-98f95ff47d48",
   "metadata": {},
   "outputs": [],
   "source": [
    "with open(\"data.txt\", \"w\") as file:\n",
    "    lines = [\"Hello, World!\\n\", \"This is a test file.\\n\"]\n",
    "    file.writelines(lines)\n"
   ]
  },
  {
   "cell_type": "code",
   "execution_count": null,
   "id": "c23f5267-c553-4150-a1ca-eba0409e1ff4",
   "metadata": {},
   "outputs": [],
   "source": []
  }
 ],
 "metadata": {
  "kernelspec": {
   "display_name": "Python 3 (ipykernel)",
   "language": "python",
   "name": "python3"
  },
  "language_info": {
   "codemirror_mode": {
    "name": "ipython",
    "version": 3
   },
   "file_extension": ".py",
   "mimetype": "text/x-python",
   "name": "python",
   "nbconvert_exporter": "python",
   "pygments_lexer": "ipython3",
   "version": "3.10.8"
  }
 },
 "nbformat": 4,
 "nbformat_minor": 5
}
