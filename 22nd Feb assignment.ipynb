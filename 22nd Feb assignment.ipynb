{
 "cells": [
  {
   "cell_type": "markdown",
   "id": "401cf89e-e9e0-410f-9853-b58ee0c1b42d",
   "metadata": {},
   "source": [
    "Q1. Create a Pandas Series that contains the following data: 4, 8, 15, 16, 23, and 42. Then, print the series."
   ]
  },
  {
   "cell_type": "code",
   "execution_count": 1,
   "id": "85e10144-0332-4504-b341-825fab41738f",
   "metadata": {},
   "outputs": [
    {
     "name": "stdout",
     "output_type": "stream",
     "text": [
      "0     4\n",
      "1     8\n",
      "2    15\n",
      "3    16\n",
      "4    23\n",
      "5    42\n",
      "dtype: int64\n"
     ]
    }
   ],
   "source": [
    "import pandas as pd\n",
    "\n",
    "# Create the series\n",
    "numbers = pd.Series([4, 8, 15, 16, 23, 42])\n",
    "\n",
    "# Print the series\n",
    "print(numbers)\n"
   ]
  },
  {
   "cell_type": "markdown",
   "id": "be3b1e50-7fb2-45fa-8291-7121c8a79398",
   "metadata": {},
   "source": [
    "Q2. Create a variable of list type containing 10 elements in it, and apply pandas.Series function on the\n",
    "variable print it."
   ]
  },
  {
   "cell_type": "code",
   "execution_count": 2,
   "id": "85b6942c-3de1-40c5-a60a-edc3f6c430c8",
   "metadata": {},
   "outputs": [
    {
     "name": "stdout",
     "output_type": "stream",
     "text": [
      "0     1\n",
      "1     2\n",
      "2     3\n",
      "3     4\n",
      "4     5\n",
      "5     6\n",
      "6     7\n",
      "7     8\n",
      "8     9\n",
      "9    10\n",
      "dtype: int64\n"
     ]
    }
   ],
   "source": [
    "import pandas as pd\n",
    "\n",
    "# Create the list variable\n",
    "my_list = [1, 2, 3, 4, 5, 6, 7, 8, 9, 10]\n",
    "\n",
    "# Create a Series from the list\n",
    "my_series = pd.Series(my_list)\n",
    "\n",
    "# Print the Series\n",
    "print(my_series)\n"
   ]
  },
  {
   "cell_type": "markdown",
   "id": "41c2e2bd-ee9d-42f1-a258-b2fa9521a5cd",
   "metadata": {},
   "source": [
    "Q3. Create a Pandas DataFrame that contains the following data:\n"
   ]
  },
  {
   "cell_type": "code",
   "execution_count": 3,
   "id": "5fdb82b0-1da8-44e5-b0c1-38884e848d8b",
   "metadata": {},
   "outputs": [
    {
     "name": "stdout",
     "output_type": "stream",
     "text": [
      "      Name  Age  Gender\n",
      "0    Alice   25  Female\n",
      "1      Bob   30    Male\n",
      "2  Charlie   35    Male\n",
      "3     Dave   40    Male\n",
      "4      Eve   45  Female\n"
     ]
    }
   ],
   "source": [
    "\n",
    "# Create the dictionary containing the data\n",
    "data = {\n",
    "    'Name': ['Alice', 'Bob', 'Charlie', 'Dave', 'Eve'],\n",
    "    'Age': [25, 30, 35, 40, 45],\n",
    "    'Gender': ['Female', 'Male', 'Male', 'Male', 'Female']\n",
    "}\n",
    "\n",
    "# Create the DataFrame\n",
    "df = pd.DataFrame(data)\n",
    "\n",
    "# Print the DataFrame\n",
    "print(df)\n"
   ]
  },
  {
   "cell_type": "markdown",
   "id": "5a7c218a-b2af-4bd1-a87b-60512bf9b0a3",
   "metadata": {},
   "source": [
    "Q4. What is ‘DataFrame’ in pandas and how is it different from pandas.series? Explain with an example."
   ]
  },
  {
   "cell_type": "markdown",
   "id": "cb96553e-ef22-4e27-a48b-9f629648d8b9",
   "metadata": {},
   "source": [
    "In Pandas, a DataFrame is a two-dimensional, size-mutable, tabular data structure with labeled axes (rows and columns). It is similar to a spreadsheet or SQL table, and is often used to represent datasets with multiple variables (columns) and observations (rows).\n",
    "\n",
    "On the other hand, a Series is a one-dimensional labeled array capable of holding any data type (integers, strings, floating-point numbers, Python objects, etc.). It is similar to a column in a spreadsheet or a single column in a SQL table.\n",
    "\n",
    "The main difference between a DataFrame and a Series is that a DataFrame can contain multiple columns of data, while a Series represents a single column of data."
   ]
  },
  {
   "cell_type": "code",
   "execution_count": 4,
   "id": "ea973888-a75b-4e23-913b-3956153c7af0",
   "metadata": {},
   "outputs": [
    {
     "name": "stdout",
     "output_type": "stream",
     "text": [
      "      Name  Age  Gender\n",
      "0    Alice   25  Female\n",
      "1      Bob   30    Male\n",
      "2  Charlie   35    Male\n",
      "0    25\n",
      "1    30\n",
      "2    35\n",
      "Name: Age, dtype: int64\n"
     ]
    }
   ],
   "source": [
    "\n",
    "\n",
    "# Create a dictionary with some data\n",
    "data = {'Name': ['Alice', 'Bob', 'Charlie'],\n",
    "        'Age': [25, 30, 35],\n",
    "        'Gender': ['Female', 'Male', 'Male']}\n",
    "\n",
    "# Create a DataFrame from the dictionary\n",
    "df = pd.DataFrame(data)\n",
    "\n",
    "# Create a Series from one of the columns in the DataFrame\n",
    "age_series = df['Age']\n",
    "\n",
    "# Print the DataFrame and Series\n",
    "print(df)\n",
    "print(age_series)\n"
   ]
  },
  {
   "cell_type": "markdown",
   "id": "420ac80a-049e-4a41-92d6-137bcfc9d569",
   "metadata": {},
   "source": [
    "Q5. What are some common functions you can use to manipulate data in a Pandas DataFrame? Can\n",
    "you give an example of when you might use one of these functions?"
   ]
  },
  {
   "cell_type": "markdown",
   "id": "2eb50356-343c-41ac-945d-38a2efc43bfb",
   "metadata": {},
   "source": [
    "There are many common functions and methods available in Pandas for manipulating data in a DataFrame. Here are some examples:\n",
    "\n",
    "head() and tail(): These methods allow you to view the first or last few rows of a DataFrame, respectively. For example, df.head() will return the first 5 rows of the DataFrame df.\n",
    "\n",
    "describe(): This method provides summary statistics for each column in the DataFrame, such as count, mean, and standard deviation. For example, df.describe() will return a summary of the data in the DataFrame df.\n",
    "\n",
    "dropna(): This method allows you to remove any rows or columns in the DataFrame that contain missing values. For example, df.dropna() will remove any rows in the DataFrame df that contain missing values.\n",
    "\n",
    "groupby(): This method allows you to group the rows in the DataFrame by one or more columns, and apply a function to each group. For example, df.groupby('Gender')['Age'].mean() will group the rows in the DataFrame df by the 'Gender' column, and calculate the mean age for each group.\n",
    "\n",
    "apply(): This method allows you to apply a function to each element in a column or row of the DataFrame. For example, df['Age'].apply(lambda x: x ** 2) will square each element in the 'Age' column of the DataFrame df."
   ]
  },
  {
   "cell_type": "markdown",
   "id": "7b46d852-b165-453d-8ad0-f115ef8df9b6",
   "metadata": {},
   "source": [
    "Q6. Which of the following is mutable in nature Series, DataFrame, Panel?"
   ]
  },
  {
   "cell_type": "markdown",
   "id": "873317f3-c842-4c7a-b341-139ead88043d",
   "metadata": {},
   "source": [
    "Both Series and DataFrame are mutable in nature, meaning that you can modify their values after they have been created. Panel, on the other hand, is no longer supported in the latest versions of Pandas and has been deprecated. Instead, Pandas recommends using multi-dimensional NumPy arrays or xarray for handling three or more dimensions of data."
   ]
  },
  {
   "cell_type": "markdown",
   "id": "cdf93ea0-9797-461a-be51-2366afb33826",
   "metadata": {},
   "source": [
    "Q7. Create a DataFrame using multiple Series. Explain with an example."
   ]
  },
  {
   "cell_type": "markdown",
   "id": "30330884-b650-4f7a-ab92-9f464c05cbdf",
   "metadata": {},
   "source": [
    "To create a DataFrame using multiple Series, you can first create each Series and then combine them into a DataFrame using the pd.DataFrame() function."
   ]
  },
  {
   "cell_type": "code",
   "execution_count": 6,
   "id": "13e4695f-f0cf-4e99-a51e-b7c731850ba3",
   "metadata": {},
   "outputs": [
    {
     "name": "stdout",
     "output_type": "stream",
     "text": [
      "      Name  Age  Gender\n",
      "0    Alice   25  Female\n",
      "1      Bob   30    Male\n",
      "2  Charlie   35    Male\n"
     ]
    }
   ],
   "source": [
    "# Create a Series for each column of data\n",
    "names = pd.Series(['Alice', 'Bob', 'Charlie'])\n",
    "ages = pd.Series([25, 30, 35])\n",
    "genders = pd.Series(['Female', 'Male', 'Male'])\n",
    "\n",
    "# Combine the Series into a DataFrame\n",
    "df = pd.DataFrame({'Name': names, 'Age': ages, 'Gender': genders})\n",
    "\n",
    "# Print the DataFrame\n",
    "print(df)\n"
   ]
  },
  {
   "cell_type": "code",
   "execution_count": null,
   "id": "cb86f075-9c2d-461d-bea1-2a898764ae43",
   "metadata": {},
   "outputs": [],
   "source": []
  }
 ],
 "metadata": {
  "kernelspec": {
   "display_name": "Python 3 (ipykernel)",
   "language": "python",
   "name": "python3"
  },
  "language_info": {
   "codemirror_mode": {
    "name": "ipython",
    "version": 3
   },
   "file_extension": ".py",
   "mimetype": "text/x-python",
   "name": "python",
   "nbconvert_exporter": "python",
   "pygments_lexer": "ipython3",
   "version": "3.10.8"
  }
 },
 "nbformat": 4,
 "nbformat_minor": 5
}
