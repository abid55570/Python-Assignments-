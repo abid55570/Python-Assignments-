{
 "cells": [
  {
   "cell_type": "markdown",
   "id": "b4a2ad8e-2e19-42c1-9bdd-e64a68c79c7e",
   "metadata": {},
   "source": [
    "Q1. Which keyword is used to create a function? Create a function to return a list of odd numbers in the\n",
    "range of 1 to 25."
   ]
  },
  {
   "cell_type": "markdown",
   "id": "450e4055-ef3c-45ed-9419-420efbf6be06",
   "metadata": {},
   "source": [
    "def \n",
    "keyword is used to create a function "
   ]
  },
  {
   "cell_type": "code",
   "execution_count": 18,
   "id": "c570d4bf-93de-4975-8241-51ab6579af9a",
   "metadata": {},
   "outputs": [
    {
     "name": "stdout",
     "output_type": "stream",
     "text": [
      "[1, 3, 5, 7, 9, 11, 13, 15, 17, 19, 21, 23]\n"
     ]
    }
   ],
   "source": [
    "def odd_num():\n",
    "    \"\"\"this is the function to find the odd number between 1 to 25\"\"\"\n",
    "    \n",
    "    \n",
    "    return [i for i in range(1,25) if i%2 == 1]\n",
    "print(odd_num())"
   ]
  },
  {
   "cell_type": "code",
   "execution_count": 17,
   "id": "17d52dd6-e46e-45a0-b14c-33e59915be34",
   "metadata": {},
   "outputs": [
    {
     "data": {
      "text/plain": [
       "[1, 3, 5, 7, 9, 11, 13, 15, 17, 19, 21, 23]"
      ]
     },
     "execution_count": 17,
     "metadata": {},
     "output_type": "execute_result"
    }
   ],
   "source": [
    "odd_num()   "
   ]
  },
  {
   "cell_type": "markdown",
   "id": "2e40693d-8f8f-4c1e-8aed-e7e39c0eec21",
   "metadata": {},
   "source": [
    "Q.2 Why *args and **kwargs is used in some functions? Create a function each for *args and **kwargs\n",
    "to demonstrate their use."
   ]
  },
  {
   "cell_type": "code",
   "execution_count": 40,
   "id": "c6fadeb9-21cd-4ed1-8a27-f5cef5320cd2",
   "metadata": {},
   "outputs": [
    {
     "name": "stdout",
     "output_type": "stream",
     "text": [
      "[1, 3, 5, 7, 9, 11, 13, 15, 17, 19, 21, 23]\n"
     ]
    }
   ],
   "source": [
    "def odd_num(*args):\n",
    "    \"\"\"this is the function with asterisk *args\"\"\"\n",
    "    \n",
    "    return [i for i in range(25) if i%2 == 1]\n",
    "print(odd_num())"
   ]
  },
  {
   "cell_type": "code",
   "execution_count": 41,
   "id": "4f224323-569a-4347-ba4f-a3c9d9911db8",
   "metadata": {},
   "outputs": [
    {
     "data": {
      "text/plain": [
       "[1, 3, 5, 7, 9, 11, 13, 15, 17, 19, 21, 23]"
      ]
     },
     "execution_count": 41,
     "metadata": {},
     "output_type": "execute_result"
    }
   ],
   "source": [
    "odd_num(15)"
   ]
  },
  {
   "cell_type": "code",
   "execution_count": 53,
   "id": "f0aaab9a-bf1f-4adc-b95a-42150d1bed35",
   "metadata": {},
   "outputs": [],
   "source": [
    "def test(*args):\n",
    "    return args"
   ]
  },
  {
   "cell_type": "code",
   "execution_count": 54,
   "id": "0ce35225-4f31-41b7-a8cc-26dd1a94c8b8",
   "metadata": {},
   "outputs": [
    {
     "data": {
      "text/plain": [
       "()"
      ]
     },
     "execution_count": 54,
     "metadata": {},
     "output_type": "execute_result"
    }
   ],
   "source": [
    "test()\n",
    "# it returns the value in tuple "
   ]
  },
  {
   "cell_type": "code",
   "execution_count": 74,
   "id": "d7bd7437-0346-48bc-8dc6-a07f0b81b1fd",
   "metadata": {},
   "outputs": [],
   "source": [
    "def test1(**kwargs):\n",
    "    return kwargs"
   ]
  },
  {
   "cell_type": "code",
   "execution_count": 75,
   "id": "e608a187-9351-40ff-a386-83f1915ef688",
   "metadata": {},
   "outputs": [
    {
     "data": {
      "text/plain": [
       "{}"
      ]
     },
     "execution_count": 75,
     "metadata": {},
     "output_type": "execute_result"
    }
   ],
   "source": [
    "test1()\n",
    "# it return the value in dictionary form "
   ]
  },
  {
   "cell_type": "code",
   "execution_count": 76,
   "id": "3bf01dbb-469a-41cd-8568-b83eadcb8b30",
   "metadata": {},
   "outputs": [
    {
     "data": {
      "text/plain": [
       "{'a': 24, 'b': [1, 2, 3], 'c': 'abcd'}"
      ]
     },
     "execution_count": 76,
     "metadata": {},
     "output_type": "execute_result"
    }
   ],
   "source": [
    "test1(a=24, b=[1,2,3], c=\"abcd\")\n",
    "# it return the value in dictionary form \n",
    "# any value we put in , it will be ouutput with double asterisk"
   ]
  },
  {
   "cell_type": "code",
   "execution_count": 65,
   "id": "67f31d0f-b05d-4b94-b214-3d67cca8b4c5",
   "metadata": {},
   "outputs": [],
   "source": [
    "def test1(**kwargs):\n",
    "    return [i for i in range(25) if i%2 == 1]\n",
    "    return kwargs"
   ]
  },
  {
   "cell_type": "code",
   "execution_count": 71,
   "id": "0fd86d10-2b9c-48d4-a309-6b8562a72a21",
   "metadata": {},
   "outputs": [
    {
     "data": {
      "text/plain": [
       "[1, 3, 5, 7, 9, 11, 13, 15, 17, 19, 21, 23]"
      ]
     },
     "execution_count": 71,
     "metadata": {},
     "output_type": "execute_result"
    }
   ],
   "source": [
    "test1()"
   ]
  },
  {
   "cell_type": "markdown",
   "id": "6cbd460f-a799-4c0f-b2c8-60de4a860087",
   "metadata": {},
   "source": [
    "Q3. What is an iterator in python? Name the method used to initialise the iterator object and the method\n",
    "used for iteration. Use these methods to print the first five elements of the given list [2, 4, 6, 8, 10, 12, 14,\n",
    "16, 18, 20]."
   ]
  },
  {
   "cell_type": "markdown",
   "id": "a2a043a0-01ff-4904-b9bc-3d51c2e6f75f",
   "metadata": {},
   "source": [
    "An iterator is an object that contains a countable number of values. string object is iterable. in which we can get the data by next next by yeild. \n",
    "which consist of the methods __iter__() and __next__\n",
    "iterator is just a mechanism of for loop which use next fuction"
   ]
  },
  {
   "cell_type": "code",
   "execution_count": 2,
   "id": "3af35036-3540-413c-8412-abf624a7b932",
   "metadata": {},
   "outputs": [
    {
     "name": "stdout",
     "output_type": "stream",
     "text": [
      "2\n",
      "4\n",
      "6\n",
      "8\n",
      "10\n"
     ]
    }
   ],
   "source": [
    "list = [2,4,6,8,10,12,14,16,18,20]\n",
    "iterator = iter(list)\n",
    "print(next(iterator))\n",
    "print(next(iterator))\n",
    "print(next(iterator))\n",
    "print(next(iterator))\n",
    "print(next(iterator))"
   ]
  },
  {
   "cell_type": "code",
   "execution_count": 8,
   "id": "d7932a07-5179-4649-97e2-d601dc9b023d",
   "metadata": {},
   "outputs": [
    {
     "name": "stdout",
     "output_type": "stream",
     "text": [
      "2\n"
     ]
    }
   ],
   "source": [
    "list = [2,4,6,8,10,12,14,16,18,20]\n",
    "iterator = iter(list)\n",
    "print(next(iterator))"
   ]
  },
  {
   "cell_type": "markdown",
   "id": "f651f887-6405-4508-8c40-18d0a7523225",
   "metadata": {},
   "source": [
    "Q4. What is a generator function in python? Why yield keyword is used? Give an example of a generator\n",
    "function."
   ]
  },
  {
   "cell_type": "markdown",
   "id": "9db817d5-f2ee-42f5-b73a-e85b3e1af599",
   "metadata": {},
   "source": [
    "A generator is a function that returns an iterator that produces a sequence of values when iterated over"
   ]
  },
  {
   "cell_type": "markdown",
   "id": "2bc447d6-7989-4201-930d-b09abb3807db",
   "metadata": {},
   "source": [
    "The yield keyword will convert an expression that is specified along with it to a generator object and return it to the caller"
   ]
  },
  {
   "cell_type": "code",
   "execution_count": 19,
   "id": "62b061ed-4a4d-4587-8824-2f7a07b9d494",
   "metadata": {},
   "outputs": [
    {
     "name": "stdout",
     "output_type": "stream",
     "text": [
      "0\n",
      "1\n",
      "2\n"
     ]
    }
   ],
   "source": [
    "def gen_test(n):\n",
    "    gen = 0\n",
    "    while gen < n:\n",
    "        yield gen\n",
    "        gen += 1\n",
    "for gen in gen_test(3):\n",
    "    print(gen)"
   ]
  },
  {
   "cell_type": "code",
   "execution_count": 18,
   "id": "a799920d-70d9-4792-b9d0-aa88c7a5a8af",
   "metadata": {},
   "outputs": [
    {
     "name": "stdout",
     "output_type": "stream",
     "text": [
      "0\n",
      "1\n",
      "2\n"
     ]
    }
   ],
   "source": [
    "def my_generator(n):\n",
    "    value = 0\n",
    "    while value < n:\n",
    "        yield value\n",
    "        value += 1\n",
    "for value in my_generator(3):\n",
    "    print(value)"
   ]
  },
  {
   "cell_type": "code",
   "execution_count": 15,
   "id": "b438d555-f178-47a0-a167-52ea3d21fd3c",
   "metadata": {},
   "outputs": [
    {
     "name": "stdout",
     "output_type": "stream",
     "text": [
      "0\n",
      "1\n",
      "2\n",
      "3\n",
      "4\n",
      "5\n",
      "6\n",
      "7\n",
      "8\n",
      "9\n"
     ]
    }
   ],
   "source": [
    "def gen_test1():\n",
    "    a = 0 \n",
    "    while a < 10:\n",
    "        yield a\n",
    "        a += 1\n",
    "for a in gen_test1():\n",
    "    print(a)"
   ]
  },
  {
   "cell_type": "markdown",
   "id": "02580638-b829-483e-b24e-c3dc54bc62fb",
   "metadata": {},
   "source": [
    "Q5. Create a generator function for prime numbers less than 1000. Use the next() method to print the\n",
    "first 20 prime numbers."
   ]
  },
  {
   "cell_type": "code",
   "execution_count": 8,
   "id": "8ff13cc1-3902-478e-b13d-f016c9f2d718",
   "metadata": {},
   "outputs": [
    {
     "name": "stdout",
     "output_type": "stream",
     "text": [
      "1\n",
      "2\n",
      "3\n",
      "4\n",
      "5\n",
      "6\n",
      "7\n",
      "8\n",
      "9\n",
      "10\n",
      "11\n",
      "12\n"
     ]
    }
   ],
   "source": [
    "def prime():\n",
    "    x=2\n",
    "    while x%2==0:\n",
    "        yield x\n",
    "        x+=1\n",
    "for x in range(1,13):\n",
    "    print(x)"
   ]
  },
  {
   "cell_type": "code",
   "execution_count": 21,
   "id": "b6749f2b-520f-4663-aac2-931022bbc630",
   "metadata": {},
   "outputs": [
    {
     "name": "stdout",
     "output_type": "stream",
     "text": [
      "2 3 5 7 11 13 17 19 23 29 31 37 41 43 47 53 59 61 67 71 73 79 83 89 97 101 103 107 109 113 127 131 137 139 149 151 157 163 167 173 179 181 191 193 197 199 211 223 227 229 233 239 241 251 257 263 269 271 277 281 283 293 307 311 313 317 331 337 347 349 353 359 367 373 379 383 389 397 401 409 419 421 431 433 439 443 449 457 461 463 467 479 487 491 499 503 509 521 523 541 547 557 563 569 571 577 587 593 599 601 607 613 617 619 631 641 643 647 653 659 661 673 677 683 691 701 709 719 727 733 739 743 751 757 761 769 773 787 797 809 811 821 823 827 829 839 853 857 859 863 877 881 883 887 907 911 919 929 937 941 947 953 967 971 977 983 991 997\n"
     ]
    }
   ],
   "source": [
    "def gen_primes(N):\n",
    "    primes = set()\n",
    "    for n in range(2, N):\n",
    "        if all(n % p > 0 for p in primes):\n",
    "            primes.add(n)\n",
    "            yield n\n",
    "\n",
    "print(*gen_primes(1000))"
   ]
  },
  {
   "cell_type": "code",
   "execution_count": 51,
   "id": "af0c394c-d292-4fc0-972b-0c6263508ca7",
   "metadata": {},
   "outputs": [
    {
     "name": "stdout",
     "output_type": "stream",
     "text": [
      "2\n",
      "3\n",
      "5\n",
      "7\n",
      "11\n",
      "13\n",
      "17\n",
      "19\n",
      "23\n",
      "29\n",
      "31\n",
      "37\n",
      "41\n",
      "43\n",
      "47\n",
      "53\n",
      "59\n",
      "61\n",
      "67\n",
      "71\n"
     ]
    }
   ],
   "source": [
    "def primes():\n",
    "    yield 2\n",
    "    prime_list = [2]\n",
    "    num = 3\n",
    "    while num < 1000:\n",
    "        is_prime = True\n",
    "        for prime in prime_list:\n",
    "            if num % prime == 0:\n",
    "                is_prime = False\n",
    "                break\n",
    "        if is_prime:\n",
    "            prime_list.append(num)\n",
    "            yield num\n",
    "        num += 2\n",
    "prime_gen = primes()\n",
    "for i in range(20):\n",
    "    print(next(prime_gen))"
   ]
  },
  {
   "cell_type": "markdown",
   "id": "4365f904-d2dd-4bba-9e12-b67b2a206580",
   "metadata": {},
   "source": [
    "Q 6 Write a python program to print the first 10 Fibonacci numbers using a while loop."
   ]
  },
  {
   "cell_type": "code",
   "execution_count": 56,
   "id": "0df8aabe-f0bc-421f-894f-b28bd8a1bce8",
   "metadata": {},
   "outputs": [
    {
     "name": "stdout",
     "output_type": "stream",
     "text": [
      "0\n",
      "1\n",
      "1\n",
      "2\n",
      "3\n",
      "5\n",
      "8\n",
      "13\n",
      "21\n",
      "34\n"
     ]
    }
   ],
   "source": [
    "a, b = 0, 1\n",
    "count = 0\n",
    "while count < 10:\n",
    "    print(a)\n",
    "    a, b = b, a + b\n",
    "    count += 1\n"
   ]
  },
  {
   "cell_type": "markdown",
   "id": "7028d250-e10a-4360-baa8-864595497a7c",
   "metadata": {},
   "source": [
    "Q7. Write a List Comprehension to iterate through the given string: ‘pwskills’.\n",
    "Expected output: ['p', 'w', 's', 'k', 'i', 'l', 'l', 's']"
   ]
  },
  {
   "cell_type": "code",
   "execution_count": 58,
   "id": "ab20c99b-4a5b-4cc6-b4a8-43f48663a829",
   "metadata": {},
   "outputs": [
    {
     "name": "stdout",
     "output_type": "stream",
     "text": [
      "['p', 'w', 's', 'k', 'i', 'l']\n"
     ]
    }
   ],
   "source": [
    "s = 'pwskills'\n",
    "output = [char for index, char in enumerate(s) if char not in s[:index]]\n",
    "print(output)"
   ]
  },
  {
   "cell_type": "markdown",
   "id": "e58de65a-6c37-48db-b826-58731e3b23ed",
   "metadata": {},
   "source": [
    "Q8. Write a python program to check whether a given number is Palindrome or not using a while loop."
   ]
  },
  {
   "cell_type": "code",
   "execution_count": 62,
   "id": "f772a6c0-b3eb-4921-9c2a-d3eace97e8f9",
   "metadata": {},
   "outputs": [
    {
     "name": "stdin",
     "output_type": "stream",
     "text": [
      "Enter a number:  16461\n"
     ]
    },
    {
     "name": "stdout",
     "output_type": "stream",
     "text": [
      "16461 is a palindrome number\n"
     ]
    }
   ],
   "source": [
    "num = int(input(\"Enter a number: \"))\n",
    "temp = num\n",
    "rev = 0\n",
    "\n",
    "while temp > 0:\n",
    "    digit = temp % 10\n",
    "    rev = rev * 10 + digit\n",
    "    temp //= 10\n",
    "\n",
    "if num == rev:\n",
    "    print(num, \"is a palindrome number\")\n",
    "else:\n",
    "    print(num, \"is not a palindrome number\")\n"
   ]
  },
  {
   "cell_type": "markdown",
   "id": "7b5cefda-3c82-4ca2-8066-000b99869837",
   "metadata": {},
   "source": [
    "Q9. Write a code to print odd numbers from 1 to 100 using list comprehension."
   ]
  },
  {
   "cell_type": "code",
   "execution_count": 64,
   "id": "a1b1f9a3-1477-4701-9ed3-2bfab7fa7082",
   "metadata": {},
   "outputs": [
    {
     "name": "stdout",
     "output_type": "stream",
     "text": [
      "[1, 3, 5, 7, 9, 11, 13, 15, 17, 19, 21, 23, 25, 27, 29, 31, 33, 35, 37, 39, 41, 43, 45, 47, 49, 51, 53, 55, 57, 59, 61, 63, 65, 67, 69, 71, 73, 75, 77, 79, 81, 83, 85, 87, 89, 91, 93, 95, 97, 99]\n"
     ]
    }
   ],
   "source": [
    "all_numbers = [num for num in range(1, 101)]\n",
    "odd_numbers = [num for num in all_numbers if num % 2 != 0]\n",
    "print(odd_numbers)\n"
   ]
  },
  {
   "cell_type": "code",
   "execution_count": null,
   "id": "a55f0aca-6cc1-4c69-93da-1269433b8cc1",
   "metadata": {},
   "outputs": [],
   "source": []
  }
 ],
 "metadata": {
  "kernelspec": {
   "display_name": "Python 3 (ipykernel)",
   "language": "python",
   "name": "python3"
  },
  "language_info": {
   "codemirror_mode": {
    "name": "ipython",
    "version": 3
   },
   "file_extension": ".py",
   "mimetype": "text/x-python",
   "name": "python",
   "nbconvert_exporter": "python",
   "pygments_lexer": "ipython3",
   "version": "3.10.8"
  }
 },
 "nbformat": 4,
 "nbformat_minor": 5
}
